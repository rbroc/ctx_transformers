{
 "cells": [
  {
   "cell_type": "code",
   "execution_count": 17,
   "metadata": {},
   "outputs": [],
   "source": [
    "import glob\n",
    "import json\n",
    "import gzip\n",
    "import seaborn as sns\n",
    "from matplotlib import pyplot as plt\n",
    "import numpy as np"
   ]
  },
  {
   "cell_type": "code",
   "execution_count": 18,
   "metadata": {},
   "outputs": [],
   "source": [
    "train_path = glob.glob('../reddit/data/json/agg/3_random/*/*')\n",
    "n_posts = []\n",
    "avg_score = []\n",
    "avg_comm = []\n",
    "for idx, f in enumerate(train_path):\n",
    "    d = json.load(gzip.open(f))\n",
    "    n_posts += [i['n_posts'] for i in d]\n",
    "    avg_score += [i['avg_score'] for i in d]\n",
    "    avg_comm += [i['avg_comm'] for i in d]"
   ]
  },
  {
   "cell_type": "code",
   "execution_count": 49,
   "metadata": {},
   "outputs": [
    {
     "name": "stdout",
     "output_type": "stream",
     "text": [
      "Number of posts per day\n",
      "min: 0.00686, max: 255.47051, mean: 0.0, median: 0.01646\n",
      ".1-spaced quantiles: [0.00823, 0.0096, 0.01097, 0.01372, 0.01646, 0.02058, 0.02606, 0.03429, 0.0535]\n",
      "\n",
      "\n",
      "Average upvotes\n",
      "min: 0.0, max: 15177.33333, mean: 18.0, median: 6.5\n",
      ".1-spaced quantiles: [2.2, 3.07692, 4.0, 5.06667, 6.5, 8.5, 11.67857, 17.5, 32.6]\n",
      "\n",
      "\n",
      "Average nr comments\n",
      "min: 0.0, max: 31372.55229, mean: 11.0, median: 8.18182\n",
      ".1-spaced quantiles: [3.84615, 5.07692, 6.1, 7.1, 8.18182, 9.47368, 11.16667, 13.72556, 19.0]\n",
      "\n",
      "\n"
     ]
    }
   ],
   "source": [
    "name = ['Number of posts per day', 'Average upvotes', 'Average nr comments']\n",
    "for idx, l in enumerate([n_posts, avg_score, avg_comm]):\n",
    "    print(name[idx])\n",
    "    print(f'min: {np.round(np.min(l),5)}, max: {np.round(np.max(l),5)}, '\n",
    "          f'mean: {np.round(np.mean(l))}, median: {np.round(np.median(l),5)}')\n",
    "    print(f'.1-spaced quantiles: {[a for a in np.round(np.quantile(l, np.arange(.1, 1, .1)),5)]}')\n",
    "    print('\\n')"
   ]
  },
  {
   "cell_type": "code",
   "execution_count": 47,
   "metadata": {},
   "outputs": [
    {
     "data": {
      "image/png": "[encoded data removed]",
      "text/plain": [
       "<Figure size 360x360 with 1 Axes>"
      ]
     },
     "metadata": {
      "needs_background": "light"
     },
     "output_type": "display_data"
    }
   ],
   "source": [
    "sns.displot(avg_score, kind='kde')\n",
    "plt.xlim(0,1000)\n",
    "plt.show()"
   ]
  },
  {
   "cell_type": "code",
   "execution_count": 48,
   "metadata": {},
   "outputs": [],
   "source": [
    "# Remove and/or transform?"
   ]
  },
  {
   "cell_type": "code",
   "execution_count": null,
   "metadata": {},
   "outputs": [],
   "source": []
  }
 ],
 "metadata": {
  "kernelspec": {
   "display_name": "dl_test",
   "language": "python",
   "name": "dl_test"
  },
  "language_info": {
   "codemirror_mode": {
    "name": "ipython",
    "version": 3
   },
   "file_extension": ".py",
   "mimetype": "text/x-python",
   "name": "python",
   "nbconvert_exporter": "python",
   "pygments_lexer": "ipython3",
   "version": "3.8.5"
  }
 },
 "nbformat": 4,
 "nbformat_minor": 4
}
