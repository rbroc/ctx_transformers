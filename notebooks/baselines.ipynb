{
 "cells": [
  {
   "cell_type": "markdown",
   "metadata": {},
   "source": [
    "## BoW baseline\n",
    "Computing baselines (training tokenizer on first 10 batches) on 50 batches."
   ]
  },
  {
   "cell_type": "markdown",
   "metadata": {},
   "source": [
    "### Imports"
   ]
  },
  {
   "cell_type": "code",
   "execution_count": 1,
   "metadata": {},
   "outputs": [
    {
     "name": "stderr",
     "output_type": "stream",
     "text": [
      "Using TensorFlow backend.\n"
     ]
    }
   ],
   "source": [
    "import gzip\n",
    "import json\n",
    "from keras.preprocessing.text import Tokenizer\n",
    "import glob\n",
    "import numpy as np\n",
    "from multiprocessing import Pool\n",
    "import itertools\n",
    "import spacy\n",
    "import pandas as pd\n",
    "import random\n",
    "import os\n",
    "import seaborn as sns\n",
    "from matplotlib import pyplot as plt"
   ]
  },
  {
   "cell_type": "code",
   "execution_count": 95,
   "metadata": {},
   "outputs": [],
   "source": [
    "os.environ['CUDA_VISIBLE_DEVICES'] = '-1'\n",
    "sns.set_style(\"whitegrid\")"
   ]
  },
  {
   "cell_type": "markdown",
   "metadata": {},
   "source": [
    "### Set up parameters"
   ]
  },
  {
   "cell_type": "code",
   "execution_count": 4,
   "metadata": {},
   "outputs": [],
   "source": [
    "fs = glob.glob('../reddit/data/json/triplet/1pos_1neg_random/*')"
   ]
  },
  {
   "cell_type": "code",
   "execution_count": 5,
   "metadata": {},
   "outputs": [],
   "source": [
    "t_posts = []\n",
    "for f in fs[:10]:\n",
    "    t_data = json.load(gzip.open(f))\n",
    "    for t in t_data:\n",
    "        t_posts += t['anchor']\n",
    "        t_posts += t['negative']\n",
    "        t_posts += t['positive']\n",
    "t_posts = [' '.join(t.split(' ')[:400]) for t in t_posts]"
   ]
  },
  {
   "cell_type": "code",
   "execution_count": 6,
   "metadata": {},
   "outputs": [],
   "source": [
    "def edist(v1, v2):\n",
    "    ''' Compute euclidean distance '''\n",
    "    return np.mean(np.sum(np.square(np.abs(v1-v2)), axis=1))"
   ]
  },
  {
   "cell_type": "code",
   "execution_count": 7,
   "metadata": {},
   "outputs": [],
   "source": [
    "def mandist(v1, v2):\n",
    "    ''' Compute manhattan distance '''\n",
    "    return np.mean(np.sum(np.abs(v1-v2), axis=1))"
   ]
  },
  {
   "cell_type": "code",
   "execution_count": 8,
   "metadata": {},
   "outputs": [],
   "source": [
    "def run_bow(f, tokenizer, \n",
    "            metric='euclidean', \n",
    "            mode='count',\n",
    "            subset=False):\n",
    "    metrics = []\n",
    "    lst = json.load(gzip.open(f))\n",
    "    for l in lst:\n",
    "        anchs = [' '.join(p.split(' ')[:400]) for p in l['anchor']]\n",
    "        ps = [' '.join(p.split(' ')[:400]) for p in l['positive']]\n",
    "        ns = [' '.join(p.split(' ')[:400]) for p in l['negative']]\n",
    "        if subset is not False:\n",
    "            random.shuffle(anchs)\n",
    "            anchs = anchs[:subset]\n",
    "        l_enc = tokenizer.texts_to_matrix(anchs, mode=mode)\n",
    "        l_enc_p = tokenizer.texts_to_matrix(ps, mode=mode)\n",
    "        l_enc_n = tokenizer.texts_to_matrix(ns, mode=mode)\n",
    "        l_enc = np.mean(l_enc, axis=0)\n",
    "        if metric == 'euclidean':\n",
    "            avg_pos = edist(l_enc, l_enc_p)\n",
    "            avg_neg = edist(l_enc, l_enc_n)\n",
    "        elif metric == 'manhattan':\n",
    "            avg_pos = mandist(l_enc, l_enc_p)\n",
    "            avg_neg = mandist(l_enc, l_enc_n)\n",
    "        else:\n",
    "            raise ValueError('Metric distance unknown')\n",
    "        metrics.append(int(avg_neg>avg_pos))\n",
    "    return metrics"
   ]
  },
  {
   "cell_type": "markdown",
   "metadata": {},
   "source": [
    "### Run BoW baseline (metric distance)"
   ]
  },
  {
   "cell_type": "code",
   "execution_count": 9,
   "metadata": {},
   "outputs": [],
   "source": [
    "num_words = [100, 1000, 5000]\n",
    "mdists = ['euclidean', 'manhattan']\n",
    "modes = [\"binary\", \"count\", \"tfidf\", \"freq\"]\n",
    "subset = [None, 10, 20]"
   ]
  },
  {
   "cell_type": "code",
   "execution_count": 10,
   "metadata": {},
   "outputs": [],
   "source": [
    "params = list(itertools.product(num_words, \n",
    "                                mdists, \n",
    "                                modes, \n",
    "                                subset))"
   ]
  },
  {
   "cell_type": "code",
   "execution_count": 11,
   "metadata": {},
   "outputs": [
    {
     "name": "stdout",
     "output_type": "stream",
     "text": [
      "Running BoW, (100, 'euclidean', 'binary')\n",
      "Running BoW, (100, 'euclidean', 'binary')\n",
      "Running BoW, (100, 'euclidean', 'binary')\n",
      "Running BoW, (100, 'euclidean', 'count')\n",
      "Running BoW, (100, 'euclidean', 'count')\n",
      "Running BoW, (100, 'euclidean', 'count')\n",
      "Running BoW, (100, 'euclidean', 'tfidf')\n",
      "Running BoW, (100, 'euclidean', 'tfidf')\n",
      "Running BoW, (100, 'euclidean', 'tfidf')\n",
      "Running BoW, (100, 'euclidean', 'freq')\n",
      "Running BoW, (100, 'euclidean', 'freq')\n",
      "Running BoW, (100, 'euclidean', 'freq')\n",
      "Running BoW, (100, 'manhattan', 'binary')\n",
      "Running BoW, (100, 'manhattan', 'binary')\n",
      "Running BoW, (100, 'manhattan', 'binary')\n",
      "Running BoW, (100, 'manhattan', 'count')\n",
      "Running BoW, (100, 'manhattan', 'count')\n",
      "Running BoW, (100, 'manhattan', 'count')\n",
      "Running BoW, (100, 'manhattan', 'tfidf')\n",
      "Running BoW, (100, 'manhattan', 'tfidf')\n",
      "Running BoW, (100, 'manhattan', 'tfidf')\n",
      "Running BoW, (100, 'manhattan', 'freq')\n",
      "Running BoW, (100, 'manhattan', 'freq')\n",
      "Running BoW, (100, 'manhattan', 'freq')\n",
      "Running BoW, (1000, 'euclidean', 'binary')\n",
      "Running BoW, (1000, 'euclidean', 'binary')\n",
      "Running BoW, (1000, 'euclidean', 'binary')\n",
      "Running BoW, (1000, 'euclidean', 'count')\n",
      "Running BoW, (1000, 'euclidean', 'count')\n",
      "Running BoW, (1000, 'euclidean', 'count')\n",
      "Running BoW, (1000, 'euclidean', 'tfidf')\n",
      "Running BoW, (1000, 'euclidean', 'tfidf')\n",
      "Running BoW, (1000, 'euclidean', 'tfidf')\n",
      "Running BoW, (1000, 'euclidean', 'freq')\n",
      "Running BoW, (1000, 'euclidean', 'freq')\n",
      "Running BoW, (1000, 'euclidean', 'freq')\n",
      "Running BoW, (1000, 'manhattan', 'binary')\n",
      "Running BoW, (1000, 'manhattan', 'binary')\n",
      "Running BoW, (1000, 'manhattan', 'binary')\n",
      "Running BoW, (1000, 'manhattan', 'count')\n",
      "Running BoW, (1000, 'manhattan', 'count')\n",
      "Running BoW, (1000, 'manhattan', 'count')\n",
      "Running BoW, (1000, 'manhattan', 'tfidf')\n",
      "Running BoW, (1000, 'manhattan', 'tfidf')\n",
      "Running BoW, (1000, 'manhattan', 'tfidf')\n",
      "Running BoW, (1000, 'manhattan', 'freq')\n",
      "Running BoW, (1000, 'manhattan', 'freq')\n",
      "Running BoW, (1000, 'manhattan', 'freq')\n",
      "Running BoW, (5000, 'euclidean', 'binary')\n",
      "Running BoW, (5000, 'euclidean', 'binary')\n",
      "Running BoW, (5000, 'euclidean', 'binary')\n",
      "Running BoW, (5000, 'euclidean', 'count')\n",
      "Running BoW, (5000, 'euclidean', 'count')\n",
      "Running BoW, (5000, 'euclidean', 'count')\n",
      "Running BoW, (5000, 'euclidean', 'tfidf')\n",
      "Running BoW, (5000, 'euclidean', 'tfidf')\n",
      "Running BoW, (5000, 'euclidean', 'tfidf')\n",
      "Running BoW, (5000, 'euclidean', 'freq')\n",
      "Running BoW, (5000, 'euclidean', 'freq')\n",
      "Running BoW, (5000, 'euclidean', 'freq')\n",
      "Running BoW, (5000, 'manhattan', 'binary')\n",
      "Running BoW, (5000, 'manhattan', 'binary')\n",
      "Running BoW, (5000, 'manhattan', 'binary')\n",
      "Running BoW, (5000, 'manhattan', 'count')\n",
      "Running BoW, (5000, 'manhattan', 'count')\n",
      "Running BoW, (5000, 'manhattan', 'count')\n",
      "Running BoW, (5000, 'manhattan', 'tfidf')\n",
      "Running BoW, (5000, 'manhattan', 'tfidf')\n",
      "Running BoW, (5000, 'manhattan', 'tfidf')\n",
      "Running BoW, (5000, 'manhattan', 'freq')\n",
      "Running BoW, (5000, 'manhattan', 'freq')\n",
      "Running BoW, (5000, 'manhattan', 'freq')\n"
     ]
    }
   ],
   "source": [
    "results = []\n",
    "for p in params:\n",
    "    print(f'Running BoW, {p[0], p[1], p[2]}')\n",
    "    pool = Pool(19)\n",
    "    tokenizer = Tokenizer(num_words=p[0])\n",
    "    tokenizer.fit_on_texts(t_posts)\n",
    "    res = pool.starmap(run_bow, zip(fs[10:60],\n",
    "                                    [tokenizer] * 50,\n",
    "                                    [p[1]] * 50,\n",
    "                                    [p[2]] * 50,\n",
    "                                    [p[3]] * 50))\n",
    "    chain_res =  list(itertools.chain(*res))\n",
    "    results.append((p[0], p[1], p[2], p[3],\n",
    "                    np.sum(chain_res) / len(chain_res)))\n",
    "    pd.DataFrame(results, columns=['words', 'metric',\n",
    "                                   'mode', 'subset',\n",
    "                                   'performance']).to_csv('baselines_10anchor_ds1/bow_avg_enc.txt', \n",
    "                                                          sep='\\t')\n",
    "    pool.close()\n",
    "    pool.join()"
   ]
  },
  {
   "cell_type": "markdown",
   "metadata": {},
   "source": [
    "### Other baselines"
   ]
  },
  {
   "cell_type": "markdown",
   "metadata": {},
   "source": [
    "#### Pretrained word vectors"
   ]
  },
  {
   "cell_type": "code",
   "execution_count": 13,
   "metadata": {},
   "outputs": [],
   "source": [
    "def run_w2v(f, metric='euclidean', subset=False):\n",
    "    metrics = []\n",
    "    w2v = spacy.load('en_core_web_md')\n",
    "    lst = json.load(gzip.open(f))\n",
    "    for l in lst:\n",
    "        anchs = [' '.join(p.split(' ')[:400]) for p in l['anchor']]\n",
    "        ps = [' '.join(p.split(' ')[:400]) for p in l['positive']]\n",
    "        ns = [' '.join(p.split(' ')[:400]) for p in l['negative']]\n",
    "        if subset is not False:\n",
    "            random.shuffle(anchs)\n",
    "            anchs = anchs[:subset]\n",
    "        l_enc = np.array([w2v(s).vector for s in anchs])\n",
    "        l_enc_p = np.array([w2v(s).vector for s in ps])\n",
    "        l_enc_n = np.array([w2v(s).vector for s in ns])\n",
    "        l_enc = np.mean(l_enc, axis=0)\n",
    "        if metric == 'euclidean':\n",
    "            avg_pos = edist(l_enc, l_enc_p)\n",
    "            avg_neg = edist(l_enc, l_enc_n)\n",
    "        elif metric == 'manhattan':\n",
    "            avg_pos = mandist(l_enc, l_enc_p)\n",
    "            avg_neg = mandist(l_enc, l_enc_n)\n",
    "        else:\n",
    "            raise ValueError('Metric distance unknown')\n",
    "        metrics.append(int(avg_neg>avg_pos))\n",
    "    return metrics"
   ]
  },
  {
   "cell_type": "code",
   "execution_count": 14,
   "metadata": {},
   "outputs": [],
   "source": [
    "w2vparams = list(itertools.product(mdists, \n",
    "                                   subset[1:]))"
   ]
  },
  {
   "cell_type": "code",
   "execution_count": 15,
   "metadata": {},
   "outputs": [
    {
     "name": "stdout",
     "output_type": "stream",
     "text": [
      "Running Word2Vec, ('euclidean', 10)\n",
      "Running Word2Vec, ('euclidean', 20)\n",
      "Running Word2Vec, ('manhattan', 10)\n",
      "Running Word2Vec, ('manhattan', 20)\n"
     ]
    }
   ],
   "source": [
    "results_w2v = []\n",
    "for p in w2vparams[-1:]:\n",
    "    print(f'Running Word2Vec, {p[0], p[1]}')\n",
    "    pool = Pool(19)\n",
    "    res = pool.starmap(run_w2v, zip(fs[10:60],\n",
    "                                    [p[0]] * 50,\n",
    "                                    [p[1]] * 50))\n",
    "    chain_res =  list(itertools.chain(*res))\n",
    "    results_w2v.append((p[0], p[1], \n",
    "                        np.sum(chain_res) / len(chain_res)))\n",
    "    pd.DataFrame(results_w2v, columns=['metric', \n",
    "                                       'subset',\n",
    "                                       'performance']).to_csv('baselines_10anchor_ds1/w2v_avg_enc.txt', \n",
    "                                                              sep='\\t')\n",
    "    pool.close()\n",
    "    pool.join()"
   ]
  },
  {
   "cell_type": "markdown",
   "metadata": {},
   "source": [
    "### Final notes"
   ]
  },
  {
   "cell_type": "code",
   "execution_count": 74,
   "metadata": {},
   "outputs": [],
   "source": [
    "bow_avg = pd.read_csv('baselines_10anchor_1pos_1neg_random/bow_avg_enc.txt', sep='\\t', index_col=0)\n",
    "bow = pd.read_csv('baselines_10anchor_1pos_1neg_random/bow.txt', sep='\\t', index_col=0)\n",
    "w2v_avg = pd.read_csv('baselines_10anchor_1pos_1neg_random/w2v_avg_enc.txt', sep='\\t', index_col=0)\n",
    "w2v = pd.read_csv('baselines_10anchor_1pos_1neg_random/w2v.txt', sep='\\t', index_col=0)"
   ]
  },
  {
   "cell_type": "code",
   "execution_count": 75,
   "metadata": {},
   "outputs": [],
   "source": [
    "w2v_avg['subset'] = w2v_avg['subset'].replace({np.nan: 'all'})\n",
    "w2v['subset'] = w2v['subset'].replace({np.nan: 'all'})\n",
    "w2v_avg['type'] = 'distance_from_average'\n",
    "w2v['type'] = 'average_of_distances'\n",
    "w2v['model'] = 'Word2Vec'\n",
    "w2v_avg['model'] = 'Word2Vec'\n",
    "w2v_avg['id'] = 'W2Vec_' + w2v_avg['metric'] + '_' + w2v_avg['subset'].astype(str) + '_' + w2v_avg['type']\n",
    "w2v['id'] = 'W2Vec_' + w2v['metric'] + '_' + w2v['subset'].astype(str) + '_' + w2v['type']"
   ]
  },
  {
   "cell_type": "code",
   "execution_count": 76,
   "metadata": {},
   "outputs": [],
   "source": [
    "bow_avg['subset'] = bow_avg['subset'].replace({np.nan: 'all'})\n",
    "bow['subset'] = bow['subset'].replace({np.nan: 'all'})\n",
    "bow_avg['type'] = 'distance_from_average'\n",
    "bow['type'] = 'average_of_distances'\n",
    "bow['model'] = 'BoW'\n",
    "bow_avg['model'] = 'BoW'\n",
    "bow['id'] = 'BoW_' + bow['metric'] + '_' + bow['subset'].astype(str) + '_' + bow['mode'] + '_' + \\\n",
    "            bow['words'].astype(str) + '_' +  bow['type']\n",
    "bow_avg['id'] = 'BoW_' + bow_avg['metric'] + '_' + bow_avg['subset'].astype(str) + '_' + \\\n",
    "                bow_avg['mode'] + '_' + bow_avg['words'].astype(str) + '_' +  bow_avg['type']"
   ]
  },
  {
   "cell_type": "code",
   "execution_count": 102,
   "metadata": {},
   "outputs": [],
   "source": [
    "perf = pd.concat([d[['id', 'model',\n",
    "                     'metric',\n",
    "                     'performance']] for d in [bow, bow_avg, w2v, w2v_avg]], \n",
    "                  ignore_index=True)\n",
    "perf = perf[perf['id'].str.contains('distance_from_average')]\n",
    "perf['id'] = perf['id'].apply(lambda x: '_'.join(x.split('_')[:-3]))"
   ]
  },
  {
   "cell_type": "code",
   "execution_count": 103,
   "metadata": {},
   "outputs": [
    {
     "name": "stderr",
     "output_type": "stream",
     "text": [
      "<ipython-input-103-b03fa71d3816>:1: FutureWarning: The frame.append method is deprecated and will be removed from pandas in a future version. Use pandas.concat instead.\n",
      "  perf = perf.append({'id':'distilbert-base-uncased',\n",
      "<ipython-input-103-b03fa71d3816>:6: FutureWarning: The frame.append method is deprecated and will be removed from pandas in a future version. Use pandas.concat instead.\n",
      "  perf = perf.append({'id':'bert-base-uncased',\n"
     ]
    }
   ],
   "source": [
    "perf = perf.append({'id':'distilbert-base-uncased', \n",
    "                    'model':'transformer', \n",
    "                    'metric':np.nan, \n",
    "                    'performance': .739},\n",
    "                    ignore_index=True)\n",
    "perf = perf.append({'id':'bert-base-uncased', \n",
    "                    'model':'transformer', \n",
    "                    'metric':np.nan, \n",
    "                    'performance': .71},\n",
    "                    ignore_index=True)"
   ]
  },
  {
   "cell_type": "code",
   "execution_count": 107,
   "metadata": {},
   "outputs": [
    {
     "data": {
      "image/png": "[encoded data removed]",
      "text/plain": [
       "<Figure size 1440x360 with 1 Axes>"
      ]
     },
     "metadata": {},
     "output_type": "display_data"
    }
   ],
   "source": [
    "plt.subplots(figsize=(20,5))\n",
    "sns.barplot(data=perf.sort_values(by='performance').tail(n=100),#,.tail(n=50),\n",
    "            x='id', y='performance',\n",
    "            color=\"#0073C2FF\",\n",
    "            alpha=.7)\n",
    "# plt.axhline(.5, linestyle='--', color='grey')\n",
    "plt.xticks(rotation=90)\n",
    "plt.ylim(.45,.75)\n",
    "plt.show()"
   ]
  },
  {
   "cell_type": "code",
   "execution_count": null,
   "metadata": {},
   "outputs": [],
   "source": []
  },
  {
   "cell_type": "code",
   "execution_count": null,
   "metadata": {},
   "outputs": [],
   "source": []
  }
 ],
 "metadata": {
  "kernelspec": {
   "display_name": "tw-langmod",
   "language": "python",
   "name": "tw-langmod"
  },
  "language_info": {
   "codemirror_mode": {
    "name": "ipython",
    "version": 3
   },
   "file_extension": ".py",
   "mimetype": "text/x-python",
   "name": "python",
   "nbconvert_exporter": "python",
   "pygments_lexer": "ipython3",
   "version": "3.8.10"
  }
 },
 "nbformat": 4,
 "nbformat_minor": 4
}
