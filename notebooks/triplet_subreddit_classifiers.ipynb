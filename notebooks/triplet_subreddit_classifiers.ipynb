{
 "cells": [
  {
   "cell_type": "code",
   "execution_count": 113,
   "metadata": {},
   "outputs": [],
   "source": [
    "import glob\n",
    "import json\n",
    "import gzip\n",
    "import seaborn as sns\n",
    "from matplotlib import pyplot as plt\n",
    "import numpy as np\n",
    "import os\n",
    "import pandas as pd\n",
    "import tensorflow as tf"
   ]
  },
  {
   "cell_type": "code",
   "execution_count": 114,
   "metadata": {},
   "outputs": [],
   "source": [
    "os.environ['CUDA_VISIBLE_DEVICES'] = '-1'"
   ]
  },
  {
   "cell_type": "code",
   "execution_count": 115,
   "metadata": {},
   "outputs": [],
   "source": [
    "mapping = pd.read_csv('../reddit/data/subreddits.tsv', sep='\\t')['subreddit'].to_dict()\n",
    "sns.set_style(\"whitegrid\")"
   ]
  },
  {
   "cell_type": "code",
   "execution_count": 126,
   "metadata": {},
   "outputs": [
    {
     "name": "stderr",
     "output_type": "stream",
     "text": [
      "/home/roberta/venvs/tw-langmod/lib/python3.8/site-packages/numpy/core/fromnumeric.py:3440: RuntimeWarning: Mean of empty slice.\n",
      "  return _methods._mean(a, axis=axis, dtype=dtype,\n",
      "/home/roberta/venvs/tw-langmod/lib/python3.8/site-packages/numpy/core/_methods.py:189: RuntimeWarning: invalid value encountered in double_scalars\n",
      "  ret = ret.dtype.type(ret / rcount)\n"
     ]
    }
   ],
   "source": [
    "losses = []\n",
    "for c in set(range(0,30)) - set([18]):\n",
    "    fs2 = glob.glob(f'../logs/subredd*/single_{c}/*/metrics/*/*/epoch-2/log.json')\n",
    "    for f in fs2:\n",
    "        d = json.load(open(f))\n",
    "        if 'standard_' not in f:\n",
    "            item = {'epoch': 2,\n",
    "                    'model': f.split('/')[4].split('_')[-2],\n",
    "                    'accuracy': np.mean(d['test_accuracy']),\n",
    "                    'subreddit': c,#mapping[c],\n",
    "                    'n_posts': f.split('/')[4].split('_')[-1],\n",
    "                    'subreddit_nr': c}\n",
    "            losses.append(item)\n",
    "    ldf = pd.DataFrame(losses).sort_values(by='accuracy')"
   ]
  },
  {
   "cell_type": "code",
   "execution_count": 127,
   "metadata": {},
   "outputs": [
    {
     "data": {
      "text/html": [
       "<div>\n",
       "<style scoped>\n",
       "    .dataframe tbody tr th:only-of-type {\n",
       "        vertical-align: middle;\n",
       "    }\n",
       "\n",
       "    .dataframe tbody tr th {\n",
       "        vertical-align: top;\n",
       "    }\n",
       "\n",
       "    .dataframe thead th {\n",
       "        text-align: right;\n",
       "    }\n",
       "</style>\n",
       "<table border=\"1\" class=\"dataframe\">\n",
       "  <thead>\n",
       "    <tr style=\"text-align: right;\">\n",
       "      <th></th>\n",
       "      <th>subreddit</th>\n",
       "      <th>n_posts</th>\n",
       "      <th>n_authors</th>\n",
       "    </tr>\n",
       "  </thead>\n",
       "  <tbody>\n",
       "    <tr>\n",
       "      <th>0</th>\n",
       "      <td>teenagers</td>\n",
       "      <td>494414</td>\n",
       "      <td>70541</td>\n",
       "    </tr>\n",
       "    <tr>\n",
       "      <th>1</th>\n",
       "      <td>NoStupidQuestions</td>\n",
       "      <td>276752</td>\n",
       "      <td>105854</td>\n",
       "    </tr>\n",
       "    <tr>\n",
       "      <th>2</th>\n",
       "      <td>buildapc</td>\n",
       "      <td>268232</td>\n",
       "      <td>109713</td>\n",
       "    </tr>\n",
       "    <tr>\n",
       "      <th>3</th>\n",
       "      <td>FortNiteBR</td>\n",
       "      <td>235181</td>\n",
       "      <td>66522</td>\n",
       "    </tr>\n",
       "    <tr>\n",
       "      <th>4</th>\n",
       "      <td>unpopularopinion</td>\n",
       "      <td>196890</td>\n",
       "      <td>81467</td>\n",
       "    </tr>\n",
       "    <tr>\n",
       "      <th>...</th>\n",
       "      <td>...</td>\n",
       "      <td>...</td>\n",
       "      <td>...</td>\n",
       "    </tr>\n",
       "    <tr>\n",
       "      <th>363134</th>\n",
       "      <td>FreeKarmaForU3</td>\n",
       "      <td>1</td>\n",
       "      <td>1</td>\n",
       "    </tr>\n",
       "    <tr>\n",
       "      <th>363135</th>\n",
       "      <td>cryptoliberators</td>\n",
       "      <td>1</td>\n",
       "      <td>1</td>\n",
       "    </tr>\n",
       "    <tr>\n",
       "      <th>363136</th>\n",
       "      <td>FreeKarmaForMemes</td>\n",
       "      <td>1</td>\n",
       "      <td>1</td>\n",
       "    </tr>\n",
       "    <tr>\n",
       "      <th>363137</th>\n",
       "      <td>cryptolobe</td>\n",
       "      <td>1</td>\n",
       "      <td>1</td>\n",
       "    </tr>\n",
       "    <tr>\n",
       "      <th>363138</th>\n",
       "      <td>00000000000000000000_</td>\n",
       "      <td>1</td>\n",
       "      <td>1</td>\n",
       "    </tr>\n",
       "  </tbody>\n",
       "</table>\n",
       "<p>363139 rows × 3 columns</p>\n",
       "</div>"
      ],
      "text/plain": [
       "                    subreddit  n_posts  n_authors\n",
       "0                   teenagers   494414      70541\n",
       "1           NoStupidQuestions   276752     105854\n",
       "2                    buildapc   268232     109713\n",
       "3                  FortNiteBR   235181      66522\n",
       "4            unpopularopinion   196890      81467\n",
       "...                       ...      ...        ...\n",
       "363134         FreeKarmaForU3        1          1\n",
       "363135       cryptoliberators        1          1\n",
       "363136      FreeKarmaForMemes        1          1\n",
       "363137             cryptolobe        1          1\n",
       "363138  00000000000000000000_        1          1\n",
       "\n",
       "[363139 rows x 3 columns]"
      ]
     },
     "execution_count": 127,
     "metadata": {},
     "output_type": "execute_result"
    }
   ],
   "source": [
    "pd.read_csv('../reddit/data/subreddits.tsv', sep='\\t')"
   ]
  },
  {
   "cell_type": "code",
   "execution_count": 128,
   "metadata": {},
   "outputs": [
    {
     "data": {
      "image/png": "[encoded data removed]",
      "text/plain": [
       "<Figure size 576x504 with 2 Axes>"
      ]
     },
     "metadata": {},
     "output_type": "display_data"
    }
   ],
   "source": [
    "f, ax = plt.subplots(figsize=(8,7), nrows=2, ncols=1)\n",
    "for i, c in enumerate(['1','10']):\n",
    "    sns.barplot(data=ldf[ldf['n_posts']==c], \n",
    "                x='subreddit', y='accuracy', \n",
    "                hue='model', \n",
    "                palette=[\"#0073C2FF\", \"#EFC000FF\", \"#FC4E07\"],\n",
    "                ax=ax[i], \n",
    "                alpha=.7)\n",
    "    ax[i].set_ylim(.5,.83)\n",
    "    ax[i].set_xticklabels(labels=ax[i].get_xticklabels(), \n",
    "                          rotation=90)\n",
    "plt.tight_layout()\n",
    "plt.show()"
   ]
  },
  {
   "cell_type": "code",
   "execution_count": null,
   "metadata": {},
   "outputs": [],
   "source": []
  }
 ],
 "metadata": {
  "kernelspec": {
   "display_name": "tw-langmod",
   "language": "python",
   "name": "tw-langmod"
  },
  "language_info": {
   "codemirror_mode": {
    "name": "ipython",
    "version": 3
   },
   "file_extension": ".py",
   "mimetype": "text/x-python",
   "name": "python",
   "nbconvert_exporter": "python",
   "pygments_lexer": "ipython3",
   "version": "3.8.10"
  }
 },
 "nbformat": 4,
 "nbformat_minor": 4
}
