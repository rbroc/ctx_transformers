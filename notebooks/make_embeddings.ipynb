{
 "cells": [
  {
   "cell_type": "code",
   "execution_count": 36,
   "metadata": {},
   "outputs": [],
   "source": [
    "from reddit.utils import load_tfrecord\n",
    "from reddit import BatchTransformer\n",
    "from transformers import TFDistilBertModel\n",
    "import umap\n",
    "import tensorflow as tf\n",
    "from sklearn.preprocessing import StandardScaler\n",
    "import glob\n",
    "import pandas as pd\n",
    "import gzip\n",
    "import os\n",
    "from reddit.utils import triplet_transform\n",
    "os.environ['CUDA_VISIBLE_DEVICES'] = '-1'\n",
    "import json"
   ]
  },
  {
   "cell_type": "markdown",
   "metadata": {},
   "source": [
    "Read in the data"
   ]
  },
  {
   "cell_type": "code",
   "execution_count": 2,
   "metadata": {},
   "outputs": [],
   "source": [
    "fs = sorted(glob.glob('../reddit/data/datasets/triplet/1pos_1neg_random/test/*'))[:1]\n",
    "fs_js = sorted(glob.glob('../reddit/data/json/triplet/1pos_1neg_random/test/*'))[:1]\n",
    "data = load_tfrecord(fs, ds_type='triplet').take(1000)"
   ]
  },
  {
   "cell_type": "code",
   "execution_count": 3,
   "metadata": {},
   "outputs": [],
   "source": [
    "els = []\n",
    "for fj in fs_js:\n",
    "    els += json.load(gzip.open(fj))"
   ]
  },
  {
   "cell_type": "code",
   "execution_count": 4,
   "metadata": {},
   "outputs": [],
   "source": [
    "author_ids = [i['author_id'].numpy() for i in data]"
   ]
  },
  {
   "cell_type": "code",
   "execution_count": 5,
   "metadata": {},
   "outputs": [],
   "source": [
    "els_sorted = []\n",
    "for a in author_ids:\n",
    "    els_sorted.append([e for e in els if e['author_id']==a][0])"
   ]
  },
  {
   "cell_type": "markdown",
   "metadata": {},
   "source": [
    "Get the model in place"
   ]
  },
  {
   "cell_type": "code",
   "execution_count": 6,
   "metadata": {},
   "outputs": [],
   "source": [
    "base = '../logs/triplet/1anchor/standard/checkpoint/'\n",
    "base2 = '../logs/triplet/first_models/10anchor_1pos_1neg_random/'\n",
    "m1 = 'BatchTransformer-6layers-nodense-noint-cls-distilbert_base_uncased/'\n",
    "m2 = 'BatchTransformer-distilbert-base-uncased/'\n",
    "loss = 'triplet_loss_margin-1.0/epoch-0/'\n",
    "model1 = base + m1 + loss\n",
    "model2 = base2 + 'checkpoint/' + m2 +  loss"
   ]
  },
  {
   "cell_type": "code",
   "execution_count": 7,
   "metadata": {},
   "outputs": [],
   "source": [
    "cp = tf.train.latest_checkpoint(model1)\n",
    "cp2 = tf.train.latest_checkpoint(model2)"
   ]
  },
  {
   "cell_type": "code",
   "execution_count": 35,
   "metadata": {},
   "outputs": [],
   "source": [
    "def _make_model(weights):\n",
    "    basic = BatchTransformer(transformer=TFDistilBertModel,\n",
    "                             pretrained_weights='distilbert-base-uncased')\n",
    "    if weights is not None:\n",
    "        basic.load_weights(weights)\n",
    "    return weights"
   ]
  },
  {
   "cell_type": "markdown",
   "metadata": {},
   "source": [
    "Preprocess the dataset and encode"
   ]
  },
  {
   "cell_type": "code",
   "execution_count": 18,
   "metadata": {},
   "outputs": [],
   "source": [
    "data_prepped1 = triplet_transform(data, \n",
    "                                  pad_to=[10,1,1],\n",
    "                                  batch_size=4, \n",
    "                                  n_anchor=1)\n",
    "data_prepped10 = triplet_transform(data, \n",
    "                                   pad_to=[10,1,1],\n",
    "                                   batch_size=4, \n",
    "                                   n_anchor=10)"
   ]
  },
  {
   "cell_type": "code",
   "execution_count": null,
   "metadata": {},
   "outputs": [],
   "source": [
    "model = _make_dataset(weights=cp) # cp2, None"
   ]
  },
  {
   "cell_type": "code",
   "execution_count": null,
   "metadata": {},
   "outputs": [],
   "source": [
    "res1 = []\n",
    "for d in data_prepped1.take(40): \n",
    "    res1.append(t1(d)[:,0,:])\n",
    "arr = tf.concat(res1, axis=0).numpy()\n",
    "df = pd.DataFrame(arr)\n",
    "df['text'] = [e['anchor'][0] for e in els_sorted[:160]]\n",
    "#df.to_csv('data/model_10anchor_single.csv', index=False)"
   ]
  },
  {
   "cell_type": "code",
   "execution_count": null,
   "metadata": {},
   "outputs": [],
   "source": [
    "# Potentially implement with others"
   ]
  },
  {
   "cell_type": "markdown",
   "metadata": {},
   "source": [
    "PCA and plot in plotly"
   ]
  },
  {
   "cell_type": "code",
   "execution_count": 63,
   "metadata": {},
   "outputs": [
    {
     "data": {
      "application/vnd.plotly.v1+json": {
       "config": {
        "plotlyServerURL": "https://plot.ly"
       },
       "data": [
        {
         "customdata": [
          [
           "Is it possible to transfer STW from acount to another<br> account?<br>"
          ],
          [
           "So I got a new Dell inspiron 15 3000 and<br> I want to give her a name, just don't know<br> what I want. I'm going to probably end up covering<br> her in anime stickers over time so that might help.<br> She's my new laptop for school.<br>"
          ],
          [
           "Is anyone interested in meeting up on June 9 for<br> Reddit day?<br>"
          ],
          [
           "Currently living in NYC, and was looking at some of<br> the newer Brompton 2017 models. Is it worth it to<br> sell/trade in my current bike and add a little cash<br> to get one of the newer 3 gearing Bromptons? My<br> only concern with this bike is the weight. I find<br> it extremely difficult still even to go up and down<br> walk-ups and I find it quite heavy to navigate and<br> carry this bike around in small areas of a lot<br> of NYC restaurants. Are the newer versions lighter? Should I<br> look to try to de-weight my current brompton or try<br>"
          ],
          [
           "Wanting to see how realistic this rough Itinerary is and<br> I'm looking for some extra suggestions for places to go.<br> It's my first time going to Japan and we're going<br> as a group of 10, with one of us being<br> to Japan before and another one of us knowing Japanese.<br> Most of us is over legal drinking age with 3<br> of us being a minor. edit: sorry for putting the<br> Itinerary in a screenshot, I'm pretty terrible with reddit text<br> formatting. edit2: Itinerary in body of text: edit3: put in<br> destination of arrival and departure August 5th: Leave and travel<br>"
          ],
          [
           "I just upgraded to a Kindle Oasis 2. It looks<br> like the amazon folio case is not for sale any<br> more on accounts that it sucks. But that begs the<br> question. What is the best kindle Oasis 2 case? I<br> see Moko is one of the most popular. Anyone try<br> it? Any other suggestions? I want to protect my precious.<br>"
          ],
          [
           "whenever i listen to cabinet man i can't stop hearing<br> i can't pp at one part<br>"
          ],
          [
           "I stopped talking to my Nmom two years ago after<br> I tried to kill myself. She acted exactly how I<br> expected her, same with Nbrother, and I told the nurses<br> I didn't want to see them. My life has gotten<br> so much better and I feel like I have finally<br> found a peaceful path forward. The problem is that she<br> keeps crying to strangers about how much she loves and<br> misses me and convinces them to text me, or she<br> will text my friends, make accounts on social media to<br> stalk me, etc. I made everything private, blocked her where<br>"
          ],
          [
           "Not sure if I am missing something about summoning sickness,<br> the stack or what targets are valid. I played bounty<br> agent, passed turn. During opponents turn they cast lightning strike<br> on bounty agent. They had a Search for Azcanta up<br> (but not turned) Search for Azcanta is a legendary enchantment,<br> shouldn't bounty agent be able to tap, sac in response<br> to the lightning strike and destroy it? Let me know<br> what I'm missing!<br>"
          ],
          [
           "we should have a wizard of oz skadi skin where<br> skadi is dorothy and kaldr is toto. when she dies<br> she could say she got me, and my little dog<br> too<br>"
          ],
          [
           "Hello! I’m trying to build a Monte Carlo simulation based<br> on Geometric Brownian Motion as in https://i.imgur.com/3l0l6wm.jpg I’ve calculated monthly<br> log returns and derived the monthly volatility of said log<br> returns starting from daily prices data. My doubt is, in<br> this case the correct delta t to be used in<br> the formula would be 1 right? I’ve only recently started<br> to wrap my mind on this concepts, any help would<br> be greatly appreciated!<br>"
          ],
          [
           "https://imgur.com/a/SwaJYL0 \\^Pictures here &#x200B; Age: 26 Sex: F Height: 5'9<br> Weight: 128 lb Race: Caucasian Duration of complaint: 6 months<br> Location: Texas Location on body: throat (and sinuses?) Existing medical<br> issues: described below &#x200B; Around July 2018 my girlfriend had<br> a bad cold and flew on a plane without any<br> decongestants. She experienced extreme pressure in her ears and sinuses.<br> After she returned she began to feel material breaking up/dissolving<br> in her sinuses and draining into her throat. She said<br>"
          ],
          [
           "My computer has blue screened 4 × 2 day I<br> have recently installed and M and got to SS city<br> and gotten rid of my old 1TB hard drives but<br> the odd thing is is that it also blue screen<br> before I installed the new hard drive and changed anything<br> it's giving me some error codes but I can't remember<br> the codes for them but it required me to restart<br> in and said there was a hardware problem acquiring the<br> memory to be fixed I do not know what's going<br> on any ideas?<br>"
          ],
          [
           "It’s been 3 years since an update to ff7 on<br> iOS. It could use 2x speed and other improvements. Would<br> love to see some more support while bringing it to<br> various platforms.<br>"
          ],
          [
           "I just want a healthy relationship with food. I am<br> either starving myself for weeks on end or binging on<br> 5000+ cal of absolute junk/whatever is in the house. I<br> just to be able to sit at the table and<br> eat a meal without it triggering a crisis. My department<br> Xmas party is next week. We're going out for dinner.<br> My target is to eat a normal portion of food,<br> in company, in a new place. It's fucking terrifying.<br>"
          ],
          [
           "I've got the smartthings-mqtt-bridge installed and running on my raspberry<br> pi, but I'm unable to get it to work with<br> HA. The message I see in the log is a<br> Connection Refused. So I have to assume its because I've<br> got something not right in my configuration files. I'm using<br> the instructions here: https://github.com/stjohnjohnson/smartthings-mqtt-bridge In those instructions it says the<br> bridge has one yaml file, I assume that is the<br> _config.yaml this is in the bridges install directory. I've also<br> added a mqtt: entry my configuration.yaml file in my HA<br>"
          ],
          [
           "Troy Story.<br>"
          ],
          [
           "Hey guys I’m a silver Moira that is looking to<br> improve my skills and gameplay in Overwatch to hopefully climb<br> to Platinum. I’m posting a VOD so hopefully more experienced<br> and better players can review it and give me feedback<br> as to how I can improve and excel at my<br> role. I have a growth mindset so I am open<br> to any and all feedback that’s given and I greatly<br> appreciate anyone that takes the time to review my VOD.<br> Side note: I wasn’t able to record the voice chat<br> but there was only one other person in it so<br>"
          ],
          [
           "import turtle the purpose of this program is bind the<br> keybord with the turtle to change directions This is the<br> continuation of the Turtle game part 1 turtle.bgcolor(lightgreen) player= turtle.Turtle()<br> # Changing background color but it has to be turtle.bgcolor()<br> player.color(blue) player.shape(triangle) speed = 0 # Defining functions def turnleft():<br> player.left(30) def turnright(): player.right(30) def increasespeed(): global speed speed+=1 #<br> Binding keyword with functions turtle.listen() turtle.onkey(turnleft, a) turtle.onkey(turnright, d) turtle.onkey(increasespeed,<br>"
          ],
          [
           "My wife and I are coming to visit boys town<br> and possibly work for the organization there, I was just<br> wondering if there was anyone there who has worked, or<br> currently work for boys town. Thoughts? Also, we are coming<br> in for an interview, what kind of fun and trouble<br> to you think we can get into on a weds<br> night? We enjoy food and would love to try something<br> special for omaha and your best beer and/or spirits! Thank<br> you in advance! We are coming from California, but I<br> lived in Montana for a while so it shouldn't be<br>"
          ],
          [
           "Gold cards are exciting and all but it's the bronzes<br> that make the backbone of any deck. Golds are the<br> easiest to implement because these are often with independent effects<br> that are easy to tweak if something doesn't work out.<br> Bronzes on the other hand need to have a lot<br> of synergy with various silvers and bronzes. Despite being cheaper,<br> bronzes actually take more effort and thought to ~~create~~ make.<br> Besides, the game gets more costlier overall when just new<br> golds are added. I hope this doesn't become a pattern.<br>"
          ],
          [
           "Anyone here try the Athalonz golf shoe? I just saw<br> them on Mr short game’s latest YouTube video and they<br> apparently are supposed to help your footwork and “add 20<br> yards” which sounds like a load of crap. Anyone wear<br> them and how do they compare to other spikeless shoes<br> like the Tour360 in terms of comfort and grip? Thanks<br>"
          ],
          [
           "I believe this was posted before, shortly after SOE was<br> released. But now that the new album has had a<br> chance to settle, and both are being played on tour,<br> I've revisited the idea of a Songs of Innocence +<br> Experience combination album. Which tracks would make the cut if<br> you had control? For me, it would be something like<br> this: 1. Love Is All We Have Left 2. The<br> Miracle (Of Joey Ramone) 3. Red Flag Day 4. Cedarwood<br> Road 5. Sleep Like a Baby Tonight 6. Summer of<br> Love 7. Song for Someone 8. Iris (Hold Me Close)<br>"
          ],
          [
           "Hey all, i’ve been using razer products for a while<br> now, loved my naga trinity but it’s too heavy for<br> me and causes wrist fatigue. as a gift, my dad<br> got me the Viper. i love the shape and weight<br> but i have one major issue. i’m a palm grip<br> and cannot stop accidentally hitting the right side buttons with<br> my pinkie. now, despite him being willing to buy me<br> a model O instead, i’d hate to seem ungrateful and<br> just be that guy. any idea how i can prevent<br> hitting these? i’ve disabled them but it’s just an annoyance,<br>"
          ],
          [
           "So my iPad is starting to kick the bucket and<br> I attempted to back up all my stuff by my<br> laptop won’t let me back up. The only option I<br> get is restore. Anyone know what’s wrong?<br>"
          ],
          [
           "Nobody, not even my loan officer can help me understand<br> the portion that says down payment/funds from borrower. We are<br> doing 100% financing so there is no down payment. What<br> is funds from borrower? I understand how the number is<br> calculated, but I can't get a clear answer on the<br> definition of funds from borrower. Can anyone please simplify this<br> for me? I am in Tennessee.<br>"
          ],
          [
           "I have owned a rental property (single family dwelling) for<br> 6 years. I'm very much over owning it and I<br> want out. I will own another house by the time<br> I can get rid of this property. I'm curious as<br> to what happens to any profit I would make from<br> the sale. What happens when taxes roll around? How do<br> they tax this profit? Are there any weird fees I<br> have to pay before or after the sale? Some details:<br> I own the rental property alone. I get possession of<br> my new house with my wife September 27th. My tenants<br>"
          ],
          [
           "We all can agree that sooner or later there will<br> be a huge crash where a majority of the projects<br> will be proven to be not needed or overtaken. When<br> the crash occurs, many people will lose a large portion<br> of their portfolio not realizing that all this profit is<br> nothing unless liquidated. So what is your exit strategy before<br> getting beaten by the inevitable?<br>"
          ],
          [
           "Title: Recruiting - Camp Name - Server The body should<br> have the following information. 1. Mayor 2. Language 3. Age<br> of Camp 4. Period of Camp 4. Taxes 5. Members<br> 6. Requirements 7. Anything else you’d like to add.<br>"
          ],
          [
           "Leave a comment<br>"
          ],
          [
           "I'm fairly new to the game and I was wondering<br> if there is a easier way to level up, get<br> heroes ect thanks<br>"
          ],
          [
           "I'm new to Reddit so idk how long these are<br> supposed to be or if there's a limit but here's<br> a story my grandma told me before she passed. My<br> great grandmother and her 4 kids and husband were on<br> a road trip from Missouri to California and had been<br> on the road all day, they decided that once it<br> was dark they'd find a spot to park and sleep<br> until morning came. They finally settled in front of a<br> park with a portapotty in it, well it was about<br> 2-3 am and my great grampa woke up and had<br> to take a piss so he walked over to the<br>"
          ],
          [
           "Here are some of mine: Jordan dunks from the free<br> throw line The Logo Bird and Magic Carter on Weis<br>"
          ],
          [
           "He's now a seasoned veteran.<br>"
          ],
          [
           "Like the title says, I’m a long time Fifa player<br> and I’m tired of the franchise. Always been a huge<br> Ravens fan, so I’m thinking about picking up Madden 20.<br> I’ve heard very mixed reviews, so I ask you r/madden<br> should I buy this year?<br>"
          ],
          [
           "Olof baiting the crowd reaction for that wall bang information<br> just shows how much information can be given away by<br> the crowd.<br>"
          ],
          [
           "I have noticed that how easy it is for people<br> to accept life , which to be honest is a<br> mess (unless you are wealthy or something). Also I was<br> looking at population demographics , humans breed a lot (for<br> most people that is their life achievement) .Reduce the population<br> to like 2 billion or less and we would have<br> reduced demand and expenditure of resources , given the species<br> I am talking about , that's gonna be tough to<br> achieve. People are slavish , give them rations and allow<br> them to breed and they will be happy slaves. Then<br>"
          ],
          [
           "I've dealt with suicidal thoughts since middle school. I've never<br> self-harmed but I think about it often. I didn't see<br> much of my parents for a lot of my life.<br> My older sister and I were babysat by a family<br> friend who had three daughters. My sister and the three<br> would cast me out since I was the only boy.<br> When my sister hit high school, she was my primary<br> caregiver when my parents would work. She would bully me<br> incessantly. Hitting me the metal rod of a cleaning brush,<br> pouring water on me when I would fall asleep anywhere<br>"
          ],
          [
           "Maybe this opinion will be very unpopular, but it seems<br> like even in the media now people are very forgiving<br> to Williams. But, notably, the murders stopped after he was<br> arrested. This seems nontrivial. I understand it is innocent until<br> proven guilty but this raises interesting questions like: what I<br> think vs. the formalities of our justice system. Do people<br> think he was guilty? And what do you think the<br> shows opinion about it was? Or do you think it<br> tried to stay neutral? Do you think Holden was confident<br>"
          ],
          [
           "Just wondering what stores are the best to be on<br> the look out for clothing. I will be walking around<br> NYC on black friday but I have no idea where<br> to go. I usually browse H&M and AE but I<br> want to try new clothing but I dont really know<br> much brands after that. Probably going to look at casual<br> wear, boots, maybe one or two pieces of formal and<br> that's it. Any suggestions for places would be helpful thank<br> you!<br>"
          ],
          [
           "This happened today and i plan to bring it up<br> and talk to her tomorrow so wish me luck. Also,<br> I am on mobile so apologies for any formatting wonks.<br> Here is some background: I'm in charge of a Halloween<br> Party for this school that I work at. This whole<br> month I have been organizing activities for the party and<br> for these past few years we have had a Haunted<br> maze set up by my coworker ( We'll call her<br> Sally). We block off a classroom we have and Sally<br> gets her guy friend to set up the walls to<br> the maze each time and sets the whole thing up<br>"
          ],
          [
           "This is probably my favourite Logic lyric , gives me<br> back shivers whenever I hear it. It generally makes me<br> feel happy and warm. &#x200B; &#x200B; &#x200B; BUT THIS AINT<br> A LOVE SONG.<br>"
          ],
          [
           "Edit: I got the job!!!!!! I have had a job<br> offer to play Jesse Pinkman at a Breaking themed bar/club.<br> The job entails working behind bar in character as Jesse<br> during the week and hosting themed semi-scripted parties and events<br> on weekends. Other than learning the American accent (I'm English)<br> what would you recommend any advice welcome from acting prompts,<br> common catch/phrases, clothing or anything else. Thanks in advance<br>"
          ],
          [
           "2,000 5.56 for 500 caps 500 .308 for 125 caps<br> Sell me both in one deal and I’ll throw in<br> an extra 100 caps to save the hassle.<br>"
          ],
          [
           "Hi all, quick question about the Scout specialty's level 1<br> ability and its Stratagem: * The level 1 Scout ability<br> allows a model to re-roll Advance rolls. * The level<br> 1 Scout stratagem allows a Scout to either add 2<br> to their movement or re-roll Advance rolls. Is the second<br> part of the stratagem redundant, or am I completely missing<br> something (beside p20 where is says that nothing can be<br> re-rolled twice)? Thanks in advance<br>"
          ],
          [
           "I have been training with level 9 CPUs, but they<br> seemed to be a lot easier in the last game<br> I played, brawl. Is it just me, or has anyone<br> else noticed it?<br>"
          ],
          [
           "Looking for a Magpul ACS Mil-Spec stock & Troy Modular<br> grip, BOTH in FDE Looking to pay roughly $30-$45 each<br> G&S shipped, can maybe go a little higher but not<br> much, because then I’d rather buy new.<br>"
          ],
          [
           "Ever since the 1904 main release to public my boot<br> animation for my 1X where it shows the scorpio engine<br> laggs and stutters badly. Also the UI seems a bit<br> less responsive & the shutdown process to actually switching off<br> takes longer than usual. Anyone else have these issues since<br> 1904 ? Is it fixed in the preview 1905 builds<br> or is my 1X gonna die soon...<br>"
          ],
          [
           "Nobody is biting with selling them. I'm out of state<br> and wont be there regardless. PM me if you want<br> them. I dont want them to go to waste. First<br> come first serve<br>"
          ],
          [
           "I don't know if postgres support questions are allowed here.<br> But I have a problem running postgres in a docker<br> container, perhaps someone can help. PostgreSQL is running in a<br> Docker container. The host system is Ubuntu 18.04.3. Every time<br> I execute some SQL in PostgreSQL I get this: /var/lib/pgsql/.role.sh:<br> not found Anyone have any idea possible idea why, the<br> sql code seems to work anyway but it is annoying<br> the *** out of me? See details at superuser question<br> linked below. https://superuser.com/questions/1492894/why-do-i-get-error-var-lib-pgsql-role-sh-not-found-from-postgres-in-docker#1492894<br>"
          ],
          [
           "Hello! I've been bleeding after sex and had very minor<br> pelvic pain pretty consistently for the past year so I<br> just went and got my first ever Pap smear to<br> make sure that everything was okay. The nurse said that<br> my cervix looked really splotchy and it turns out that<br> I have abnormal cells. She said that the cells are<br> most likely no big deal and could be anything from<br> inflammation to HPV. She then said to get another pap<br> in a year but that no further action was required<br> at this time. I'm only 24 so I know I'm<br>"
          ],
          [
           "Can scientists spice it up a little bit?<br>"
          ],
          [
           "Just got a pair of 6XX, and I'm looking for<br> a darker/warmer bassy counterpart. I had to EQ the 6XX<br> highs down a bit for comfort, so I'm looking for<br> something a little easier on the ears. More of a<br> liquidy lush sound with good sub bass extension. I still<br> want solid mids, I'm not looking for v-shape or anything,<br> and just enough clear treble to hear and not fear.<br> I'd rather the bass isn't too punchy, and doesn't bleed<br> into the mids or anything. A bigger soundstage would be<br> nice, but not necessary. I already have an ifi idsd<br>"
          ],
          [
           "I’m from the Bay Area planning to go for the<br> fest preferably weekend 2. I’d like to join a group<br> of fellow festival goers who are open and welcoming. If<br> you have accommodation spots available hit me up.<br>"
          ],
          [
           "thank you<br>"
          ],
          [
           "Subscribers: 51<br>"
          ],
          [
           "That's all. I dont have a real meaningful conversation starter<br> One time I was in a match with Zackscott in<br> a splatfest and his team obliterated mine. Not really what<br> I hoped for<br>"
          ],
          [
           "I'm planning on buying a hunter, I've currently only got<br> Hell Ember. I'm thinking of either Geisha, Wu Chang, or<br> waiting until Joseph/Photographer is released. Could someone help me out<br> with pros and cons? :)<br>"
          ],
          [
           "My friend broke his wrist yesterday so how is he<br> supposed to clap those alien cheeks!?!?<br>"
          ],
          [
           "Title.<br>"
          ],
          [
           "I just started the program. I am in shape, and<br> recently completed a half marathon. I signed up for Tough<br> Mudder in July, and thought this would be a good<br> way to build up upper body strength. I found the<br> PDFS online for free, and saw that though they suggest<br> doing HIIT workouts, they don't specify when. Two questions: 1.<br> When do you do HIIT? 2. How should I incorporate<br> long distance running, if at all -- what do others<br> do? I technically only need about 3 months to rebuild<br> long distance endurance, and TM isn't a full 10 mile<br>"
          ],
          [
           "I asked her (Sarah Werner from Girl in Space /<br> Write Now podcasts) what she would say about being a<br> successful podcaster and her response surprised me, but I think<br> a lot of people here would maybe find inspiration from<br> it. Time Stamped https://soundcloud.com/jordan-seps/failing-on-purpose#t=56:28 If you want the full episode<br> https://soundcloud.com/jordan-seps/failing-on-purpose<br>"
          ],
          [
           "I finally moved to the area permanently and it’s time<br> to transfer over my cars. I have a 2006 and<br> a 2013. Any idea how much they will be? Just<br> so I don’t get sticker shock when I show up<br> at the DMV. Their website is great on pretty much<br> everything but that.<br>"
          ],
          [
           "In a conversation with John Flagg (might have been on<br> the Clinical Athlete podcast) he had pointed out that my<br> training style is very similar to the training style of<br> many weightlifters. To be honest I have never thought about<br> that before. Weightlifting is the yacht club of the strength<br> sports; I don’t want my reputation being destroyed by that<br> getting out there. https://precisionpowerlifting.wordpress.com/2019/08/01/f-your-accessory-work/?fbclid=IwAR0QLugltbHHRRjZPDgx6G6udbxGK-Q7C7oA0DvyKoopYkMM-HCkip2WKZs<br>"
          ],
          [
           "I was wondering if I'm able to transfer a world<br> from original tekxit to tekxit 3, I have a lot<br> accomplished and don't want to lose all my progress.<br>"
          ],
          [
           "My mum, myself and my younger brother applied for indefinite<br> leave to remain in may 2016. We waited a whole<br> year after the standard service time before we contacted the<br> Homeoffice for an update. We were told that a decision<br> hasn't been made and that they were not able to<br> tell us when a decision will be reached. The next<br> step we took was contacting our local MP, they contacted<br> the Homeoffice and was told the same thing we were<br> told. It's been 3 years since we applied and still<br> can't get an update. Also, in I'm in the process<br>"
          ],
          [
           "Did some updates on my 5k iMac and now my<br> blackmagic raw footage is has pink over it. Is something<br> offline? What does the pink mean in da Vinci?<br>"
          ],
          [
           "I started taking Lexapro in November. I knew I wanted<br> to stay on it while pregnant because I have a<br> history of PPD. While it's been helpful for my mood<br> swings, I think it's been making my cycles longer. I<br> used to have 24 day cycles. Seems like each month<br> since I've been on it my cycle has increased by<br> a day. It's been driving me nuts since I'm TTC.<br> Right now I'm on CD 28, bfn on FRERs, and<br> hoping AF is on her way so I can just<br> get onto the next cycle. My OB and psychiatrist don't<br> think much of it but I'm curious if anyone else<br>"
          ],
          [
           "Hello everyone. I have a class where I have to<br> build a website. The problem is, I need to build<br> a desktop program for the administrator too. I do not<br> want to program the same thing twice so, I want<br> to make my rails application, run on windows, without all<br> the installing and setting up. It is suggested to use<br> JSP and Java with Swing but I'd rather swallow a<br> rock. I found enclose.io and it seems very interesting. Has<br> anybody used it for something like this? Thank you.<br>"
          ],
          [
           "A while back I started making a Doppel build and<br> was following some kind of guide which I can't find<br> anymore. It's probably extremely outdated since it was when Carter<br> Stroke was overpowered (or that's what I remember people saying).<br> Now I have no idea where to go with this<br> character after the changes within the past two years or<br> so but this is what I have so far. I'm<br> at Swordsman 1 - Highlander 1 - Barbarian 3: (Highlander)<br> https://i.imgur.com/JkInVbg.png (Swordsman) https://i.imgur.com/oLa19QY.png (Barbarian) https://i.imgur.com/FXkELFV.png What should I do? Is<br>"
          ],
          [
           "So I decided to save money and cancel my PS4<br> Pro order. I have a good enough PC now that<br> I'm sure could run MHW with ease. It's just the<br> wait is killing me. I watch those streamer on Twitch<br> are having fun, and I, I want to kill some<br> monster too! At this point I dont even care that<br> I'm getting the content spoiled to me, I cant play<br> but at least I'm watching those people play. So for<br> you guys hunter out there, be it veteran or newbie,<br> I hope you guys have fun, and may desire sensor<br> God give his blessing upon you.<br>"
          ],
          [
           "I used this in my game a few weeks back<br> and I wanted to share it with you all. My<br> players were camping for the night in the trees at<br> the edge of a field. During the night, the ranger<br> on watch heard movement in the trees. They prepared for<br> an attack and waited. They heard the steps moving around<br> the trees, almost circling their camp. The ranger woke up<br> the rest of the party and they readied also. And<br> then.... Silence. No footsteps, no movement, nothing. They waited and<br> waited and finally went back to sleep. The next morning,<br>"
          ],
          [
           "hello fellow frank fanatics!! few nights ago an artist named<br> Slyrex dropped his new album called Unravel and you can<br> feel the influences from our boy. In a track called<br> VA (track 6) there’s even a frank interpolation and he<br> mentions our boy by name 👀 i think it’s pretty<br> fucking amazing and does the king some justice. check it<br> out! slyrex EDIT: If this was me i would 100%<br> be taking credit for it 😂 i’ve done videos for<br> him in the past<br>"
          ],
          [
           "I'm currently away from the UK trying to stream sky<br> sports (a UK only stream) on my phone using a<br> VPN. It worked fine over WiFi but now I'm on<br> the road and using data it won't work. Anyone know<br> of any way to get it working? Thanks<br>"
          ],
          [
           "Hi guys! Looking to build my first PC. Very top<br> of my max budget is $1k but if I can<br> spend less, I’d like to. My main games I play<br> are League of Legends and Dota. I may branch out<br> to something like Overwatch on my pc possibly. Thank you!!<br>"
          ],
          [
           "How do you store scarves, if placing them in boxes<br> folded Konmari-style isn't a current option? If you hang them,<br> what type of hanger do you use?<br>"
          ],
          [
           "My daughter, age 7, is in 2nd grade. She has<br> started constantly lying. She has rarely lied in the past<br> (just the usual I didn't do that from time to<br> time) but in the last 2 months it has become<br> a constant thing. She lies to her teacher about books<br> she read so she can take the test. Due to<br> the test being multiple choice she usually passes and gets<br> credit for work she did not do. We have discussed<br> this with the teacher, who seems unconcerned. She also constantly<br> asks her friends for money or toys. I believe she<br>"
          ],
          [
           "The other day I was watching re-runs of Arthur on<br> Youtube and in the episode Arthur's Big Hit he hits<br> his little sister D.W. for breaking his model airplane...in the<br> episode he gets punched by Binky at school as his<br> Karma and learns his lesson. Well in the Youtube comments<br> everyone thought that D.W. deserved to be murdered, hit, etc.<br> and while those comments were ridiculous I at first chalked<br> it up to Youtube comments being shitty as usual...however on<br> r/videos the comments are even....more grotesque...there are redditors saying that<br>"
          ],
          [
           "I finally bit the bullet and decided to get a<br> new controller- my first Elite broke a few months ago<br> (the right trigger completely broke), and my second Elite has<br> been getting progressively worse- loose thumbsticks, occasional stick drift, SIGNIFICANT<br> dead zones in both the thumbsticks that I was constantly<br> combatting via adjusting ramp rates and ranges in the Xbox<br> Accessories app (with mixed results), and the triggers and bumpers<br> were starting to show signs of the same failure that<br> I had with my first one, as well as face<br>"
          ],
          [
           "Title. that's it.<br>"
          ],
          [
           "Can you transfer to health sci in second year with<br> a general life sci first year (no anatomy or health<br> sci courses)? Or do you just follow the life sci<br> stream for physiology? I’m pretty confused by the flow charts<br> and planners on mosaic<br>"
          ],
          [
           "In the process of buying an older house that we<br> plan on doing some updating too. We had the house<br> inspected by both an inspector and a structural engineer. Neither<br> had any real concerns but one of the things the<br> SE mentioned was the foundation slab appears to be shallow<br> and if we plan on making the basement a living<br> space we'd need to insulate from the outside. Really having<br> trouble finding a price range for this. Any one have<br> experience with doing this to an existing structure? the house<br> is about 26'wide x 62' long and has dirt along<br>"
          ],
          [
           "Recently I'm having problems with my fornite for some reason<br> sometimes it looks like fps drop and the game isn't<br> smooth as it used to be, I keep looking on<br> fps and it doesn't drop when that happens , rarely<br> I see a fps drop from 60 fps. I have<br> lowered settings to the max and it still lags I<br> play fullscreen. For some reason this started to happening and<br> the game doesn't feel right to me I would appreciate<br> some help and Do you have the same problems ?<br> I don't think it's ping problems because previously I didn't<br>"
          ],
          [
           "This is a question I guess I’ve always struggled with.<br> I’ve always felt that God was upset with me or<br> merely tolerated me. Does He love everyone corporately or everyone<br> individually and specially? Are there limits? Does God love those<br> in Hell? This is probably a dumb question but I<br> really appreciate an answer.<br>"
          ],
          [
           "What an amazing first 10 days in the pool! Found<br> 5 blocks in last 36 hours!! Seems Legit - http://pool.seems-legit.com/<br> Check out our BRAND NEW UI Why mine with us?<br> - Strong and growing crypto community - http://www.seems-legit.com/ - Active<br> discord community & mods providing technical support - https://discord.gg/kHXC5Q7 -<br> US based servers - PPLNS payout system, rewards continuous miners<br> - 0.5&#37; fees to cover infrastructure costs (as we grow<br> fees will likely reduce) - 1 GH/s+ rate so far<br> - 10 minute payout (after block confirmation) and Low 0.01<br>"
          ],
          [
           "So I thought about using this stack for possible ADD<br> and depression symptoms. 5g Creatin 200 mg L-Theanin / 100mg<br> Coffein CDP-Choline not sure on the dosage<br>"
          ],
          [
           "female 22 250 pounds so my legs have been very<br> shaky and tremor a lot, but it’s mostly an internal<br> tremor. when i’m standing sometimes it feels like i’m going<br> to fall over. i’ve been able to see my veins<br> a lot more clearly, i’m not sure if that’s relevant<br> or not. my right hand cramps up a lot and<br> hurts until i rest and then it feels better. most<br> of these happen at night and my legs act up<br> the worst when i’m resting or sitting. also i have<br> had phantom smells. is this something i should ask my<br> doctor about?<br>"
          ],
          [
           "I would love if you covered the Galapagos Server sometime.<br> I've heard and seen that there are a lot of<br> interesting builds there and also areas with very interesting environmental<br> effects, such as volcanos, deep oceans and a lot of<br> flora potential. The most amazing thing about Galapagos is probably<br> that animals don't really spec in defense because it took<br> a while for the developers to fix a bug that<br> banned human players from the server. Just a thought! /RambowInt,<br> Lvl 13 Elk, European Server, Scandinavian subserver<br>"
          ],
          [
           "Personally, I find the comedic value of posts showing bugs<br> in Bethesda games to be more or less non-existent, because<br> they're expected them to be flawed and unpolished. Also, they're<br> posted relatively frequently. Perhaps there is basis for a discussion<br> on whether rule #5 should include (some) Bethesda games too?<br> This is just my two cents, so please don't take<br> offense if you enjoy them. All in all, I think<br> this sub is great and I like the idea behind<br> it.<br>"
          ],
          [
           "I'm wondering if any other DM's use random % chance<br> events in their campaigns at all? I know just about<br> everything in the game should be controlled by the player's<br> ability (ability checks, saving throws etc.) but what if you<br> just want to spice up combat with some unpredictable variation?<br> I had an idea for a character with a magical<br> whip that was made of a long arcane serpent, and<br> I wanted to say that there was a 50% chance<br> his whip attacks would deal a certain amount of poison<br> damage as well. I think this would be fun for<br>"
          ],
          [
           "She told me that some weird guy was running around<br> looking for someone named Gavin while she was walking to<br> the saloon. When she stepped inside she overheard someone having<br> a conversation where one of the NPCs was being referred<br> to as Gavin. She did not initiate a conversation with<br> said NPC, instead she tried to go outside to look<br> for the crazy guy and tell him. She got distracted<br> and went clothes shopping instead. I think the trick to<br> finding Gavin might be to run to the saloon once<br> you find the crazy dude and listen to the ambient<br>"
          ],
          [
           "Among just trying to navigate through life in general I’ve<br> been looking for a therapist and one of the questions<br> I’ve been asking before I book is if they’ve worked<br> with nonmonogamous couples before... the last therapist I worked with<br> did not make me feel open in talking about it.<br> This was the last response I got: “Hi u/patty-l I<br> am sorry I am not accepting new patients right now.<br> Even so, you might not have liked working with me<br> because, while I have no ‘judgement’ at all, about non-monogamous<br>"
          ],
          [
           "Years ago when I first met my husband I thought<br> it would be great to spend an afternoon with my<br> now MIL. I’d had a great relationship with my previous<br> MIL so I was wanting that. One Saturday my BF<br> (now DH) was out of town for his brothers something<br> at Westpointe and I had a wedding to go to<br> downtown, not far from where MIL lives. I figured it<br> was a perfect opportunity to get to know MIL. The<br> visit started out great. We had a little wine and<br> small talk getting to know each other. Then she started<br>"
          ],
          [
           "This will be my first certification test ever and am<br> pretty nervous. I've taken an A+ class at my community<br> college and did pretty well but I know this is<br> different. &#x200B; So far I have I have a deluxe<br> edition 901+902 study guide by comptia/sybex that I've been using<br> for the majority of my study. I'm sure there's also<br> some other great study material out there someone else might<br> know of that could be a major help. If you<br> guys have any tips or any thing to help me<br> study it would be greatly appreciated! Trying to get it<br>"
          ],
          [
           "Hi guys, is there any way i can find players<br> that can be bought paying the release fee? All players<br> that my scouts find, once i try to buy the<br> team informs that they will not sell... Is there any<br> workaround for this? I am playing with Crawley from English<br> fourth division. Thx<br>"
          ],
          [
           "So in True caller/EMUI (my previous phone) every phone call<br> from a contact is a separate entry. In true caller<br> this is an option called group by number if you<br> call contact X at 2pm its a, separate entry from<br> calling X at 7pm. In Xiaomi's Dialer App. Every contact<br> only has 1 entry (latest entry) and the rest is<br> in the call history I want to unmerge those entries,<br> i don't want only 1 entry for each contact. Is<br> there a way?<br>"
          ],
          [
           "I'm not able to take stimulants due to them causing<br> my anxiety levels to skyrocket. In fact, I can't even<br> really drink most forms of caffeine without feeling miserable. I'm<br> currently prescribed 0.25 - 0.5 of xanax as needed, but<br> if I avoid caffeine and try and keep myself busy,<br> I don't need it every day. My doctor wanted to<br> me try Strattera as it's a non-stimulant. He started me<br> at 17mg for a week and then increased that to<br> 40mg. I've been taking it for about 3 weeks total.<br> However, the side effects I've been experiencing are the opposite<br>"
          ],
          [
           "Every night at around 2am I wake up to hear<br> loud groaning noises coming from Anton’s house on King’s Road.<br> Normally I’d assume he’s getting some but after losing his<br> penis in the lawnmower incident a few months ago I<br> don’t know what to think.<br>"
          ],
          [
           "Hi folks! I was wondering people's experience with IUD paired<br> with a big tool. I'm on nexplanon, and I'm currently<br> on my 22nd day of my period. Usually it's been<br> 13 days or so per time. And this is the<br> last year of the implant, so I'm frankly sick and<br> tired of it... I can see why it's such a<br> successful preventative. I don't have sex on it... So was<br> thinking perhaps an IUD would be a better option. Problem<br> is my bf is quite long, and definitely will be<br> pushing beyond the cervix when we have sex. Won't it<br>"
          ],
          [
           "Were there any characters in the comics that could lie<br> with Wonder Woman's lasso around them?<br>"
          ],
          [
           "A few days ago, it had just occurred to me<br> that next year it'll actually be ten whole years that<br> I've been doing music, and it's just incredibly insane to<br> me. It feels like so little has happened between then<br> and now, and I feel like I've progressed so quickly.<br> I also noticed that I can make references to people<br> who are younger than me, and they won't understand them.<br> And the nostalgic moments feel like they were such a<br> long time ago, but it's only been a couple of<br> years!<br>"
          ],
          [
           "(On mobile) She bought the car for $750 and in<br> the messages between the seller(G) and buyer(T), G states he<br> would give the money back if the car stopped working<br> and T couldn’t get it to run(stayed in Facebook messages).<br> Well T was stranded because the car wouldn’t work and<br> towed it to a mechanic. Mechanic could fix the car<br> to make it run but advised T that it was<br> unsafe to drive because the entire frame was rusted out.<br> Does T have any small claims chances in this situation?<br>"
          ],
          [
           "We’ve all worked at that place that didn’t really have<br> a training manual where you’ve had to learn as you<br> go or ask the right questions. So what are those<br> questions? For example, shift times, opening duties, closing duties, where<br> to park, specials, etc.<br>"
          ],
          [
           "Curious what yall are using, and your general opinions on<br> the best bagged soil? Im currently mixing one bag happy<br> frog, one bag ocean forest, and one bag of light<br> warrior. I'm using that mixture for established plants. Been working<br> good, but I'm ready to elevate!<br>"
          ],
          [
           "My mom wanted to follow my diet because she saw<br> my results, but she had gastritis after trying so she's<br> a bit discouraged. She's 50 and she has had gastritis<br> once (thirty years ago) before. Does anyone have any experience<br> with this?<br>"
          ],
          [
           "I’ve been running with my old dual core i3 6100,<br> and I’m thinking of snagging the i5 9600k as it’s<br> on sale for $215 on Newegg. I’ve read that the<br> processor gets hot super easily, and im not that familiar<br> with amd processors. Am I looking at the wrong processor<br> for this price range? Does it actually run that hot?<br>"
          ],
          [
           "I'm trying to create a decently powerful light fixture for<br> my longboard to use at night and came across different<br> led brands that use a strip format. I want to<br> be able to see what is on the ground ahead<br> of me about 10-15 feet and was wondering if a<br> strip light like this would be able to illuminate enough<br> of the ground for me assuming I use around 6<br> inches. They advertise about 1300 lumens/ft and if I only<br> use 6 inches that's around 650 lumens. Unfortunately I'm having<br> some issues finding the Candela and Lux information. Would that<br>"
          ],
          [
           "thats all<br>"
          ],
          [
           "Hello. I own a publishing company, which thus far, has<br> only published my own books on sheet music. I am<br> looking into options to expand to publishing books by other<br> authors. I believe my best option at this moment is<br> to create contracts based on a template or contract generator<br> (preferably the latter). Does anyone have any recommendations for where<br> to turn to for this? Thanks<br>"
          ],
          [
           "Is there any way to backsweeten my batch of mead<br> without using campden tablets? I have issues with sulfites, and<br> I don't really want to have to filter my mead<br> when I go to drink it.<br>"
          ],
          [
           "I am working on a dream sequence. Please let me<br> know how it is: Bellare saw Lybet with a golden<br> sword through her stomach but she didn’t seem to feel<br> it. She just stood there in the passing darkness looking<br> at him. Her pink-turned-red tunic whipped in the wind and<br> her once tied-up hair was down, half following the wind,<br> half sticking to her face from dried blood. He tried<br> to reach for her, but… couldn’t. A green glow emerged<br> from behind Lybet – something was coming. He could only<br> watch as the light began to take form. Do something,<br>"
          ],
          [
           "I really don't know how to explain better than that,<br> and I really don't remember what could have caused it.<br> It just started doing it one day and it has<br> been like this ever since. It's like there's an application<br> window open and the cursor just moves there and in<br> there. some (maybe useful) more info: * it happens even<br> if I close all applications * the thing, be it<br> moving the text bar, scrolling down on a webpage, or<br> just moving in a game happens properly, but the cursor<br> still jumps * the cursor window is always in the<br>"
          ],
          [
           "Item #: SCP-XXXX Object Class: [TO BE DETERMINED] Special Containment<br> Procedures: Due to the impossibility of transport, containment, or otherwise<br> any action towards the entity, SCP-XXXX is to be held<br> on-site at a joint operation center, commanded by The SCP<br> Foundation and The Horizon Initiative. The site is located in<br> modern day M██████████. Two site Directors, code named Khidr-1 and<br> Khidr-21, should remain on-site at all times and are the<br> only personnel allowed to monitor SCP- XXXX. Outside of O5-14<br>"
          ],
          [
           "Manufacturer refurbished Vega 64 just got from MSI. Last Vega<br> would not output video signal so I sent for repair,<br> MSI was not able to fix so they replaced the<br> card.I haven't opened it but they tested before sending to<br> me. Card still has until February 2021 under warranty. I<br> bought an RTX card in the meantime becuase it took<br> them weeks to replace and I got impatient, so I<br> no longer have a use for the Vega. Looking for<br> $320 shipped $300 local. Timestamp: https://imgur.com/a/Wzjbrdu<br>"
          ],
          [
           "Hi all, I've been playing Rush Wars since a day<br> after beta release, and have worked up 2.5k Stars at<br> HQ4. I'm no expert, and don't claim to have the<br> best strategies in the game, but I feel I have<br> a pretty good understanding of the general ideas and techniques<br> to get as many stars as possible (at HQ4). &#x200B;<br> # State of the Game: This is not a post<br> defending Supercell, or vice versa, but I see a lot<br> of negative posts concerning bad AI and over/underpowered cards. We<br> have to remember this is first week beta, every supercell<br>"
          ],
          [
           "I was wondering is there any kind of online resource,<br> maybe a website, a nonprofit legal help center, or some<br> organization that is focused on issues facing graduate students with<br> disabilities? Particularly those of us confronted with discrimination? First time<br> poster here. Thanks very much for your insights.<br>"
          ],
          [
           "So I heard this track maybe 2 or 3 times<br> around 2007, then never again. It was an electronic track,<br> no lyrics, around 120bpm, about 10 minutes long. It had<br> a very deep, almost nauseating bassline and a slow, dreamy/floaty<br> melody with a pronounced flanger/tremolo effect. It started out slow<br> with an arpeggio kind of sound, then the bass line<br> started and then eventually the main melody slowly faded in,<br> several minutes into the track. Not sure what genre it<br> would be. If it was a bit shorter it wouldn't<br>"
          ],
          [
           "Hi there, I am having an issue where my car<br> does not seem to be starting first time in the<br> morning. I'm suspecting a Timing Chain issue but don't want<br> to fork out the cash unless I am certain. So<br> hoping someone can help confirm my suspicions or direct me<br> to the correct issue. Having checked online the issue is<br> exactly the same as this youtube video: https://www.youtube.com/watch?v=KYUnRsSGozA First attempt<br> for me will flag the red battery icon on the<br> dashboard and after a few more attempts it will flag<br>"
          ],
          [
           "Our organization is considering getting Enterprise. We're considering SQL Server<br> for the RDBMS, but I pointed out that PostgreSQL is<br> free. Does anyone have experience as to which one is<br> better (e.g. works more seamlessly, easier to understand)? We would<br> be getting a Standard License for ArcGIS Enterprise. Let me<br> know if I can provide more details.<br>"
          ],
          [
           "I read in a thread that in 2.0, there’ll be<br> additional Tradition swaps in Supremacy if you’re Pacifist. I don’t<br> recall that from patch notes or dev streams. How do<br> we know this?<br>"
          ],
          [
           "Donald is walking out of the White House and headed<br> towards his limo when a possible assassin steps forward and<br> aims a gun. A secret service agent, new on the<br> job, shouts “Mickey Mouse!” This startles the would be assassin<br> and he is captured. Later, the secret service agent’s supervisor<br> takes him aside and asks, “What in the hell made<br> you shout Mickey Mouse?” Blushing, the agent replies, “I got<br> nervous. I meant to shout Donald duck.<br>"
          ],
          [
           "On episode 21 Krillen is fighting Bacterium. A smelly disgusting<br> guy for the preliminaries. He was losing until Goku reminded<br> him he has no nose. After remembering he had no<br> nose he stopped being disgusted by his foul odors and<br> won. Then on episode 24 Krillen is fighting Jackie Chun.<br> Things got to fast for the ref to see so<br> they graciously reenacted there moves step by step. In which<br> Jackie Chun spit at Krillen to throw him off for<br> a second, and then Krillen countered by somehow blowing his<br> boogery nose at him...<br>"
          ],
          [
           "The hubs and I had a lunch date at a<br> Greek place, and I ordered the falafel. In a few<br> moments they brought me a chicken gyro, we notified them<br> of their mistake and they took it away and brought<br> me the falafel I had requested. I know they just<br> threw the chicken gyro away, that chicken died for nothing<br> :( Which brings me to this question, do you all<br> patronize restaurants that serve meat?<br>"
          ],
          [
           "I keep having this dream. Last year, I had a<br> messy end to a friendship that in hindsight was very<br> toxic. I've had a lot of IRL trouble getting over<br> it and still do but that's not my dream and<br> not for this sub. The dream always starts with me<br> having a reason to go into her house and be<br> confronted by her again. It's usually not an exact replica<br> of her house, but she stays the same and exactly<br> how I remembered her. Sometimes I have to hide from<br> her in a crowd, and sometimes we're arguing face to<br> face. I try to tell her that she's toxic, a<br>"
          ],
          [
           "I used to use an older version of FL Studio,<br> and I upgraded not too long ago. Something I used<br> to do a lot when making beats with samples is<br> chop the sample in Edison and put it in Fruity<br> Slicer, and in there I would change the key and/or<br> shift the tempo. I never had a problem with it<br> back then but I tried to do it now on<br> this newer version of FL Studio and it seems like<br> it's really distorting the sample and making it out of<br> tune. I recorded my screen to give an example so<br> you know what I mean (sorry for the resolution) https://streamable.com/304b7<br>"
          ],
          [
           "Hello, not sure is the right place for this post,<br> but stay with me please. I graduated in May with<br> a BS in Environmental Studies. I want to work in<br> the environmental policy field, working with public policy and legislation.<br> What is the best graduate degree to attain to reach<br> this type of work? I have been looking in a<br> masters in public policy, going to law school, or something<br> like environment policy and management. Advice is much needed as<br> I want to take the appropriate test this fall to<br> apply for the fall cycle. Thanks!<br>"
          ],
          [
           "So, I read the Scar Tissue book back in 2011<br> and can’t stop thinking about how Anthony is doing in<br> terms of his sobriety. If you read the phase he<br> went through after One Hot Minute (1997), for some reason<br> the some Dark Necessities reminds me of the song “Warped”<br> and how he hided his actions from everyone in studio<br> and his personal life. I honestly hope Anthony is good.<br> Knowing that he was able to hide something so terrible<br> in plain site, the lyrics to Dark Necessities gives me<br> chills. What do you guys think?<br>"
          ],
          [
           "I just introduced this game to a friend. I love<br> the physical game, but he is more interested in playing<br> it online without having to buy cards. Does the online<br> version allow for two players to play cooperatively from different<br> computers? Also, are all cards available for play? Does the<br> collectors edition core set allow you to plat online for<br> free? It looks like the steam version is $18, so<br> I might be more interested in getting the collectors version<br> now if it includes that. Thanks!<br>"
          ],
          [
           "Hey all, I'm curious about starting a website where I'd<br> be selling print on demand t-shirts and other products with<br> various historical imagery. So for instance, a re-created drawing of<br> an Egyptian hieroglyph that I find online, and then take<br> and put on a t-shirt. Will doing this run me<br> afoul of any copy right issues? To be more specific,<br> say it's a re-created drawing of a hieroglyph that was<br> then published in a book.<br>"
          ],
          [
           "Student Study Guide and Solutions Manual for Brown/Iverson/Anslyn/Foote's Organic Chemistry,<br> 8th Edition &#x200B; ISBN-13: 978-1305864504 ISBN-10: 9781305864504 https://www.amazon.com/Student-Solutions-Iverson-Organic-Chemistry/dp/1305864506/ref=sr_1_3?ie=UTF8&qid=1541689615&sr=8-3&keywords=organic%20chemistry%20by%20brown&fbclid=IwAR1rzJibFVXZJWiu3n31d6z3DBFYmBQd1YKLaZX2FHbvXQpiG54ix5JN6IM &#x200B;<br>"
          ],
          [
           "At what age should I be looking to add a<br> second to pack? I currently own a 5 year mini-goldendoodle<br> (Indiana). He is the perfect (and first) dog for our<br> family. He is 29 lbs and 20” (?) tall. Indiana<br> has no known issues or joint problems. He goes to<br> the vet yearly and is lean. I need to exercise<br> every-day to manage my anxiety - I jog, hike, wander,<br> etc. I enjoy my time outdoors so much more (and<br> even feel safer)! I do not know when Indiana will<br> no longer to be able to keep up with all<br> of the outings. I would even push him in a<br>"
          ],
          [
           "I work for a small company of about 10 people.<br> Half are women like myself. There's a guy that comes<br> once every 2 weeks to clean the bathrooms. When they<br> first told me this, I was a little surprised but<br> thought maybe it's because it's such a small company? But<br> now me and another female coworker realized the guy that<br> cleans the bathroom has not been doing a good job.<br> Especially with the toilet, it's like he didn't even touch<br> it (ugh). Now she said she's gonna send him an<br> email for him to better clean it when he comes<br>"
          ],
          [
           "You can make as many copies of yourself as you<br> want when you reabsorb your duplicate you get all the<br> memories of what they've done. To reabsorb your double you<br> have to kill it first. And yes you will remember<br> the feeling of dying.<br>"
          ],
          [
           "So, i have 154 Phage now, and was thinking about<br> getting my first few permanent minor trait levels, but depending<br> on how they work this might be better to do<br> with more phage reserves. When I buy something like less<br> work stress and start a new run, when exactly will<br> the trait become activ? Will it be right from the<br> start, or will it only work when I get the<br> trait randomly again via gen sequencing?<br>"
          ],
          [
           "When I listen to these albums now, it immediately transports<br> me back to a specific time in my life, when<br> I was fresh out of high school, driving around with<br> my friends in my shitty little car being stupid and<br> screwing around at the mall. It might sound stupid but<br> “memories” and “can’t stop partying” really we’re our anthems back<br> then. That’s the beauty of Weezer and why in my<br> opinion they are the greatest band still around. They enjoy<br> making music and no matter what they do they always<br> seem to put out a record for that specific time<br>"
          ],
          [
           "I haven't seen anyone bring this up but what the<br> hell is going on with stores getting there PI pushed<br> back about 6 months? There are about 300 stores getting<br> there PI pushed back to post back to school around<br> October to November. What I think is going on is<br> Staples is getting ready to shut down about 300 stores,<br> that's the only reason i can come up with. Any<br> thoughts? PI = physical inventory<br>"
          ],
          [
           "Totally random coincidence, but on weds afternoon at around 3:30pm<br> I came out of the TTC elevator at the Eaton<br> center and heard screaming and shouting (heard it from the<br> lower level but couldn't tell what was going on). A<br> young guy was pulling at a shopping bag a younger<br> teen was carrying and yelling at him to let it<br> go - multiple people were yelling at him and I<br> could see maybe some people filming? I had my daughter<br> in her stroller and was trying to figure out what<br> to do when the teen gave a good pull, yelled<br>"
          ],
          [
           "www.Synthesis.gg Contact @ Synthesisdotgg@gmail.com ---------------------------------------------------------------- # Hey guys, Just wanted<br> to show off my new project that I've just pushed<br> live today called Synthesis! What is Synthesis? * Synthesis is<br> a way to watch everyone currently playing in the same<br> game instance. Currently this is NA League of Legends only<br> but soon plan to branch out to different games and<br> regions. For example: if three streamers end up in the<br> same game of League of Legends, Synthesis will provide you<br>"
          ],
          [
           "So yesterday I completed 10 deliveries and made 60$, when<br> does postmates give you the reimbursement? How long does it<br> take ?<br>"
          ],
          [
           "Anyone still active on here? Just curious<br>"
          ],
          [
           "grunting noise donates pay check to The Bernie Sanders Campaign<br> Sips 2 Litre Pepsi Makes Facebook post on why women<br> are superior Rolls Cheeto dust between fingers eats vegan avocado<br> toast for the 5th time today explains why ALL whites<br> are racist Turns on Nintendo Switch Gives job to Mexican<br> immigrants explains why weed is the silent killer adjusts chasity<br> cage watches wife have sex with another man opens reddit<br> cracks fragile fingers subtle moans “D-Drumph B-ad”<br>"
          ],
          [
           "Trixie used to refer to herself as the “crownless Drag<br> superstar” before All Stars 3. Well, now that she has<br> a crown, who do you think fits that title the<br> best? I know I’m awaking for opinions, but there is<br> really one answer: Shangela Just kidding, I’m curious to hear!<br>"
          ],
          [
           "Compared it to a smaller screen iPhone and iPad mini.<br> Comparison<br>"
          ],
          [
           "To start, I live in a city where there are<br> billboards EVERYWHERE for this dentist who makes “sexy teeth” and<br> does so “without fluoride.” A bunch of the olde, more<br> out-there people in my life are also convinced that fluoride<br> has poisoned the water supply and is bringing a plague<br> unto our houses. I read some articles and decided, what<br> the heck? Maybe I could go more natural with my<br> dental hygiene. Maybe I should go fluoride free. So, I<br> started using fluoride free toothpaste for about four months or<br>"
          ],
          [
           "It seems one of the most prominent complaints about Gambit<br> is that if the games goes on to the 3rd<br> round, it feels like it starts to drag on too<br> long. This can definitely be a slog if you are<br> going for the Breakneck or Malfeasance where you need X<br> amount of gambit completions, and each gambit match is lasting<br> from 20-30 minutes. One solution I see that could work<br> is, once the 3rd round comes along, they switch to<br> “overtime rules” and say idk, put in a 2x multiplier<br> for motes dropped by enemies. I suppose an issue from<br>"
          ],
          [
           "I'm not here to hate on this game, but I<br> will express some criticisms... &#x200B; The thing I like and<br> dislike most about this game is the fact that no<br> matter what car I'm driving I will be put in<br> races with cars of a similar type. Obviously, this prevents<br> me from getting completely blown out by hypercars if I'm<br> driving a vintage muscle car for instance. However, this very<br> thing is what keeps me from feeling any drive (no<br> pun intended) to unlock other cars. Of course, there are<br> certain cars I want to drive/own because who wouldn't but<br>"
          ],
          [
           "Does anyone wanna add me? I have a few people<br> added from this sub as well as some that my<br> friend (also from this sub) sent me via her Peach<br> contact list. My username is mozzarellamami (in reference to the<br> video of me I posted on r/proEDmemes that a lot<br> of you guys seemed to like lol). Please add me<br> and interact with me! I sometimes shut down and won’t<br> respond for a couple days but I just got out<br> of that depressive mode so if anyone wants to talk<br> or needs advice or a person to vent to about<br> ANYTHING (ED related or not) please feel free to add<br>"
          ],
          [
           "Hi, I'm 17 and am about to start community college<br> this fall. I declared my major as biology. I absolutely<br> love bio and I'm really excited about having a career<br> in it. I'm just not sure what to specify in<br> since biology is so broad and I like way too<br> many subcategories to pick just one. People ask me a<br> lot if I intend on working in the medical field<br> and my answer is always no. I see myself doing<br> lab work, although, I'm not really sure how good pay<br> is and such for that. Anyways, recently I have been<br>"
          ],
          [
           "When they hit you with “That you have the most<br> beautiful face” I die.<br>"
          ],
          [
           "Is there a good place to buy British TT scale<br> tracks online that delivers to Canada?<br>"
          ],
          [
           "Hello I have really low amount of money but i<br> want a gpu so i can play my games atleast<br> with better frames than now. Cpu:Intel Celeron G1820 2.7 Ghz<br> Gpu: Intel Hd Graphics (Yup if you think this is<br> gpu) Mobo: Asrock H81m-vg4 r2.0 ram:kingston 6 gb(2+4) 1333 mhz<br> I want to get gtx 1050ti 4 gb So will<br> i have big bottleneck until i save money for cpu,mobo?<br>"
          ],
          [
           "My badges are max. My iq is high<br>"
          ],
          [
           "So i picked up a copy of i am ><br> than i was at the store on CD, and when<br> i was listening to A Lot i realized that J<br> coles verse was removed and instead it was replaced by<br> another Savage verse. I looked online and no one seems<br> to know about this, anyone else know about this? What<br> happened????<br>"
          ],
          [
           "I once knew a man who hated puns. I told<br> him 4 puns and he didn't even smile. I told<br> him 5 more and he didn't crack. I told him<br> one final pun and... ...nothing. I'd used all the puns<br> I knew trying to make him laugh, but alas, no<br> pun in ten did.<br>"
          ],
          [
           "Hello Guys, I'm creating a file that compare the scrap<br> that have been declared in the shopfloor for different products.<br> The products where the scrap is declared are multiple but<br> many of them despite having a material code that is<br> different refer always to the same material. Is there a<br> way more effincent than using an IFS(OR() to group all<br> the similar one in macro groups with the same name<br> ?<br>"
          ],
          [
           "The Fight Take Place in King's Landing and they are<br> a few meters away. Round 1: they do not know<br> each other, Arya has Neddle ans his Valeryan Steel Dagger<br> and Mikasa has his 2 sword. Round 2: Arya has<br> his Dragonglass spear and a Bow. Mikasa his vertical maneuvering<br> equipment. 3. Both have information of the other. 4. They<br> Have Blood thirsty.<br>"
          ],
          [
           "This is more curiosity than needing help. I am wondering<br> if it is possible to create a simple Node/Express app<br> that uses Passport and JWT for login/registration for another app.<br> So authentication is handled by one app, and another app<br> uses the same JWT to protect parts of the app.<br> For example AuthApp is running on https://login.app.com main app is<br> running on https://app.com. Login route on the main app is<br> https://login.app.com which does the login, user can then browse protected<br> parts of app.com using the JWT from the AuthApp<br>"
          ],
          [
           "Next stop - Laundry!<br>"
          ],
          [
           "I noticed over the weekend, or maybe since Friday that<br> pubganalyzer was under maintenance. I figured it would be back<br> by now but it still is displaying the message. Is<br> this just a me problem, or is it working for<br> anyone else? I love this site as it provides a<br> lot of important data and is extremely well presented. PUBG<br> Analyzer &#x200B; https://i.redd.it/f6m8wsqm4re21.jpg<br>"
          ],
          [
           "I'm doing some research for my attorney (i'm a paralegal)<br> we are looking into trying to avoid probate for the<br> transfer of a business potentially into a trust in Iowa.<br> I was just wondering if there was anyone out there<br> that had worked with anything along these lines in the<br> past and had any information on the subject. Below are<br> the specific question my Attorney presented me with for the<br> research. &#x200B; The Client is 100% owner of the Professional<br> Corporation. Question: In general, what ways can a single-owned corporation<br>"
          ]
         ],
         "hovertemplate": "0=%{x}<br>1=%{y}<br>text=%{customdata[0]}<extra></extra>",
         "legendgroup": "",
         "marker": {
          "color": "#636efa",
          "symbol": "circle"
         },
         "mode": "markers",
         "name": "",
         "orientation": "v",
         "showlegend": false,
         "type": "scatter",
         "x": [
          8.628437042236328,
          7.72299861907959,
          6.061646938323975,
          8.286408424377441,
          8.116909980773926,
          7.430609703063965,
          7.157084941864014,
          9.077718734741211,
          9.03797435760498,
          6.143481254577637,
          5.786492824554443,
          8.495572090148926,
          6.574026584625244,
          7.155977249145508,
          7.978366851806641,
          5.576158046722412,
          7.522370338439941,
          7.798746109008789,
          6.324869155883789,
          5.388182640075684,
          5.801914215087891,
          9.226542472839355,
          9.037598609924316,
          8.912458419799805,
          6.476451396942139,
          5.690729141235352,
          6.795651435852051,
          8.043604850769043,
          7.689859390258789,
          9.3900785446167,
          6.475048065185547,
          5.846400260925293,
          6.701145648956299,
          6.89159631729126,
          6.330509185791016,
          6.679076671600342,
          7.314228534698486,
          8.225558280944824,
          6.442520618438721,
          9.627185821533203,
          5.123044967651367,
          6.0982441902160645,
          5.328588485717773,
          5.877657890319824,
          9.424564361572266,
          6.738832473754883,
          7.441741943359375,
          6.478545665740967,
          6.9429192543029785,
          8.237744331359863,
          7.960742950439453,
          6.775372505187988,
          7.598499774932861,
          6.618896484375,
          8.750020027160645,
          8.988128662109375,
          7.833252906799316,
          8.316937446594238,
          9.708064079284668,
          5.522968769073486,
          9.36201286315918,
          9.64159870147705,
          6.238833904266357,
          9.438411712646484,
          6.535085201263428,
          8.932584762573242,
          9.276634216308594,
          8.50041675567627,
          6.550311088562012,
          5.795951843261719,
          9.39030647277832,
          6.374484062194824,
          8.950108528137207,
          7.939427375793457,
          6.160032749176025,
          5.651356220245361,
          8.460721969604492,
          8.78352165222168,
          9.287896156311035,
          9.33294677734375,
          7.054022312164307,
          6.393675804138184,
          7.693613052368164,
          8.496126174926758,
          5.996918678283691,
          7.510377407073975,
          6.719702243804932,
          8.541204452514648,
          7.0233917236328125,
          8.068159103393555,
          6.590336799621582,
          6.879974842071533,
          9.531661033630371,
          8.298699378967285,
          8.108953475952148,
          8.608556747436523,
          8.340197563171387,
          8.210500717163086,
          5.895359992980957,
          5.472214698791504,
          7.073678970336914,
          5.455986976623535,
          7.276007175445557,
          8.755169868469238,
          5.512116432189941,
          6.135711193084717,
          6.147819519042969,
          9.280208587646484,
          9.49901294708252,
          8.432149887084961,
          7.587352275848389,
          6.240457057952881,
          5.202157020568848,
          7.511083126068115,
          9.46274471282959,
          7.559550762176514,
          6.298334121704102,
          7.804365634918213,
          9.312040328979492,
          6.1848368644714355,
          8.063390731811523,
          5.5115180015563965,
          8.358392715454102,
          8.871833801269531,
          7.721006393432617,
          8.584922790527344,
          7.6212029457092285,
          5.650872707366943,
          6.681600093841553,
          8.214058876037598,
          7.430091857910156,
          6.2867302894592285,
          7.327166557312012,
          5.70576810836792,
          8.522071838378906,
          6.61359167098999,
          7.084290504455566,
          7.404306411743164,
          8.549434661865234,
          8.16844367980957,
          8.523492813110352,
          8.279319763183594,
          7.243239879608154,
          8.725768089294434,
          9.234813690185547,
          7.760480880737305,
          7.833360195159912,
          8.6414213180542,
          7.693558692932129,
          8.855901718139648,
          5.302900791168213,
          7.9261274337768555,
          6.346827507019043,
          7.4317450523376465,
          7.333157539367676,
          9.581472396850586,
          8.49677562713623,
          7.323776721954346,
          7.315842628479004,
          9.4474458694458
         ],
         "xaxis": "x",
         "y": [
          -5.415486812591553,
          -2.545287847518921,
          -6.691228866577148,
          -7.835066318511963,
          -2.0827579498291016,
          -2.205728769302368,
          -7.461118698120117,
          -6.4119696617126465,
          -7.845108509063721,
          -5.405704975128174,
          -6.503506660461426,
          -2.7524120807647705,
          -4.772097110748291,
          -2.212285041809082,
          -4.965382099151611,
          -7.826527118682861,
          -6.935393333435059,
          -6.6627326011657715,
          -4.631616115570068,
          -5.364431381225586,
          -7.506412029266357,
          -6.839119911193848,
          -8.482276916503906,
          -8.179915428161621,
          -7.0032124519348145,
          -7.367591857910156,
          -6.917296886444092,
          -5.731723785400391,
          -3.1137256622314453,
          -8.333389282226562,
          -3.9110159873962402,
          -7.922776699066162,
          -2.3467485904693604,
          -7.715855121612549,
          -4.709878444671631,
          -5.182110786437988,
          -2.5347673892974854,
          -2.2279229164123535,
          -2.82027268409729,
          -6.720022201538086,
          -5.43083381652832,
          -4.857076168060303,
          -5.263533592224121,
          -6.58682107925415,
          -5.5974812507629395,
          -2.8213822841644287,
          -7.719594955444336,
          -7.422159194946289,
          -3.506559371948242,
          -4.7641706466674805,
          -6.888892650604248,
          -2.9855947494506836,
          -2.972334146499634,
          -2.802217721939087,
          -5.892547130584717,
          -6.084648609161377,
          -2.742175579071045,
          -5.989853382110596,
          -6.847136497497559,
          -6.949490547180176,
          -8.323122024536133,
          -7.673501968383789,
          -5.802952766418457,
          -6.387686729431152,
          -6.6583428382873535,
          -6.1161065101623535,
          -5.4607391357421875,
          -2.3325347900390625,
          -3.3032314777374268,
          -7.121717929840088,
          -8.437610626220703,
          -7.542295932769775,
          -7.908955097198486,
          -2.5565950870513916,
          -5.435845375061035,
          -6.689670562744141,
          -8.07072639465332,
          -5.673528671264648,
          -7.223561763763428,
          -8.055144309997559,
          -2.256998062133789,
          -4.106540679931641,
          -2.3730111122131348,
          -6.89741849899292,
          -7.777766227722168,
          -4.504483699798584,
          -3.23469877243042,
          -7.332019805908203,
          -7.094900608062744,
          -7.704258918762207,
          -6.616375923156738,
          -2.3959505558013916,
          -7.813827991485596,
          -2.3857851028442383,
          -7.155390739440918,
          -7.759454250335693,
          -5.373220443725586,
          -2.5426206588745117,
          -7.733748912811279,
          -7.9021382331848145,
          -5.478556156158447,
          -5.7601518630981445,
          -4.832393169403076,
          -6.202177047729492,
          -7.567572116851807,
          -7.602329730987549,
          -6.41515588760376,
          -6.73547887802124,
          -5.151943206787109,
          -7.539799690246582,
          -2.112165927886963,
          -7.3071608543396,
          -5.475837230682373,
          -4.610292434692383,
          -7.675252914428711,
          -2.5948517322540283,
          -7.951813697814941,
          -4.682312965393066,
          -6.5988569259643555,
          -4.7948408126831055,
          -7.776708126068115,
          -6.57981014251709,
          -8.246980667114258,
          -7.275787830352783,
          -3.1547791957855225,
          -3.1085143089294434,
          -5.282862663269043,
          -6.251297950744629,
          -6.564855098724365,
          -6.781348705291748,
          -5.239223957061768,
          -5.56333065032959,
          -5.943747043609619,
          -7.990605354309082,
          -2.6159512996673584,
          -3.1268019676208496,
          -5.8358354568481445,
          -4.768819808959961,
          -2.771472215652466,
          -5.92774772644043,
          -8.471192359924316,
          -7.988622665405273,
          -5.881755828857422,
          -6.94163703918457,
          -8.401278495788574,
          -2.7586379051208496,
          -7.449949264526367,
          -7.233682155609131,
          -4.310041427612305,
          -7.0367350578308105,
          -5.276651859283447,
          -8.420037269592285,
          -7.018279075622559,
          -6.691122531890869,
          -6.4057512283325195,
          -6.084799766540527,
          -7.041590690612793,
          -5.279528617858887,
          -6.855067729949951,
          -7.693460941314697
         ],
         "yaxis": "y"
        }
       ],
       "layout": {
        "autosize": true,
        "legend": {
         "tracegroupgap": 0
        },
        "margin": {
         "t": 60
        },
        "template": {
         "data": {
          "bar": [
           {
            "error_x": {
             "color": "#2a3f5f"
            },
            "error_y": {
             "color": "#2a3f5f"
            },
            "marker": {
             "line": {
              "color": "#E5ECF6",
              "width": 0.5
             },
             "pattern": {
              "fillmode": "overlay",
              "size": 10,
              "solidity": 0.2
             }
            },
            "type": "bar"
           }
          ],
          "barpolar": [
           {
            "marker": {
             "line": {
              "color": "#E5ECF6",
              "width": 0.5
             },
             "pattern": {
              "fillmode": "overlay",
              "size": 10,
              "solidity": 0.2
             }
            },
            "type": "barpolar"
           }
          ],
          "carpet": [
           {
            "aaxis": {
             "endlinecolor": "#2a3f5f",
             "gridcolor": "white",
             "linecolor": "white",
             "minorgridcolor": "white",
             "startlinecolor": "#2a3f5f"
            },
            "baxis": {
             "endlinecolor": "#2a3f5f",
             "gridcolor": "white",
             "linecolor": "white",
             "minorgridcolor": "white",
             "startlinecolor": "#2a3f5f"
            },
            "type": "carpet"
           }
          ],
          "choropleth": [
           {
            "colorbar": {
             "outlinewidth": 0,
             "ticks": ""
            },
            "type": "choropleth"
           }
          ],
          "contour": [
           {
            "colorbar": {
             "outlinewidth": 0,
             "ticks": ""
            },
            "colorscale": [
             [
              0,
              "#0d0887"
             ],
             [
              0.1111111111111111,
              "#46039f"
             ],
             [
              0.2222222222222222,
              "#7201a8"
             ],
             [
              0.3333333333333333,
              "#9c179e"
             ],
             [
              0.4444444444444444,
              "#bd3786"
             ],
             [
              0.5555555555555556,
              "#d8576b"
             ],
             [
              0.6666666666666666,
              "#ed7953"
             ],
             [
              0.7777777777777778,
              "#fb9f3a"
             ],
             [
              0.8888888888888888,
              "#fdca26"
             ],
             [
              1,
              "#f0f921"
             ]
            ],
            "type": "contour"
           }
          ],
          "contourcarpet": [
           {
            "colorbar": {
             "outlinewidth": 0,
             "ticks": ""
            },
            "type": "contourcarpet"
           }
          ],
          "heatmap": [
           {
            "colorbar": {
             "outlinewidth": 0,
             "ticks": ""
            },
            "colorscale": [
             [
              0,
              "#0d0887"
             ],
             [
              0.1111111111111111,
              "#46039f"
             ],
             [
              0.2222222222222222,
              "#7201a8"
             ],
             [
              0.3333333333333333,
              "#9c179e"
             ],
             [
              0.4444444444444444,
              "#bd3786"
             ],
             [
              0.5555555555555556,
              "#d8576b"
             ],
             [
              0.6666666666666666,
              "#ed7953"
             ],
             [
              0.7777777777777778,
              "#fb9f3a"
             ],
             [
              0.8888888888888888,
              "#fdca26"
             ],
             [
              1,
              "#f0f921"
             ]
            ],
            "type": "heatmap"
           }
          ],
          "heatmapgl": [
           {
            "colorbar": {
             "outlinewidth": 0,
             "ticks": ""
            },
            "colorscale": [
             [
              0,
              "#0d0887"
             ],
             [
              0.1111111111111111,
              "#46039f"
             ],
             [
              0.2222222222222222,
              "#7201a8"
             ],
             [
              0.3333333333333333,
              "#9c179e"
             ],
             [
              0.4444444444444444,
              "#bd3786"
             ],
             [
              0.5555555555555556,
              "#d8576b"
             ],
             [
              0.6666666666666666,
              "#ed7953"
             ],
             [
              0.7777777777777778,
              "#fb9f3a"
             ],
             [
              0.8888888888888888,
              "#fdca26"
             ],
             [
              1,
              "#f0f921"
             ]
            ],
            "type": "heatmapgl"
           }
          ],
          "histogram": [
           {
            "marker": {
             "pattern": {
              "fillmode": "overlay",
              "size": 10,
              "solidity": 0.2
             }
            },
            "type": "histogram"
           }
          ],
          "histogram2d": [
           {
            "colorbar": {
             "outlinewidth": 0,
             "ticks": ""
            },
            "colorscale": [
             [
              0,
              "#0d0887"
             ],
             [
              0.1111111111111111,
              "#46039f"
             ],
             [
              0.2222222222222222,
              "#7201a8"
             ],
             [
              0.3333333333333333,
              "#9c179e"
             ],
             [
              0.4444444444444444,
              "#bd3786"
             ],
             [
              0.5555555555555556,
              "#d8576b"
             ],
             [
              0.6666666666666666,
              "#ed7953"
             ],
             [
              0.7777777777777778,
              "#fb9f3a"
             ],
             [
              0.8888888888888888,
              "#fdca26"
             ],
             [
              1,
              "#f0f921"
             ]
            ],
            "type": "histogram2d"
           }
          ],
          "histogram2dcontour": [
           {
            "colorbar": {
             "outlinewidth": 0,
             "ticks": ""
            },
            "colorscale": [
             [
              0,
              "#0d0887"
             ],
             [
              0.1111111111111111,
              "#46039f"
             ],
             [
              0.2222222222222222,
              "#7201a8"
             ],
             [
              0.3333333333333333,
              "#9c179e"
             ],
             [
              0.4444444444444444,
              "#bd3786"
             ],
             [
              0.5555555555555556,
              "#d8576b"
             ],
             [
              0.6666666666666666,
              "#ed7953"
             ],
             [
              0.7777777777777778,
              "#fb9f3a"
             ],
             [
              0.8888888888888888,
              "#fdca26"
             ],
             [
              1,
              "#f0f921"
             ]
            ],
            "type": "histogram2dcontour"
           }
          ],
          "mesh3d": [
           {
            "colorbar": {
             "outlinewidth": 0,
             "ticks": ""
            },
            "type": "mesh3d"
           }
          ],
          "parcoords": [
           {
            "line": {
             "colorbar": {
              "outlinewidth": 0,
              "ticks": ""
             }
            },
            "type": "parcoords"
           }
          ],
          "pie": [
           {
            "automargin": true,
            "type": "pie"
           }
          ],
          "scatter": [
           {
            "marker": {
             "colorbar": {
              "outlinewidth": 0,
              "ticks": ""
             }
            },
            "type": "scatter"
           }
          ],
          "scatter3d": [
           {
            "line": {
             "colorbar": {
              "outlinewidth": 0,
              "ticks": ""
             }
            },
            "marker": {
             "colorbar": {
              "outlinewidth": 0,
              "ticks": ""
             }
            },
            "type": "scatter3d"
           }
          ],
          "scattercarpet": [
           {
            "marker": {
             "colorbar": {
              "outlinewidth": 0,
              "ticks": ""
             }
            },
            "type": "scattercarpet"
           }
          ],
          "scattergeo": [
           {
            "marker": {
             "colorbar": {
              "outlinewidth": 0,
              "ticks": ""
             }
            },
            "type": "scattergeo"
           }
          ],
          "scattergl": [
           {
            "marker": {
             "colorbar": {
              "outlinewidth": 0,
              "ticks": ""
             }
            },
            "type": "scattergl"
           }
          ],
          "scattermapbox": [
           {
            "marker": {
             "colorbar": {
              "outlinewidth": 0,
              "ticks": ""
             }
            },
            "type": "scattermapbox"
           }
          ],
          "scatterpolar": [
           {
            "marker": {
             "colorbar": {
              "outlinewidth": 0,
              "ticks": ""
             }
            },
            "type": "scatterpolar"
           }
          ],
          "scatterpolargl": [
           {
            "marker": {
             "colorbar": {
              "outlinewidth": 0,
              "ticks": ""
             }
            },
            "type": "scatterpolargl"
           }
          ],
          "scatterternary": [
           {
            "marker": {
             "colorbar": {
              "outlinewidth": 0,
              "ticks": ""
             }
            },
            "type": "scatterternary"
           }
          ],
          "surface": [
           {
            "colorbar": {
             "outlinewidth": 0,
             "ticks": ""
            },
            "colorscale": [
             [
              0,
              "#0d0887"
             ],
             [
              0.1111111111111111,
              "#46039f"
             ],
             [
              0.2222222222222222,
              "#7201a8"
             ],
             [
              0.3333333333333333,
              "#9c179e"
             ],
             [
              0.4444444444444444,
              "#bd3786"
             ],
             [
              0.5555555555555556,
              "#d8576b"
             ],
             [
              0.6666666666666666,
              "#ed7953"
             ],
             [
              0.7777777777777778,
              "#fb9f3a"
             ],
             [
              0.8888888888888888,
              "#fdca26"
             ],
             [
              1,
              "#f0f921"
             ]
            ],
            "type": "surface"
           }
          ],
          "table": [
           {
            "cells": {
             "fill": {
              "color": "#EBF0F8"
             },
             "line": {
              "color": "white"
             }
            },
            "header": {
             "fill": {
              "color": "#C8D4E3"
             },
             "line": {
              "color": "white"
             }
            },
            "type": "table"
           }
          ]
         },
         "layout": {
          "annotationdefaults": {
           "arrowcolor": "#2a3f5f",
           "arrowhead": 0,
           "arrowwidth": 1
          },
          "autotypenumbers": "strict",
          "coloraxis": {
           "colorbar": {
            "outlinewidth": 0,
            "ticks": ""
           }
          },
          "colorscale": {
           "diverging": [
            [
             0,
             "#8e0152"
            ],
            [
             0.1,
             "#c51b7d"
            ],
            [
             0.2,
             "#de77ae"
            ],
            [
             0.3,
             "#f1b6da"
            ],
            [
             0.4,
             "#fde0ef"
            ],
            [
             0.5,
             "#f7f7f7"
            ],
            [
             0.6,
             "#e6f5d0"
            ],
            [
             0.7,
             "#b8e186"
            ],
            [
             0.8,
             "#7fbc41"
            ],
            [
             0.9,
             "#4d9221"
            ],
            [
             1,
             "#276419"
            ]
           ],
           "sequential": [
            [
             0,
             "#0d0887"
            ],
            [
             0.1111111111111111,
             "#46039f"
            ],
            [
             0.2222222222222222,
             "#7201a8"
            ],
            [
             0.3333333333333333,
             "#9c179e"
            ],
            [
             0.4444444444444444,
             "#bd3786"
            ],
            [
             0.5555555555555556,
             "#d8576b"
            ],
            [
             0.6666666666666666,
             "#ed7953"
            ],
            [
             0.7777777777777778,
             "#fb9f3a"
            ],
            [
             0.8888888888888888,
             "#fdca26"
            ],
            [
             1,
             "#f0f921"
            ]
           ],
           "sequentialminus": [
            [
             0,
             "#0d0887"
            ],
            [
             0.1111111111111111,
             "#46039f"
            ],
            [
             0.2222222222222222,
             "#7201a8"
            ],
            [
             0.3333333333333333,
             "#9c179e"
            ],
            [
             0.4444444444444444,
             "#bd3786"
            ],
            [
             0.5555555555555556,
             "#d8576b"
            ],
            [
             0.6666666666666666,
             "#ed7953"
            ],
            [
             0.7777777777777778,
             "#fb9f3a"
            ],
            [
             0.8888888888888888,
             "#fdca26"
            ],
            [
             1,
             "#f0f921"
            ]
           ]
          },
          "colorway": [
           "#636efa",
           "#EF553B",
           "#00cc96",
           "#ab63fa",
           "#FFA15A",
           "#19d3f3",
           "#FF6692",
           "#B6E880",
           "#FF97FF",
           "#FECB52"
          ],
          "font": {
           "color": "#2a3f5f"
          },
          "geo": {
           "bgcolor": "white",
           "lakecolor": "white",
           "landcolor": "#E5ECF6",
           "showlakes": true,
           "showland": true,
           "subunitcolor": "white"
          },
          "hoverlabel": {
           "align": "left"
          },
          "hovermode": "closest",
          "mapbox": {
           "style": "light"
          },
          "paper_bgcolor": "white",
          "plot_bgcolor": "#E5ECF6",
          "polar": {
           "angularaxis": {
            "gridcolor": "white",
            "linecolor": "white",
            "ticks": ""
           },
           "bgcolor": "#E5ECF6",
           "radialaxis": {
            "gridcolor": "white",
            "linecolor": "white",
            "ticks": ""
           }
          },
          "scene": {
           "xaxis": {
            "backgroundcolor": "#E5ECF6",
            "gridcolor": "white",
            "gridwidth": 2,
            "linecolor": "white",
            "showbackground": true,
            "ticks": "",
            "zerolinecolor": "white"
           },
           "yaxis": {
            "backgroundcolor": "#E5ECF6",
            "gridcolor": "white",
            "gridwidth": 2,
            "linecolor": "white",
            "showbackground": true,
            "ticks": "",
            "zerolinecolor": "white"
           },
           "zaxis": {
            "backgroundcolor": "#E5ECF6",
            "gridcolor": "white",
            "gridwidth": 2,
            "linecolor": "white",
            "showbackground": true,
            "ticks": "",
            "zerolinecolor": "white"
           }
          },
          "shapedefaults": {
           "line": {
            "color": "#2a3f5f"
           }
          },
          "ternary": {
           "aaxis": {
            "gridcolor": "white",
            "linecolor": "white",
            "ticks": ""
           },
           "baxis": {
            "gridcolor": "white",
            "linecolor": "white",
            "ticks": ""
           },
           "bgcolor": "#E5ECF6",
           "caxis": {
            "gridcolor": "white",
            "linecolor": "white",
            "ticks": ""
           }
          },
          "title": {
           "x": 0.05
          },
          "xaxis": {
           "automargin": true,
           "gridcolor": "white",
           "linecolor": "white",
           "ticks": "",
           "title": {
            "standoff": 15
           },
           "zerolinecolor": "white",
           "zerolinewidth": 2
          },
          "yaxis": {
           "automargin": true,
           "gridcolor": "white",
           "linecolor": "white",
           "ticks": "",
           "title": {
            "standoff": 15
           },
           "zerolinecolor": "white",
           "zerolinewidth": 2
          }
         }
        },
        "xaxis": {
         "anchor": "y",
         "autorange": true,
         "domain": [
          0,
          1
         ],
         "range": [
          4.833099990643583,
          9.998009056292453
         ],
         "title": {
          "text": "0"
         },
         "type": "linear"
        },
        "yaxis": {
         "anchor": "x",
         "autorange": true,
         "domain": [
          0,
          1
         ],
         "range": [
          -8.977777728884238,
          -1.587257137448769
         ],
         "title": {
          "text": "1"
         },
         "type": "linear"
        }
       }
      },
      "image/png": "[encoded data removed]",
      "text/html": [
       "<div>                            <div id=\"cc9f2167-4f23-4698-a24d-16afb04d0f81\" class=\"plotly-graph-div\" style=\"height:525px; width:100%;\"></div>            <script type=\"text/javascript\">                require([\"plotly\"], function(Plotly) {                    window.PLOTLYENV=window.PLOTLYENV || {};                                    if (document.getElementById(\"cc9f2167-4f23-4698-a24d-16afb04d0f81\")) {                    Plotly.newPlot(                        \"cc9f2167-4f23-4698-a24d-16afb04d0f81\",                        [{\"customdata\":[[\"Is it possible to transfer STW from acount to another<br> account?<br>\"],[\"So I got a new Dell inspiron 15 3000 and<br> I want to give her a name, just don't know<br> what I want. I'm going to probably end up covering<br> her in anime stickers over time so that might help.<br> She's my new laptop for school.<br>\"],[\"Is anyone interested in meeting up on June 9 for<br> Reddit day?<br>\"],[\"Currently living in NYC, and was looking at some of<br> the newer Brompton 2017 models. Is it worth it to<br> sell/trade in my current bike and add a little cash<br> to get one of the newer 3 gearing Bromptons? My<br> only concern with this bike is the weight. I find<br> it extremely difficult still even to go up and down<br> walk-ups and I find it quite heavy to navigate and<br> carry this bike around in small areas of a lot<br> of NYC restaurants. Are the newer versions lighter? Should I<br> look to try to de-weight my current brompton or try<br>\"],[\"Wanting to see how realistic this rough Itinerary is and<br> I'm looking for some extra suggestions for places to go.<br> It's my first time going to Japan and we're going<br> as a group of 10, with one of us being<br> to Japan before and another one of us knowing Japanese.<br> Most of us is over legal drinking age with 3<br> of us being a minor. edit: sorry for putting the<br> Itinerary in a screenshot, I'm pretty terrible with reddit text<br> formatting. edit2: Itinerary in body of text: edit3: put in<br> destination of arrival and departure August 5th: Leave and travel<br>\"],[\"I just upgraded to a Kindle Oasis 2. It looks<br> like the amazon folio case is not for sale any<br> more on accounts that it sucks. But that begs the<br> question. What is the best kindle Oasis 2 case? I<br> see Moko is one of the most popular. Anyone try<br> it? Any other suggestions? I want to protect my precious.<br>\"],[\"whenever i listen to cabinet man i can't stop hearing<br> i can't pp at one part<br>\"],[\"I stopped talking to my Nmom two years ago after<br> I tried to kill myself. She acted exactly how I<br> expected her, same with Nbrother, and I told the nurses<br> I didn't want to see them. My life has gotten<br> so much better and I feel like I have finally<br> found a peaceful path forward. The problem is that she<br> keeps crying to strangers about how much she loves and<br> misses me and convinces them to text me, or she<br> will text my friends, make accounts on social media to<br> stalk me, etc. I made everything private, blocked her where<br>\"],[\"Not sure if I am missing something about summoning sickness,<br> the stack or what targets are valid. I played bounty<br> agent, passed turn. During opponents turn they cast lightning strike<br> on bounty agent. They had a Search for Azcanta up<br> (but not turned) Search for Azcanta is a legendary enchantment,<br> shouldn't bounty agent be able to tap, sac in response<br> to the lightning strike and destroy it? Let me know<br> what I'm missing!<br>\"],[\"we should have a wizard of oz skadi skin where<br> skadi is dorothy and kaldr is toto. when she dies<br> she could say she got me, and my little dog<br> too<br>\"],[\"Hello! I\\u2019m trying to build a Monte Carlo simulation based<br> on Geometric Brownian Motion as in https://i.imgur.com/3l0l6wm.jpg I\\u2019ve calculated monthly<br> log returns and derived the monthly volatility of said log<br> returns starting from daily prices data. My doubt is, in<br> this case the correct delta t to be used in<br> the formula would be 1 right? I\\u2019ve only recently started<br> to wrap my mind on this concepts, any help would<br> be greatly appreciated!<br>\"],[\"https://imgur.com/a/SwaJYL0 \\\\^Pictures here &#x200B; Age: 26 Sex: F Height: 5'9<br> Weight: 128 lb Race: Caucasian Duration of complaint: 6 months<br> Location: Texas Location on body: throat (and sinuses?) Existing medical<br> issues: described below &#x200B; Around July 2018 my girlfriend had<br> a bad cold and flew on a plane without any<br> decongestants. She experienced extreme pressure in her ears and sinuses.<br> After she returned she began to feel material breaking up/dissolving<br> in her sinuses and draining into her throat. She said<br>\"],[\"My computer has blue screened 4 \\u00d7 2 day I<br> have recently installed and M and got to SS city<br> and gotten rid of my old 1TB hard drives but<br> the odd thing is is that it also blue screen<br> before I installed the new hard drive and changed anything<br> it's giving me some error codes but I can't remember<br> the codes for them but it required me to restart<br> in and said there was a hardware problem acquiring the<br> memory to be fixed I do not know what's going<br> on any ideas?<br>\"],[\"It\\u2019s been 3 years since an update to ff7 on<br> iOS. It could use 2x speed and other improvements. Would<br> love to see some more support while bringing it to<br> various platforms.<br>\"],[\"I just want a healthy relationship with food. I am<br> either starving myself for weeks on end or binging on<br> 5000+ cal of absolute junk/whatever is in the house. I<br> just to be able to sit at the table and<br> eat a meal without it triggering a crisis. My department<br> Xmas party is next week. We're going out for dinner.<br> My target is to eat a normal portion of food,<br> in company, in a new place. It's fucking terrifying.<br>\"],[\"I've got the smartthings-mqtt-bridge installed and running on my raspberry<br> pi, but I'm unable to get it to work with<br> HA. The message I see in the log is a<br> Connection Refused. So I have to assume its because I've<br> got something not right in my configuration files. I'm using<br> the instructions here: https://github.com/stjohnjohnson/smartthings-mqtt-bridge In those instructions it says the<br> bridge has one yaml file, I assume that is the<br> _config.yaml this is in the bridges install directory. I've also<br> added a mqtt: entry my configuration.yaml file in my HA<br>\"],[\"Troy Story.<br>\"],[\"Hey guys I\\u2019m a silver Moira that is looking to<br> improve my skills and gameplay in Overwatch to hopefully climb<br> to Platinum. I\\u2019m posting a VOD so hopefully more experienced<br> and better players can review it and give me feedback<br> as to how I can improve and excel at my<br> role. I have a growth mindset so I am open<br> to any and all feedback that\\u2019s given and I greatly<br> appreciate anyone that takes the time to review my VOD.<br> Side note: I wasn\\u2019t able to record the voice chat<br> but there was only one other person in it so<br>\"],[\"import turtle the purpose of this program is bind the<br> keybord with the turtle to change directions This is the<br> continuation of the Turtle game part 1 turtle.bgcolor(lightgreen) player= turtle.Turtle()<br> # Changing background color but it has to be turtle.bgcolor()<br> player.color(blue) player.shape(triangle) speed = 0 # Defining functions def turnleft():<br> player.left(30) def turnright(): player.right(30) def increasespeed(): global speed speed+=1 #<br> Binding keyword with functions turtle.listen() turtle.onkey(turnleft, a) turtle.onkey(turnright, d) turtle.onkey(increasespeed,<br>\"],[\"My wife and I are coming to visit boys town<br> and possibly work for the organization there, I was just<br> wondering if there was anyone there who has worked, or<br> currently work for boys town. Thoughts? Also, we are coming<br> in for an interview, what kind of fun and trouble<br> to you think we can get into on a weds<br> night? We enjoy food and would love to try something<br> special for omaha and your best beer and/or spirits! Thank<br> you in advance! We are coming from California, but I<br> lived in Montana for a while so it shouldn't be<br>\"],[\"Gold cards are exciting and all but it's the bronzes<br> that make the backbone of any deck. Golds are the<br> easiest to implement because these are often with independent effects<br> that are easy to tweak if something doesn't work out.<br> Bronzes on the other hand need to have a lot<br> of synergy with various silvers and bronzes. Despite being cheaper,<br> bronzes actually take more effort and thought to ~~create~~ make.<br> Besides, the game gets more costlier overall when just new<br> golds are added. I hope this doesn't become a pattern.<br>\"],[\"Anyone here try the Athalonz golf shoe? I just saw<br> them on Mr short game\\u2019s latest YouTube video and they<br> apparently are supposed to help your footwork and \\u201cadd 20<br> yards\\u201d which sounds like a load of crap. Anyone wear<br> them and how do they compare to other spikeless shoes<br> like the Tour360 in terms of comfort and grip? Thanks<br>\"],[\"I believe this was posted before, shortly after SOE was<br> released. But now that the new album has had a<br> chance to settle, and both are being played on tour,<br> I've revisited the idea of a Songs of Innocence +<br> Experience combination album. Which tracks would make the cut if<br> you had control? For me, it would be something like<br> this: 1. Love Is All We Have Left 2. The<br> Miracle (Of Joey Ramone) 3. Red Flag Day 4. Cedarwood<br> Road 5. Sleep Like a Baby Tonight 6. Summer of<br> Love 7. Song for Someone 8. Iris (Hold Me Close)<br>\"],[\"Hey all, i\\u2019ve been using razer products for a while<br> now, loved my naga trinity but it\\u2019s too heavy for<br> me and causes wrist fatigue. as a gift, my dad<br> got me the Viper. i love the shape and weight<br> but i have one major issue. i\\u2019m a palm grip<br> and cannot stop accidentally hitting the right side buttons with<br> my pinkie. now, despite him being willing to buy me<br> a model O instead, i\\u2019d hate to seem ungrateful and<br> just be that guy. any idea how i can prevent<br> hitting these? i\\u2019ve disabled them but it\\u2019s just an annoyance,<br>\"],[\"So my iPad is starting to kick the bucket and<br> I attempted to back up all my stuff by my<br> laptop won\\u2019t let me back up. The only option I<br> get is restore. Anyone know what\\u2019s wrong?<br>\"],[\"Nobody, not even my loan officer can help me understand<br> the portion that says down payment/funds from borrower. We are<br> doing 100% financing so there is no down payment. What<br> is funds from borrower? I understand how the number is<br> calculated, but I can't get a clear answer on the<br> definition of funds from borrower. Can anyone please simplify this<br> for me? I am in Tennessee.<br>\"],[\"I have owned a rental property (single family dwelling) for<br> 6 years. I'm very much over owning it and I<br> want out. I will own another house by the time<br> I can get rid of this property. I'm curious as<br> to what happens to any profit I would make from<br> the sale. What happens when taxes roll around? How do<br> they tax this profit? Are there any weird fees I<br> have to pay before or after the sale? Some details:<br> I own the rental property alone. I get possession of<br> my new house with my wife September 27th. My tenants<br>\"],[\"We all can agree that sooner or later there will<br> be a huge crash where a majority of the projects<br> will be proven to be not needed or overtaken. When<br> the crash occurs, many people will lose a large portion<br> of their portfolio not realizing that all this profit is<br> nothing unless liquidated. So what is your exit strategy before<br> getting beaten by the inevitable?<br>\"],[\"Title: Recruiting - Camp Name - Server The body should<br> have the following information. 1. Mayor 2. Language 3. Age<br> of Camp 4. Period of Camp 4. Taxes 5. Members<br> 6. Requirements 7. Anything else you\\u2019d like to add.<br>\"],[\"Leave a comment<br>\"],[\"I'm fairly new to the game and I was wondering<br> if there is a easier way to level up, get<br> heroes ect thanks<br>\"],[\"I'm new to Reddit so idk how long these are<br> supposed to be or if there's a limit but here's<br> a story my grandma told me before she passed. My<br> great grandmother and her 4 kids and husband were on<br> a road trip from Missouri to California and had been<br> on the road all day, they decided that once it<br> was dark they'd find a spot to park and sleep<br> until morning came. They finally settled in front of a<br> park with a portapotty in it, well it was about<br> 2-3 am and my great grampa woke up and had<br> to take a piss so he walked over to the<br>\"],[\"Here are some of mine: Jordan dunks from the free<br> throw line The Logo Bird and Magic Carter on Weis<br>\"],[\"He's now a seasoned veteran.<br>\"],[\"Like the title says, I\\u2019m a long time Fifa player<br> and I\\u2019m tired of the franchise. Always been a huge<br> Ravens fan, so I\\u2019m thinking about picking up Madden 20.<br> I\\u2019ve heard very mixed reviews, so I ask you r/madden<br> should I buy this year?<br>\"],[\"Olof baiting the crowd reaction for that wall bang information<br> just shows how much information can be given away by<br> the crowd.<br>\"],[\"I have noticed that how easy it is for people<br> to accept life , which to be honest is a<br> mess (unless you are wealthy or something). Also I was<br> looking at population demographics , humans breed a lot (for<br> most people that is their life achievement) .Reduce the population<br> to like 2 billion or less and we would have<br> reduced demand and expenditure of resources , given the species<br> I am talking about , that's gonna be tough to<br> achieve. People are slavish , give them rations and allow<br> them to breed and they will be happy slaves. Then<br>\"],[\"I've dealt with suicidal thoughts since middle school. I've never<br> self-harmed but I think about it often. I didn't see<br> much of my parents for a lot of my life.<br> My older sister and I were babysat by a family<br> friend who had three daughters. My sister and the three<br> would cast me out since I was the only boy.<br> When my sister hit high school, she was my primary<br> caregiver when my parents would work. She would bully me<br> incessantly. Hitting me the metal rod of a cleaning brush,<br> pouring water on me when I would fall asleep anywhere<br>\"],[\"Maybe this opinion will be very unpopular, but it seems<br> like even in the media now people are very forgiving<br> to Williams. But, notably, the murders stopped after he was<br> arrested. This seems nontrivial. I understand it is innocent until<br> proven guilty but this raises interesting questions like: what I<br> think vs. the formalities of our justice system. Do people<br> think he was guilty? And what do you think the<br> shows opinion about it was? Or do you think it<br> tried to stay neutral? Do you think Holden was confident<br>\"],[\"Just wondering what stores are the best to be on<br> the look out for clothing. I will be walking around<br> NYC on black friday but I have no idea where<br> to go. I usually browse H&M and AE but I<br> want to try new clothing but I dont really know<br> much brands after that. Probably going to look at casual<br> wear, boots, maybe one or two pieces of formal and<br> that's it. Any suggestions for places would be helpful thank<br> you!<br>\"],[\"This happened today and i plan to bring it up<br> and talk to her tomorrow so wish me luck. Also,<br> I am on mobile so apologies for any formatting wonks.<br> Here is some background: I'm in charge of a Halloween<br> Party for this school that I work at. This whole<br> month I have been organizing activities for the party and<br> for these past few years we have had a Haunted<br> maze set up by my coworker ( We'll call her<br> Sally). We block off a classroom we have and Sally<br> gets her guy friend to set up the walls to<br> the maze each time and sets the whole thing up<br>\"],[\"This is probably my favourite Logic lyric , gives me<br> back shivers whenever I hear it. It generally makes me<br> feel happy and warm. &#x200B; &#x200B; &#x200B; BUT THIS AINT<br> A LOVE SONG.<br>\"],[\"Edit: I got the job!!!!!! I have had a job<br> offer to play Jesse Pinkman at a Breaking themed bar/club.<br> The job entails working behind bar in character as Jesse<br> during the week and hosting themed semi-scripted parties and events<br> on weekends. Other than learning the American accent (I'm English)<br> what would you recommend any advice welcome from acting prompts,<br> common catch/phrases, clothing or anything else. Thanks in advance<br>\"],[\"2,000 5.56 for 500 caps 500 .308 for 125 caps<br> Sell me both in one deal and I\\u2019ll throw in<br> an extra 100 caps to save the hassle.<br>\"],[\"Hi all, quick question about the Scout specialty's level 1<br> ability and its Stratagem: * The level 1 Scout ability<br> allows a model to re-roll Advance rolls. * The level<br> 1 Scout stratagem allows a Scout to either add 2<br> to their movement or re-roll Advance rolls. Is the second<br> part of the stratagem redundant, or am I completely missing<br> something (beside p20 where is says that nothing can be<br> re-rolled twice)? Thanks in advance<br>\"],[\"I have been training with level 9 CPUs, but they<br> seemed to be a lot easier in the last game<br> I played, brawl. Is it just me, or has anyone<br> else noticed it?<br>\"],[\"Looking for a Magpul ACS Mil-Spec stock & Troy Modular<br> grip, BOTH in FDE Looking to pay roughly $30-$45 each<br> G&S shipped, can maybe go a little higher but not<br> much, because then I\\u2019d rather buy new.<br>\"],[\"Ever since the 1904 main release to public my boot<br> animation for my 1X where it shows the scorpio engine<br> laggs and stutters badly. Also the UI seems a bit<br> less responsive & the shutdown process to actually switching off<br> takes longer than usual. Anyone else have these issues since<br> 1904 ? Is it fixed in the preview 1905 builds<br> or is my 1X gonna die soon...<br>\"],[\"Nobody is biting with selling them. I'm out of state<br> and wont be there regardless. PM me if you want<br> them. I dont want them to go to waste. First<br> come first serve<br>\"],[\"I don't know if postgres support questions are allowed here.<br> But I have a problem running postgres in a docker<br> container, perhaps someone can help. PostgreSQL is running in a<br> Docker container. The host system is Ubuntu 18.04.3. Every time<br> I execute some SQL in PostgreSQL I get this: /var/lib/pgsql/.role.sh:<br> not found Anyone have any idea possible idea why, the<br> sql code seems to work anyway but it is annoying<br> the *** out of me? See details at superuser question<br> linked below. https://superuser.com/questions/1492894/why-do-i-get-error-var-lib-pgsql-role-sh-not-found-from-postgres-in-docker#1492894<br>\"],[\"Hello! I've been bleeding after sex and had very minor<br> pelvic pain pretty consistently for the past year so I<br> just went and got my first ever Pap smear to<br> make sure that everything was okay. The nurse said that<br> my cervix looked really splotchy and it turns out that<br> I have abnormal cells. She said that the cells are<br> most likely no big deal and could be anything from<br> inflammation to HPV. She then said to get another pap<br> in a year but that no further action was required<br> at this time. I'm only 24 so I know I'm<br>\"],[\"Can scientists spice it up a little bit?<br>\"],[\"Just got a pair of 6XX, and I'm looking for<br> a darker/warmer bassy counterpart. I had to EQ the 6XX<br> highs down a bit for comfort, so I'm looking for<br> something a little easier on the ears. More of a<br> liquidy lush sound with good sub bass extension. I still<br> want solid mids, I'm not looking for v-shape or anything,<br> and just enough clear treble to hear and not fear.<br> I'd rather the bass isn't too punchy, and doesn't bleed<br> into the mids or anything. A bigger soundstage would be<br> nice, but not necessary. I already have an ifi idsd<br>\"],[\"I\\u2019m from the Bay Area planning to go for the<br> fest preferably weekend 2. I\\u2019d like to join a group<br> of fellow festival goers who are open and welcoming. If<br> you have accommodation spots available hit me up.<br>\"],[\"thank you<br>\"],[\"Subscribers: 51<br>\"],[\"That's all. I dont have a real meaningful conversation starter<br> One time I was in a match with Zackscott in<br> a splatfest and his team obliterated mine. Not really what<br> I hoped for<br>\"],[\"I'm planning on buying a hunter, I've currently only got<br> Hell Ember. I'm thinking of either Geisha, Wu Chang, or<br> waiting until Joseph/Photographer is released. Could someone help me out<br> with pros and cons? :)<br>\"],[\"My friend broke his wrist yesterday so how is he<br> supposed to clap those alien cheeks!?!?<br>\"],[\"Title.<br>\"],[\"I just started the program. I am in shape, and<br> recently completed a half marathon. I signed up for Tough<br> Mudder in July, and thought this would be a good<br> way to build up upper body strength. I found the<br> PDFS online for free, and saw that though they suggest<br> doing HIIT workouts, they don't specify when. Two questions: 1.<br> When do you do HIIT? 2. How should I incorporate<br> long distance running, if at all -- what do others<br> do? I technically only need about 3 months to rebuild<br> long distance endurance, and TM isn't a full 10 mile<br>\"],[\"I asked her (Sarah Werner from Girl in Space /<br> Write Now podcasts) what she would say about being a<br> successful podcaster and her response surprised me, but I think<br> a lot of people here would maybe find inspiration from<br> it. Time Stamped https://soundcloud.com/jordan-seps/failing-on-purpose#t=56:28 If you want the full episode<br> https://soundcloud.com/jordan-seps/failing-on-purpose<br>\"],[\"I finally moved to the area permanently and it\\u2019s time<br> to transfer over my cars. I have a 2006 and<br> a 2013. Any idea how much they will be? Just<br> so I don\\u2019t get sticker shock when I show up<br> at the DMV. Their website is great on pretty much<br> everything but that.<br>\"],[\"In a conversation with John Flagg (might have been on<br> the Clinical Athlete podcast) he had pointed out that my<br> training style is very similar to the training style of<br> many weightlifters. To be honest I have never thought about<br> that before. Weightlifting is the yacht club of the strength<br> sports; I don\\u2019t want my reputation being destroyed by that<br> getting out there. https://precisionpowerlifting.wordpress.com/2019/08/01/f-your-accessory-work/?fbclid=IwAR0QLugltbHHRRjZPDgx6G6udbxGK-Q7C7oA0DvyKoopYkMM-HCkip2WKZs<br>\"],[\"I was wondering if I'm able to transfer a world<br> from original tekxit to tekxit 3, I have a lot<br> accomplished and don't want to lose all my progress.<br>\"],[\"My mum, myself and my younger brother applied for indefinite<br> leave to remain in may 2016. We waited a whole<br> year after the standard service time before we contacted the<br> Homeoffice for an update. We were told that a decision<br> hasn't been made and that they were not able to<br> tell us when a decision will be reached. The next<br> step we took was contacting our local MP, they contacted<br> the Homeoffice and was told the same thing we were<br> told. It's been 3 years since we applied and still<br> can't get an update. Also, in I'm in the process<br>\"],[\"Did some updates on my 5k iMac and now my<br> blackmagic raw footage is has pink over it. Is something<br> offline? What does the pink mean in da Vinci?<br>\"],[\"I started taking Lexapro in November. I knew I wanted<br> to stay on it while pregnant because I have a<br> history of PPD. While it's been helpful for my mood<br> swings, I think it's been making my cycles longer. I<br> used to have 24 day cycles. Seems like each month<br> since I've been on it my cycle has increased by<br> a day. It's been driving me nuts since I'm TTC.<br> Right now I'm on CD 28, bfn on FRERs, and<br> hoping AF is on her way so I can just<br> get onto the next cycle. My OB and psychiatrist don't<br> think much of it but I'm curious if anyone else<br>\"],[\"Hello everyone. I have a class where I have to<br> build a website. The problem is, I need to build<br> a desktop program for the administrator too. I do not<br> want to program the same thing twice so, I want<br> to make my rails application, run on windows, without all<br> the installing and setting up. It is suggested to use<br> JSP and Java with Swing but I'd rather swallow a<br> rock. I found enclose.io and it seems very interesting. Has<br> anybody used it for something like this? Thank you.<br>\"],[\"A while back I started making a Doppel build and<br> was following some kind of guide which I can't find<br> anymore. It's probably extremely outdated since it was when Carter<br> Stroke was overpowered (or that's what I remember people saying).<br> Now I have no idea where to go with this<br> character after the changes within the past two years or<br> so but this is what I have so far. I'm<br> at Swordsman 1 - Highlander 1 - Barbarian 3: (Highlander)<br> https://i.imgur.com/JkInVbg.png (Swordsman) https://i.imgur.com/oLa19QY.png (Barbarian) https://i.imgur.com/FXkELFV.png What should I do? Is<br>\"],[\"So I decided to save money and cancel my PS4<br> Pro order. I have a good enough PC now that<br> I'm sure could run MHW with ease. It's just the<br> wait is killing me. I watch those streamer on Twitch<br> are having fun, and I, I want to kill some<br> monster too! At this point I dont even care that<br> I'm getting the content spoiled to me, I cant play<br> but at least I'm watching those people play. So for<br> you guys hunter out there, be it veteran or newbie,<br> I hope you guys have fun, and may desire sensor<br> God give his blessing upon you.<br>\"],[\"I used this in my game a few weeks back<br> and I wanted to share it with you all. My<br> players were camping for the night in the trees at<br> the edge of a field. During the night, the ranger<br> on watch heard movement in the trees. They prepared for<br> an attack and waited. They heard the steps moving around<br> the trees, almost circling their camp. The ranger woke up<br> the rest of the party and they readied also. And<br> then.... Silence. No footsteps, no movement, nothing. They waited and<br> waited and finally went back to sleep. The next morning,<br>\"],[\"hello fellow frank fanatics!! few nights ago an artist named<br> Slyrex dropped his new album called Unravel and you can<br> feel the influences from our boy. In a track called<br> VA (track 6) there\\u2019s even a frank interpolation and he<br> mentions our boy by name \\ud83d\\udc40 i think it\\u2019s pretty<br> fucking amazing and does the king some justice. check it<br> out! slyrex EDIT: If this was me i would 100%<br> be taking credit for it \\ud83d\\ude02 i\\u2019ve done videos for<br> him in the past<br>\"],[\"I'm currently away from the UK trying to stream sky<br> sports (a UK only stream) on my phone using a<br> VPN. It worked fine over WiFi but now I'm on<br> the road and using data it won't work. Anyone know<br> of any way to get it working? Thanks<br>\"],[\"Hi guys! Looking to build my first PC. Very top<br> of my max budget is $1k but if I can<br> spend less, I\\u2019d like to. My main games I play<br> are League of Legends and Dota. I may branch out<br> to something like Overwatch on my pc possibly. Thank you!!<br>\"],[\"How do you store scarves, if placing them in boxes<br> folded Konmari-style isn't a current option? If you hang them,<br> what type of hanger do you use?<br>\"],[\"My daughter, age 7, is in 2nd grade. She has<br> started constantly lying. She has rarely lied in the past<br> (just the usual I didn't do that from time to<br> time) but in the last 2 months it has become<br> a constant thing. She lies to her teacher about books<br> she read so she can take the test. Due to<br> the test being multiple choice she usually passes and gets<br> credit for work she did not do. We have discussed<br> this with the teacher, who seems unconcerned. She also constantly<br> asks her friends for money or toys. I believe she<br>\"],[\"The other day I was watching re-runs of Arthur on<br> Youtube and in the episode Arthur's Big Hit he hits<br> his little sister D.W. for breaking his model airplane...in the<br> episode he gets punched by Binky at school as his<br> Karma and learns his lesson. Well in the Youtube comments<br> everyone thought that D.W. deserved to be murdered, hit, etc.<br> and while those comments were ridiculous I at first chalked<br> it up to Youtube comments being shitty as usual...however on<br> r/videos the comments are even....more grotesque...there are redditors saying that<br>\"],[\"I finally bit the bullet and decided to get a<br> new controller- my first Elite broke a few months ago<br> (the right trigger completely broke), and my second Elite has<br> been getting progressively worse- loose thumbsticks, occasional stick drift, SIGNIFICANT<br> dead zones in both the thumbsticks that I was constantly<br> combatting via adjusting ramp rates and ranges in the Xbox<br> Accessories app (with mixed results), and the triggers and bumpers<br> were starting to show signs of the same failure that<br> I had with my first one, as well as face<br>\"],[\"Title. that's it.<br>\"],[\"Can you transfer to health sci in second year with<br> a general life sci first year (no anatomy or health<br> sci courses)? Or do you just follow the life sci<br> stream for physiology? I\\u2019m pretty confused by the flow charts<br> and planners on mosaic<br>\"],[\"In the process of buying an older house that we<br> plan on doing some updating too. We had the house<br> inspected by both an inspector and a structural engineer. Neither<br> had any real concerns but one of the things the<br> SE mentioned was the foundation slab appears to be shallow<br> and if we plan on making the basement a living<br> space we'd need to insulate from the outside. Really having<br> trouble finding a price range for this. Any one have<br> experience with doing this to an existing structure? the house<br> is about 26'wide x 62' long and has dirt along<br>\"],[\"Recently I'm having problems with my fornite for some reason<br> sometimes it looks like fps drop and the game isn't<br> smooth as it used to be, I keep looking on<br> fps and it doesn't drop when that happens , rarely<br> I see a fps drop from 60 fps. I have<br> lowered settings to the max and it still lags I<br> play fullscreen. For some reason this started to happening and<br> the game doesn't feel right to me I would appreciate<br> some help and Do you have the same problems ?<br> I don't think it's ping problems because previously I didn't<br>\"],[\"This is a question I guess I\\u2019ve always struggled with.<br> I\\u2019ve always felt that God was upset with me or<br> merely tolerated me. Does He love everyone corporately or everyone<br> individually and specially? Are there limits? Does God love those<br> in Hell? This is probably a dumb question but I<br> really appreciate an answer.<br>\"],[\"What an amazing first 10 days in the pool! Found<br> 5 blocks in last 36 hours!! Seems Legit - http://pool.seems-legit.com/<br> Check out our BRAND NEW UI Why mine with us?<br> - Strong and growing crypto community - http://www.seems-legit.com/ - Active<br> discord community & mods providing technical support - https://discord.gg/kHXC5Q7 -<br> US based servers - PPLNS payout system, rewards continuous miners<br> - 0.5&#37; fees to cover infrastructure costs (as we grow<br> fees will likely reduce) - 1 GH/s+ rate so far<br> - 10 minute payout (after block confirmation) and Low 0.01<br>\"],[\"So I thought about using this stack for possible ADD<br> and depression symptoms. 5g Creatin 200 mg L-Theanin / 100mg<br> Coffein CDP-Choline not sure on the dosage<br>\"],[\"female 22 250 pounds so my legs have been very<br> shaky and tremor a lot, but it\\u2019s mostly an internal<br> tremor. when i\\u2019m standing sometimes it feels like i\\u2019m going<br> to fall over. i\\u2019ve been able to see my veins<br> a lot more clearly, i\\u2019m not sure if that\\u2019s relevant<br> or not. my right hand cramps up a lot and<br> hurts until i rest and then it feels better. most<br> of these happen at night and my legs act up<br> the worst when i\\u2019m resting or sitting. also i have<br> had phantom smells. is this something i should ask my<br> doctor about?<br>\"],[\"I would love if you covered the Galapagos Server sometime.<br> I've heard and seen that there are a lot of<br> interesting builds there and also areas with very interesting environmental<br> effects, such as volcanos, deep oceans and a lot of<br> flora potential. The most amazing thing about Galapagos is probably<br> that animals don't really spec in defense because it took<br> a while for the developers to fix a bug that<br> banned human players from the server. Just a thought! /RambowInt,<br> Lvl 13 Elk, European Server, Scandinavian subserver<br>\"],[\"Personally, I find the comedic value of posts showing bugs<br> in Bethesda games to be more or less non-existent, because<br> they're expected them to be flawed and unpolished. Also, they're<br> posted relatively frequently. Perhaps there is basis for a discussion<br> on whether rule #5 should include (some) Bethesda games too?<br> This is just my two cents, so please don't take<br> offense if you enjoy them. All in all, I think<br> this sub is great and I like the idea behind<br> it.<br>\"],[\"I'm wondering if any other DM's use random % chance<br> events in their campaigns at all? I know just about<br> everything in the game should be controlled by the player's<br> ability (ability checks, saving throws etc.) but what if you<br> just want to spice up combat with some unpredictable variation?<br> I had an idea for a character with a magical<br> whip that was made of a long arcane serpent, and<br> I wanted to say that there was a 50% chance<br> his whip attacks would deal a certain amount of poison<br> damage as well. I think this would be fun for<br>\"],[\"She told me that some weird guy was running around<br> looking for someone named Gavin while she was walking to<br> the saloon. When she stepped inside she overheard someone having<br> a conversation where one of the NPCs was being referred<br> to as Gavin. She did not initiate a conversation with<br> said NPC, instead she tried to go outside to look<br> for the crazy guy and tell him. She got distracted<br> and went clothes shopping instead. I think the trick to<br> finding Gavin might be to run to the saloon once<br> you find the crazy dude and listen to the ambient<br>\"],[\"Among just trying to navigate through life in general I\\u2019ve<br> been looking for a therapist and one of the questions<br> I\\u2019ve been asking before I book is if they\\u2019ve worked<br> with nonmonogamous couples before... the last therapist I worked with<br> did not make me feel open in talking about it.<br> This was the last response I got: \\u201cHi u/patty-l I<br> am sorry I am not accepting new patients right now.<br> Even so, you might not have liked working with me<br> because, while I have no \\u2018judgement\\u2019 at all, about non-monogamous<br>\"],[\"Years ago when I first met my husband I thought<br> it would be great to spend an afternoon with my<br> now MIL. I\\u2019d had a great relationship with my previous<br> MIL so I was wanting that. One Saturday my BF<br> (now DH) was out of town for his brothers something<br> at Westpointe and I had a wedding to go to<br> downtown, not far from where MIL lives. I figured it<br> was a perfect opportunity to get to know MIL. The<br> visit started out great. We had a little wine and<br> small talk getting to know each other. Then she started<br>\"],[\"This will be my first certification test ever and am<br> pretty nervous. I've taken an A+ class at my community<br> college and did pretty well but I know this is<br> different. &#x200B; So far I have I have a deluxe<br> edition 901+902 study guide by comptia/sybex that I've been using<br> for the majority of my study. I'm sure there's also<br> some other great study material out there someone else might<br> know of that could be a major help. If you<br> guys have any tips or any thing to help me<br> study it would be greatly appreciated! Trying to get it<br>\"],[\"Hi guys, is there any way i can find players<br> that can be bought paying the release fee? All players<br> that my scouts find, once i try to buy the<br> team informs that they will not sell... Is there any<br> workaround for this? I am playing with Crawley from English<br> fourth division. Thx<br>\"],[\"So in True caller/EMUI (my previous phone) every phone call<br> from a contact is a separate entry. In true caller<br> this is an option called group by number if you<br> call contact X at 2pm its a, separate entry from<br> calling X at 7pm. In Xiaomi's Dialer App. Every contact<br> only has 1 entry (latest entry) and the rest is<br> in the call history I want to unmerge those entries,<br> i don't want only 1 entry for each contact. Is<br> there a way?<br>\"],[\"I'm not able to take stimulants due to them causing<br> my anxiety levels to skyrocket. In fact, I can't even<br> really drink most forms of caffeine without feeling miserable. I'm<br> currently prescribed 0.25 - 0.5 of xanax as needed, but<br> if I avoid caffeine and try and keep myself busy,<br> I don't need it every day. My doctor wanted to<br> me try Strattera as it's a non-stimulant. He started me<br> at 17mg for a week and then increased that to<br> 40mg. I've been taking it for about 3 weeks total.<br> However, the side effects I've been experiencing are the opposite<br>\"],[\"Every night at around 2am I wake up to hear<br> loud groaning noises coming from Anton\\u2019s house on King\\u2019s Road.<br> Normally I\\u2019d assume he\\u2019s getting some but after losing his<br> penis in the lawnmower incident a few months ago I<br> don\\u2019t know what to think.<br>\"],[\"Hi folks! I was wondering people's experience with IUD paired<br> with a big tool. I'm on nexplanon, and I'm currently<br> on my 22nd day of my period. Usually it's been<br> 13 days or so per time. And this is the<br> last year of the implant, so I'm frankly sick and<br> tired of it... I can see why it's such a<br> successful preventative. I don't have sex on it... So was<br> thinking perhaps an IUD would be a better option. Problem<br> is my bf is quite long, and definitely will be<br> pushing beyond the cervix when we have sex. Won't it<br>\"],[\"Were there any characters in the comics that could lie<br> with Wonder Woman's lasso around them?<br>\"],[\"A few days ago, it had just occurred to me<br> that next year it'll actually be ten whole years that<br> I've been doing music, and it's just incredibly insane to<br> me. It feels like so little has happened between then<br> and now, and I feel like I've progressed so quickly.<br> I also noticed that I can make references to people<br> who are younger than me, and they won't understand them.<br> And the nostalgic moments feel like they were such a<br> long time ago, but it's only been a couple of<br> years!<br>\"],[\"(On mobile) She bought the car for $750 and in<br> the messages between the seller(G) and buyer(T), G states he<br> would give the money back if the car stopped working<br> and T couldn\\u2019t get it to run(stayed in Facebook messages).<br> Well T was stranded because the car wouldn\\u2019t work and<br> towed it to a mechanic. Mechanic could fix the car<br> to make it run but advised T that it was<br> unsafe to drive because the entire frame was rusted out.<br> Does T have any small claims chances in this situation?<br>\"],[\"We\\u2019ve all worked at that place that didn\\u2019t really have<br> a training manual where you\\u2019ve had to learn as you<br> go or ask the right questions. So what are those<br> questions? For example, shift times, opening duties, closing duties, where<br> to park, specials, etc.<br>\"],[\"Curious what yall are using, and your general opinions on<br> the best bagged soil? Im currently mixing one bag happy<br> frog, one bag ocean forest, and one bag of light<br> warrior. I'm using that mixture for established plants. Been working<br> good, but I'm ready to elevate!<br>\"],[\"My mom wanted to follow my diet because she saw<br> my results, but she had gastritis after trying so she's<br> a bit discouraged. She's 50 and she has had gastritis<br> once (thirty years ago) before. Does anyone have any experience<br> with this?<br>\"],[\"I\\u2019ve been running with my old dual core i3 6100,<br> and I\\u2019m thinking of snagging the i5 9600k as it\\u2019s<br> on sale for $215 on Newegg. I\\u2019ve read that the<br> processor gets hot super easily, and im not that familiar<br> with amd processors. Am I looking at the wrong processor<br> for this price range? Does it actually run that hot?<br>\"],[\"I'm trying to create a decently powerful light fixture for<br> my longboard to use at night and came across different<br> led brands that use a strip format. I want to<br> be able to see what is on the ground ahead<br> of me about 10-15 feet and was wondering if a<br> strip light like this would be able to illuminate enough<br> of the ground for me assuming I use around 6<br> inches. They advertise about 1300 lumens/ft and if I only<br> use 6 inches that's around 650 lumens. Unfortunately I'm having<br> some issues finding the Candela and Lux information. Would that<br>\"],[\"thats all<br>\"],[\"Hello. I own a publishing company, which thus far, has<br> only published my own books on sheet music. I am<br> looking into options to expand to publishing books by other<br> authors. I believe my best option at this moment is<br> to create contracts based on a template or contract generator<br> (preferably the latter). Does anyone have any recommendations for where<br> to turn to for this? Thanks<br>\"],[\"Is there any way to backsweeten my batch of mead<br> without using campden tablets? I have issues with sulfites, and<br> I don't really want to have to filter my mead<br> when I go to drink it.<br>\"],[\"I am working on a dream sequence. Please let me<br> know how it is: Bellare saw Lybet with a golden<br> sword through her stomach but she didn\\u2019t seem to feel<br> it. She just stood there in the passing darkness looking<br> at him. Her pink-turned-red tunic whipped in the wind and<br> her once tied-up hair was down, half following the wind,<br> half sticking to her face from dried blood. He tried<br> to reach for her, but\\u2026 couldn\\u2019t. A green glow emerged<br> from behind Lybet \\u2013 something was coming. He could only<br> watch as the light began to take form. Do something,<br>\"],[\"I really don't know how to explain better than that,<br> and I really don't remember what could have caused it.<br> It just started doing it one day and it has<br> been like this ever since. It's like there's an application<br> window open and the cursor just moves there and in<br> there. some (maybe useful) more info: * it happens even<br> if I close all applications * the thing, be it<br> moving the text bar, scrolling down on a webpage, or<br> just moving in a game happens properly, but the cursor<br> still jumps * the cursor window is always in the<br>\"],[\"Item #: SCP-XXXX Object Class: [TO BE DETERMINED] Special Containment<br> Procedures: Due to the impossibility of transport, containment, or otherwise<br> any action towards the entity, SCP-XXXX is to be held<br> on-site at a joint operation center, commanded by The SCP<br> Foundation and The Horizon Initiative. The site is located in<br> modern day M\\u2588\\u2588\\u2588\\u2588\\u2588\\u2588\\u2588\\u2588\\u2588\\u2588. Two site Directors, code named Khidr-1 and<br> Khidr-21, should remain on-site at all times and are the<br> only personnel allowed to monitor SCP- XXXX. Outside of O5-14<br>\"],[\"Manufacturer refurbished Vega 64 just got from MSI. Last Vega<br> would not output video signal so I sent for repair,<br> MSI was not able to fix so they replaced the<br> card.I haven't opened it but they tested before sending to<br> me. Card still has until February 2021 under warranty. I<br> bought an RTX card in the meantime becuase it took<br> them weeks to replace and I got impatient, so I<br> no longer have a use for the Vega. Looking for<br> $320 shipped $300 local. Timestamp: https://imgur.com/a/Wzjbrdu<br>\"],[\"Hi all, I've been playing Rush Wars since a day<br> after beta release, and have worked up 2.5k Stars at<br> HQ4. I'm no expert, and don't claim to have the<br> best strategies in the game, but I feel I have<br> a pretty good understanding of the general ideas and techniques<br> to get as many stars as possible (at HQ4). &#x200B;<br> # State of the Game: This is not a post<br> defending Supercell, or vice versa, but I see a lot<br> of negative posts concerning bad AI and over/underpowered cards. We<br> have to remember this is first week beta, every supercell<br>\"],[\"I was wondering is there any kind of online resource,<br> maybe a website, a nonprofit legal help center, or some<br> organization that is focused on issues facing graduate students with<br> disabilities? Particularly those of us confronted with discrimination? First time<br> poster here. Thanks very much for your insights.<br>\"],[\"So I heard this track maybe 2 or 3 times<br> around 2007, then never again. It was an electronic track,<br> no lyrics, around 120bpm, about 10 minutes long. It had<br> a very deep, almost nauseating bassline and a slow, dreamy/floaty<br> melody with a pronounced flanger/tremolo effect. It started out slow<br> with an arpeggio kind of sound, then the bass line<br> started and then eventually the main melody slowly faded in,<br> several minutes into the track. Not sure what genre it<br> would be. If it was a bit shorter it wouldn't<br>\"],[\"Hi there, I am having an issue where my car<br> does not seem to be starting first time in the<br> morning. I'm suspecting a Timing Chain issue but don't want<br> to fork out the cash unless I am certain. So<br> hoping someone can help confirm my suspicions or direct me<br> to the correct issue. Having checked online the issue is<br> exactly the same as this youtube video: https://www.youtube.com/watch?v=KYUnRsSGozA First attempt<br> for me will flag the red battery icon on the<br> dashboard and after a few more attempts it will flag<br>\"],[\"Our organization is considering getting Enterprise. We're considering SQL Server<br> for the RDBMS, but I pointed out that PostgreSQL is<br> free. Does anyone have experience as to which one is<br> better (e.g. works more seamlessly, easier to understand)? We would<br> be getting a Standard License for ArcGIS Enterprise. Let me<br> know if I can provide more details.<br>\"],[\"I read in a thread that in 2.0, there\\u2019ll be<br> additional Tradition swaps in Supremacy if you\\u2019re Pacifist. I don\\u2019t<br> recall that from patch notes or dev streams. How do<br> we know this?<br>\"],[\"Donald is walking out of the White House and headed<br> towards his limo when a possible assassin steps forward and<br> aims a gun. A secret service agent, new on the<br> job, shouts \\u201cMickey Mouse!\\u201d This startles the would be assassin<br> and he is captured. Later, the secret service agent\\u2019s supervisor<br> takes him aside and asks, \\u201cWhat in the hell made<br> you shout Mickey Mouse?\\u201d Blushing, the agent replies, \\u201cI got<br> nervous. I meant to shout Donald duck.<br>\"],[\"On episode 21 Krillen is fighting Bacterium. A smelly disgusting<br> guy for the preliminaries. He was losing until Goku reminded<br> him he has no nose. After remembering he had no<br> nose he stopped being disgusted by his foul odors and<br> won. Then on episode 24 Krillen is fighting Jackie Chun.<br> Things got to fast for the ref to see so<br> they graciously reenacted there moves step by step. In which<br> Jackie Chun spit at Krillen to throw him off for<br> a second, and then Krillen countered by somehow blowing his<br> boogery nose at him...<br>\"],[\"The hubs and I had a lunch date at a<br> Greek place, and I ordered the falafel. In a few<br> moments they brought me a chicken gyro, we notified them<br> of their mistake and they took it away and brought<br> me the falafel I had requested. I know they just<br> threw the chicken gyro away, that chicken died for nothing<br> :( Which brings me to this question, do you all<br> patronize restaurants that serve meat?<br>\"],[\"I keep having this dream. Last year, I had a<br> messy end to a friendship that in hindsight was very<br> toxic. I've had a lot of IRL trouble getting over<br> it and still do but that's not my dream and<br> not for this sub. The dream always starts with me<br> having a reason to go into her house and be<br> confronted by her again. It's usually not an exact replica<br> of her house, but she stays the same and exactly<br> how I remembered her. Sometimes I have to hide from<br> her in a crowd, and sometimes we're arguing face to<br> face. I try to tell her that she's toxic, a<br>\"],[\"I used to use an older version of FL Studio,<br> and I upgraded not too long ago. Something I used<br> to do a lot when making beats with samples is<br> chop the sample in Edison and put it in Fruity<br> Slicer, and in there I would change the key and/or<br> shift the tempo. I never had a problem with it<br> back then but I tried to do it now on<br> this newer version of FL Studio and it seems like<br> it's really distorting the sample and making it out of<br> tune. I recorded my screen to give an example so<br> you know what I mean (sorry for the resolution) https://streamable.com/304b7<br>\"],[\"Hello, not sure is the right place for this post,<br> but stay with me please. I graduated in May with<br> a BS in Environmental Studies. I want to work in<br> the environmental policy field, working with public policy and legislation.<br> What is the best graduate degree to attain to reach<br> this type of work? I have been looking in a<br> masters in public policy, going to law school, or something<br> like environment policy and management. Advice is much needed as<br> I want to take the appropriate test this fall to<br> apply for the fall cycle. Thanks!<br>\"],[\"So, I read the Scar Tissue book back in 2011<br> and can\\u2019t stop thinking about how Anthony is doing in<br> terms of his sobriety. If you read the phase he<br> went through after One Hot Minute (1997), for some reason<br> the some Dark Necessities reminds me of the song \\u201cWarped\\u201d<br> and how he hided his actions from everyone in studio<br> and his personal life. I honestly hope Anthony is good.<br> Knowing that he was able to hide something so terrible<br> in plain site, the lyrics to Dark Necessities gives me<br> chills. What do you guys think?<br>\"],[\"I just introduced this game to a friend. I love<br> the physical game, but he is more interested in playing<br> it online without having to buy cards. Does the online<br> version allow for two players to play cooperatively from different<br> computers? Also, are all cards available for play? Does the<br> collectors edition core set allow you to plat online for<br> free? It looks like the steam version is $18, so<br> I might be more interested in getting the collectors version<br> now if it includes that. Thanks!<br>\"],[\"Hey all, I'm curious about starting a website where I'd<br> be selling print on demand t-shirts and other products with<br> various historical imagery. So for instance, a re-created drawing of<br> an Egyptian hieroglyph that I find online, and then take<br> and put on a t-shirt. Will doing this run me<br> afoul of any copy right issues? To be more specific,<br> say it's a re-created drawing of a hieroglyph that was<br> then published in a book.<br>\"],[\"Student Study Guide and Solutions Manual for Brown/Iverson/Anslyn/Foote's Organic Chemistry,<br> 8th Edition &#x200B; ISBN-13: 978-1305864504 ISBN-10: 9781305864504 https://www.amazon.com/Student-Solutions-Iverson-Organic-Chemistry/dp/1305864506/ref=sr_1_3?ie=UTF8&qid=1541689615&sr=8-3&keywords=organic%20chemistry%20by%20brown&fbclid=IwAR1rzJibFVXZJWiu3n31d6z3DBFYmBQd1YKLaZX2FHbvXQpiG54ix5JN6IM &#x200B;<br>\"],[\"At what age should I be looking to add a<br> second to pack? I currently own a 5 year mini-goldendoodle<br> (Indiana). He is the perfect (and first) dog for our<br> family. He is 29 lbs and 20\\u201d (?) tall. Indiana<br> has no known issues or joint problems. He goes to<br> the vet yearly and is lean. I need to exercise<br> every-day to manage my anxiety - I jog, hike, wander,<br> etc. I enjoy my time outdoors so much more (and<br> even feel safer)! I do not know when Indiana will<br> no longer to be able to keep up with all<br> of the outings. I would even push him in a<br>\"],[\"I work for a small company of about 10 people.<br> Half are women like myself. There's a guy that comes<br> once every 2 weeks to clean the bathrooms. When they<br> first told me this, I was a little surprised but<br> thought maybe it's because it's such a small company? But<br> now me and another female coworker realized the guy that<br> cleans the bathroom has not been doing a good job.<br> Especially with the toilet, it's like he didn't even touch<br> it (ugh). Now she said she's gonna send him an<br> email for him to better clean it when he comes<br>\"],[\"You can make as many copies of yourself as you<br> want when you reabsorb your duplicate you get all the<br> memories of what they've done. To reabsorb your double you<br> have to kill it first. And yes you will remember<br> the feeling of dying.<br>\"],[\"So, i have 154 Phage now, and was thinking about<br> getting my first few permanent minor trait levels, but depending<br> on how they work this might be better to do<br> with more phage reserves. When I buy something like less<br> work stress and start a new run, when exactly will<br> the trait become activ? Will it be right from the<br> start, or will it only work when I get the<br> trait randomly again via gen sequencing?<br>\"],[\"When I listen to these albums now, it immediately transports<br> me back to a specific time in my life, when<br> I was fresh out of high school, driving around with<br> my friends in my shitty little car being stupid and<br> screwing around at the mall. It might sound stupid but<br> \\u201cmemories\\u201d and \\u201ccan\\u2019t stop partying\\u201d really we\\u2019re our anthems back<br> then. That\\u2019s the beauty of Weezer and why in my<br> opinion they are the greatest band still around. They enjoy<br> making music and no matter what they do they always<br> seem to put out a record for that specific time<br>\"],[\"I haven't seen anyone bring this up but what the<br> hell is going on with stores getting there PI pushed<br> back about 6 months? There are about 300 stores getting<br> there PI pushed back to post back to school around<br> October to November. What I think is going on is<br> Staples is getting ready to shut down about 300 stores,<br> that's the only reason i can come up with. Any<br> thoughts? PI = physical inventory<br>\"],[\"Totally random coincidence, but on weds afternoon at around 3:30pm<br> I came out of the TTC elevator at the Eaton<br> center and heard screaming and shouting (heard it from the<br> lower level but couldn't tell what was going on). A<br> young guy was pulling at a shopping bag a younger<br> teen was carrying and yelling at him to let it<br> go - multiple people were yelling at him and I<br> could see maybe some people filming? I had my daughter<br> in her stroller and was trying to figure out what<br> to do when the teen gave a good pull, yelled<br>\"],[\"www.Synthesis.gg Contact @ Synthesisdotgg@gmail.com ---------------------------------------------------------------- # Hey guys, Just wanted<br> to show off my new project that I've just pushed<br> live today called Synthesis! What is Synthesis? * Synthesis is<br> a way to watch everyone currently playing in the same<br> game instance. Currently this is NA League of Legends only<br> but soon plan to branch out to different games and<br> regions. For example: if three streamers end up in the<br> same game of League of Legends, Synthesis will provide you<br>\"],[\"So yesterday I completed 10 deliveries and made 60$, when<br> does postmates give you the reimbursement? How long does it<br> take ?<br>\"],[\"Anyone still active on here? Just curious<br>\"],[\"grunting noise donates pay check to The Bernie Sanders Campaign<br> Sips 2 Litre Pepsi Makes Facebook post on why women<br> are superior Rolls Cheeto dust between fingers eats vegan avocado<br> toast for the 5th time today explains why ALL whites<br> are racist Turns on Nintendo Switch Gives job to Mexican<br> immigrants explains why weed is the silent killer adjusts chasity<br> cage watches wife have sex with another man opens reddit<br> cracks fragile fingers subtle moans \\u201cD-Drumph B-ad\\u201d<br>\"],[\"Trixie used to refer to herself as the \\u201ccrownless Drag<br> superstar\\u201d before All Stars 3. Well, now that she has<br> a crown, who do you think fits that title the<br> best? I know I\\u2019m awaking for opinions, but there is<br> really one answer: Shangela Just kidding, I\\u2019m curious to hear!<br>\"],[\"Compared it to a smaller screen iPhone and iPad mini.<br> Comparison<br>\"],[\"To start, I live in a city where there are<br> billboards EVERYWHERE for this dentist who makes \\u201csexy teeth\\u201d and<br> does so \\u201cwithout fluoride.\\u201d A bunch of the olde, more<br> out-there people in my life are also convinced that fluoride<br> has poisoned the water supply and is bringing a plague<br> unto our houses. I read some articles and decided, what<br> the heck? Maybe I could go more natural with my<br> dental hygiene. Maybe I should go fluoride free. So, I<br> started using fluoride free toothpaste for about four months or<br>\"],[\"It seems one of the most prominent complaints about Gambit<br> is that if the games goes on to the 3rd<br> round, it feels like it starts to drag on too<br> long. This can definitely be a slog if you are<br> going for the Breakneck or Malfeasance where you need X<br> amount of gambit completions, and each gambit match is lasting<br> from 20-30 minutes. One solution I see that could work<br> is, once the 3rd round comes along, they switch to<br> \\u201covertime rules\\u201d and say idk, put in a 2x multiplier<br> for motes dropped by enemies. I suppose an issue from<br>\"],[\"I'm not here to hate on this game, but I<br> will express some criticisms... &#x200B; The thing I like and<br> dislike most about this game is the fact that no<br> matter what car I'm driving I will be put in<br> races with cars of a similar type. Obviously, this prevents<br> me from getting completely blown out by hypercars if I'm<br> driving a vintage muscle car for instance. However, this very<br> thing is what keeps me from feeling any drive (no<br> pun intended) to unlock other cars. Of course, there are<br> certain cars I want to drive/own because who wouldn't but<br>\"],[\"Does anyone wanna add me? I have a few people<br> added from this sub as well as some that my<br> friend (also from this sub) sent me via her Peach<br> contact list. My username is mozzarellamami (in reference to the<br> video of me I posted on r/proEDmemes that a lot<br> of you guys seemed to like lol). Please add me<br> and interact with me! I sometimes shut down and won\\u2019t<br> respond for a couple days but I just got out<br> of that depressive mode so if anyone wants to talk<br> or needs advice or a person to vent to about<br> ANYTHING (ED related or not) please feel free to add<br>\"],[\"Hi, I'm 17 and am about to start community college<br> this fall. I declared my major as biology. I absolutely<br> love bio and I'm really excited about having a career<br> in it. I'm just not sure what to specify in<br> since biology is so broad and I like way too<br> many subcategories to pick just one. People ask me a<br> lot if I intend on working in the medical field<br> and my answer is always no. I see myself doing<br> lab work, although, I'm not really sure how good pay<br> is and such for that. Anyways, recently I have been<br>\"],[\"When they hit you with \\u201cThat you have the most<br> beautiful face\\u201d I die.<br>\"],[\"Is there a good place to buy British TT scale<br> tracks online that delivers to Canada?<br>\"],[\"Hello I have really low amount of money but i<br> want a gpu so i can play my games atleast<br> with better frames than now. Cpu:Intel Celeron G1820 2.7 Ghz<br> Gpu: Intel Hd Graphics (Yup if you think this is<br> gpu) Mobo: Asrock H81m-vg4 r2.0 ram:kingston 6 gb(2+4) 1333 mhz<br> I want to get gtx 1050ti 4 gb So will<br> i have big bottleneck until i save money for cpu,mobo?<br>\"],[\"My badges are max. My iq is high<br>\"],[\"So i picked up a copy of i am ><br> than i was at the store on CD, and when<br> i was listening to A Lot i realized that J<br> coles verse was removed and instead it was replaced by<br> another Savage verse. I looked online and no one seems<br> to know about this, anyone else know about this? What<br> happened????<br>\"],[\"I once knew a man who hated puns. I told<br> him 4 puns and he didn't even smile. I told<br> him 5 more and he didn't crack. I told him<br> one final pun and... ...nothing. I'd used all the puns<br> I knew trying to make him laugh, but alas, no<br> pun in ten did.<br>\"],[\"Hello Guys, I'm creating a file that compare the scrap<br> that have been declared in the shopfloor for different products.<br> The products where the scrap is declared are multiple but<br> many of them despite having a material code that is<br> different refer always to the same material. Is there a<br> way more effincent than using an IFS(OR() to group all<br> the similar one in macro groups with the same name<br> ?<br>\"],[\"The Fight Take Place in King's Landing and they are<br> a few meters away. Round 1: they do not know<br> each other, Arya has Neddle ans his Valeryan Steel Dagger<br> and Mikasa has his 2 sword. Round 2: Arya has<br> his Dragonglass spear and a Bow. Mikasa his vertical maneuvering<br> equipment. 3. Both have information of the other. 4. They<br> Have Blood thirsty.<br>\"],[\"This is more curiosity than needing help. I am wondering<br> if it is possible to create a simple Node/Express app<br> that uses Passport and JWT for login/registration for another app.<br> So authentication is handled by one app, and another app<br> uses the same JWT to protect parts of the app.<br> For example AuthApp is running on https://login.app.com main app is<br> running on https://app.com. Login route on the main app is<br> https://login.app.com which does the login, user can then browse protected<br> parts of app.com using the JWT from the AuthApp<br>\"],[\"Next stop - Laundry!<br>\"],[\"I noticed over the weekend, or maybe since Friday that<br> pubganalyzer was under maintenance. I figured it would be back<br> by now but it still is displaying the message. Is<br> this just a me problem, or is it working for<br> anyone else? I love this site as it provides a<br> lot of important data and is extremely well presented. PUBG<br> Analyzer &#x200B; https://i.redd.it/f6m8wsqm4re21.jpg<br>\"],[\"I'm doing some research for my attorney (i'm a paralegal)<br> we are looking into trying to avoid probate for the<br> transfer of a business potentially into a trust in Iowa.<br> I was just wondering if there was anyone out there<br> that had worked with anything along these lines in the<br> past and had any information on the subject. Below are<br> the specific question my Attorney presented me with for the<br> research. &#x200B; The Client is 100% owner of the Professional<br> Corporation. Question: In general, what ways can a single-owned corporation<br>\"]],\"hovertemplate\":\"0=%{x}<br>1=%{y}<br>text=%{customdata[0]}<extra></extra>\",\"legendgroup\":\"\",\"marker\":{\"color\":\"#636efa\",\"symbol\":\"circle\"},\"mode\":\"markers\",\"name\":\"\",\"orientation\":\"v\",\"showlegend\":false,\"x\":[8.628437042236328,7.72299861907959,6.061646938323975,8.286408424377441,8.116909980773926,7.430609703063965,7.157084941864014,9.077718734741211,9.03797435760498,6.143481254577637,5.786492824554443,8.495572090148926,6.574026584625244,7.155977249145508,7.978366851806641,5.576158046722412,7.522370338439941,7.798746109008789,6.324869155883789,5.388182640075684,5.801914215087891,9.226542472839355,9.037598609924316,8.912458419799805,6.476451396942139,5.690729141235352,6.795651435852051,8.043604850769043,7.689859390258789,9.3900785446167,6.475048065185547,5.846400260925293,6.701145648956299,6.89159631729126,6.330509185791016,6.679076671600342,7.314228534698486,8.225558280944824,6.442520618438721,9.627185821533203,5.123044967651367,6.0982441902160645,5.328588485717773,5.877657890319824,9.424564361572266,6.738832473754883,7.441741943359375,6.478545665740967,6.9429192543029785,8.237744331359863,7.960742950439453,6.775372505187988,7.598499774932861,6.618896484375,8.750020027160645,8.988128662109375,7.833252906799316,8.316937446594238,9.708064079284668,5.522968769073486,9.36201286315918,9.64159870147705,6.238833904266357,9.438411712646484,6.535085201263428,8.932584762573242,9.276634216308594,8.50041675567627,6.550311088562012,5.795951843261719,9.39030647277832,6.374484062194824,8.950108528137207,7.939427375793457,6.160032749176025,5.651356220245361,8.460721969604492,8.78352165222168,9.287896156311035,9.33294677734375,7.054022312164307,6.393675804138184,7.693613052368164,8.496126174926758,5.996918678283691,7.510377407073975,6.719702243804932,8.541204452514648,7.0233917236328125,8.068159103393555,6.590336799621582,6.879974842071533,9.531661033630371,8.298699378967285,8.108953475952148,8.608556747436523,8.340197563171387,8.210500717163086,5.895359992980957,5.472214698791504,7.073678970336914,5.455986976623535,7.276007175445557,8.755169868469238,5.512116432189941,6.135711193084717,6.147819519042969,9.280208587646484,9.49901294708252,8.432149887084961,7.587352275848389,6.240457057952881,5.202157020568848,7.511083126068115,9.46274471282959,7.559550762176514,6.298334121704102,7.804365634918213,9.312040328979492,6.1848368644714355,8.063390731811523,5.5115180015563965,8.358392715454102,8.871833801269531,7.721006393432617,8.584922790527344,7.6212029457092285,5.650872707366943,6.681600093841553,8.214058876037598,7.430091857910156,6.2867302894592285,7.327166557312012,5.70576810836792,8.522071838378906,6.61359167098999,7.084290504455566,7.404306411743164,8.549434661865234,8.16844367980957,8.523492813110352,8.279319763183594,7.243239879608154,8.725768089294434,9.234813690185547,7.760480880737305,7.833360195159912,8.6414213180542,7.693558692932129,8.855901718139648,5.302900791168213,7.9261274337768555,6.346827507019043,7.4317450523376465,7.333157539367676,9.581472396850586,8.49677562713623,7.323776721954346,7.315842628479004,9.4474458694458],\"xaxis\":\"x\",\"y\":[-5.415486812591553,-2.545287847518921,-6.691228866577148,-7.835066318511963,-2.0827579498291016,-2.205728769302368,-7.461118698120117,-6.4119696617126465,-7.845108509063721,-5.405704975128174,-6.503506660461426,-2.7524120807647705,-4.772097110748291,-2.212285041809082,-4.965382099151611,-7.826527118682861,-6.935393333435059,-6.6627326011657715,-4.631616115570068,-5.364431381225586,-7.506412029266357,-6.839119911193848,-8.482276916503906,-8.179915428161621,-7.0032124519348145,-7.367591857910156,-6.917296886444092,-5.731723785400391,-3.1137256622314453,-8.333389282226562,-3.9110159873962402,-7.922776699066162,-2.3467485904693604,-7.715855121612549,-4.709878444671631,-5.182110786437988,-2.5347673892974854,-2.2279229164123535,-2.82027268409729,-6.720022201538086,-5.43083381652832,-4.857076168060303,-5.263533592224121,-6.58682107925415,-5.5974812507629395,-2.8213822841644287,-7.719594955444336,-7.422159194946289,-3.506559371948242,-4.7641706466674805,-6.888892650604248,-2.9855947494506836,-2.972334146499634,-2.802217721939087,-5.892547130584717,-6.084648609161377,-2.742175579071045,-5.989853382110596,-6.847136497497559,-6.949490547180176,-8.323122024536133,-7.673501968383789,-5.802952766418457,-6.387686729431152,-6.6583428382873535,-6.1161065101623535,-5.4607391357421875,-2.3325347900390625,-3.3032314777374268,-7.121717929840088,-8.437610626220703,-7.542295932769775,-7.908955097198486,-2.5565950870513916,-5.435845375061035,-6.689670562744141,-8.07072639465332,-5.673528671264648,-7.223561763763428,-8.055144309997559,-2.256998062133789,-4.106540679931641,-2.3730111122131348,-6.89741849899292,-7.777766227722168,-4.504483699798584,-3.23469877243042,-7.332019805908203,-7.094900608062744,-7.704258918762207,-6.616375923156738,-2.3959505558013916,-7.813827991485596,-2.3857851028442383,-7.155390739440918,-7.759454250335693,-5.373220443725586,-2.5426206588745117,-7.733748912811279,-7.9021382331848145,-5.478556156158447,-5.7601518630981445,-4.832393169403076,-6.202177047729492,-7.567572116851807,-7.602329730987549,-6.41515588760376,-6.73547887802124,-5.151943206787109,-7.539799690246582,-2.112165927886963,-7.3071608543396,-5.475837230682373,-4.610292434692383,-7.675252914428711,-2.5948517322540283,-7.951813697814941,-4.682312965393066,-6.5988569259643555,-4.7948408126831055,-7.776708126068115,-6.57981014251709,-8.246980667114258,-7.275787830352783,-3.1547791957855225,-3.1085143089294434,-5.282862663269043,-6.251297950744629,-6.564855098724365,-6.781348705291748,-5.239223957061768,-5.56333065032959,-5.943747043609619,-7.990605354309082,-2.6159512996673584,-3.1268019676208496,-5.8358354568481445,-4.768819808959961,-2.771472215652466,-5.92774772644043,-8.471192359924316,-7.988622665405273,-5.881755828857422,-6.94163703918457,-8.401278495788574,-2.7586379051208496,-7.449949264526367,-7.233682155609131,-4.310041427612305,-7.0367350578308105,-5.276651859283447,-8.420037269592285,-7.018279075622559,-6.691122531890869,-6.4057512283325195,-6.084799766540527,-7.041590690612793,-5.279528617858887,-6.855067729949951,-7.693460941314697],\"yaxis\":\"y\",\"type\":\"scatter\"}],                        {\"template\":{\"data\":{\"bar\":[{\"error_x\":{\"color\":\"#2a3f5f\"},\"error_y\":{\"color\":\"#2a3f5f\"},\"marker\":{\"line\":{\"color\":\"#E5ECF6\",\"width\":0.5},\"pattern\":{\"fillmode\":\"overlay\",\"size\":10,\"solidity\":0.2}},\"type\":\"bar\"}],\"barpolar\":[{\"marker\":{\"line\":{\"color\":\"#E5ECF6\",\"width\":0.5},\"pattern\":{\"fillmode\":\"overlay\",\"size\":10,\"solidity\":0.2}},\"type\":\"barpolar\"}],\"carpet\":[{\"aaxis\":{\"endlinecolor\":\"#2a3f5f\",\"gridcolor\":\"white\",\"linecolor\":\"white\",\"minorgridcolor\":\"white\",\"startlinecolor\":\"#2a3f5f\"},\"baxis\":{\"endlinecolor\":\"#2a3f5f\",\"gridcolor\":\"white\",\"linecolor\":\"white\",\"minorgridcolor\":\"white\",\"startlinecolor\":\"#2a3f5f\"},\"type\":\"carpet\"}],\"choropleth\":[{\"colorbar\":{\"outlinewidth\":0,\"ticks\":\"\"},\"type\":\"choropleth\"}],\"contour\":[{\"colorbar\":{\"outlinewidth\":0,\"ticks\":\"\"},\"colorscale\":[[0.0,\"#0d0887\"],[0.1111111111111111,\"#46039f\"],[0.2222222222222222,\"#7201a8\"],[0.3333333333333333,\"#9c179e\"],[0.4444444444444444,\"#bd3786\"],[0.5555555555555556,\"#d8576b\"],[0.6666666666666666,\"#ed7953\"],[0.7777777777777778,\"#fb9f3a\"],[0.8888888888888888,\"#fdca26\"],[1.0,\"#f0f921\"]],\"type\":\"contour\"}],\"contourcarpet\":[{\"colorbar\":{\"outlinewidth\":0,\"ticks\":\"\"},\"type\":\"contourcarpet\"}],\"heatmap\":[{\"colorbar\":{\"outlinewidth\":0,\"ticks\":\"\"},\"colorscale\":[[0.0,\"#0d0887\"],[0.1111111111111111,\"#46039f\"],[0.2222222222222222,\"#7201a8\"],[0.3333333333333333,\"#9c179e\"],[0.4444444444444444,\"#bd3786\"],[0.5555555555555556,\"#d8576b\"],[0.6666666666666666,\"#ed7953\"],[0.7777777777777778,\"#fb9f3a\"],[0.8888888888888888,\"#fdca26\"],[1.0,\"#f0f921\"]],\"type\":\"heatmap\"}],\"heatmapgl\":[{\"colorbar\":{\"outlinewidth\":0,\"ticks\":\"\"},\"colorscale\":[[0.0,\"#0d0887\"],[0.1111111111111111,\"#46039f\"],[0.2222222222222222,\"#7201a8\"],[0.3333333333333333,\"#9c179e\"],[0.4444444444444444,\"#bd3786\"],[0.5555555555555556,\"#d8576b\"],[0.6666666666666666,\"#ed7953\"],[0.7777777777777778,\"#fb9f3a\"],[0.8888888888888888,\"#fdca26\"],[1.0,\"#f0f921\"]],\"type\":\"heatmapgl\"}],\"histogram\":[{\"marker\":{\"pattern\":{\"fillmode\":\"overlay\",\"size\":10,\"solidity\":0.2}},\"type\":\"histogram\"}],\"histogram2d\":[{\"colorbar\":{\"outlinewidth\":0,\"ticks\":\"\"},\"colorscale\":[[0.0,\"#0d0887\"],[0.1111111111111111,\"#46039f\"],[0.2222222222222222,\"#7201a8\"],[0.3333333333333333,\"#9c179e\"],[0.4444444444444444,\"#bd3786\"],[0.5555555555555556,\"#d8576b\"],[0.6666666666666666,\"#ed7953\"],[0.7777777777777778,\"#fb9f3a\"],[0.8888888888888888,\"#fdca26\"],[1.0,\"#f0f921\"]],\"type\":\"histogram2d\"}],\"histogram2dcontour\":[{\"colorbar\":{\"outlinewidth\":0,\"ticks\":\"\"},\"colorscale\":[[0.0,\"#0d0887\"],[0.1111111111111111,\"#46039f\"],[0.2222222222222222,\"#7201a8\"],[0.3333333333333333,\"#9c179e\"],[0.4444444444444444,\"#bd3786\"],[0.5555555555555556,\"#d8576b\"],[0.6666666666666666,\"#ed7953\"],[0.7777777777777778,\"#fb9f3a\"],[0.8888888888888888,\"#fdca26\"],[1.0,\"#f0f921\"]],\"type\":\"histogram2dcontour\"}],\"mesh3d\":[{\"colorbar\":{\"outlinewidth\":0,\"ticks\":\"\"},\"type\":\"mesh3d\"}],\"parcoords\":[{\"line\":{\"colorbar\":{\"outlinewidth\":0,\"ticks\":\"\"}},\"type\":\"parcoords\"}],\"pie\":[{\"automargin\":true,\"type\":\"pie\"}],\"scatter\":[{\"marker\":{\"colorbar\":{\"outlinewidth\":0,\"ticks\":\"\"}},\"type\":\"scatter\"}],\"scatter3d\":[{\"line\":{\"colorbar\":{\"outlinewidth\":0,\"ticks\":\"\"}},\"marker\":{\"colorbar\":{\"outlinewidth\":0,\"ticks\":\"\"}},\"type\":\"scatter3d\"}],\"scattercarpet\":[{\"marker\":{\"colorbar\":{\"outlinewidth\":0,\"ticks\":\"\"}},\"type\":\"scattercarpet\"}],\"scattergeo\":[{\"marker\":{\"colorbar\":{\"outlinewidth\":0,\"ticks\":\"\"}},\"type\":\"scattergeo\"}],\"scattergl\":[{\"marker\":{\"colorbar\":{\"outlinewidth\":0,\"ticks\":\"\"}},\"type\":\"scattergl\"}],\"scattermapbox\":[{\"marker\":{\"colorbar\":{\"outlinewidth\":0,\"ticks\":\"\"}},\"type\":\"scattermapbox\"}],\"scatterpolar\":[{\"marker\":{\"colorbar\":{\"outlinewidth\":0,\"ticks\":\"\"}},\"type\":\"scatterpolar\"}],\"scatterpolargl\":[{\"marker\":{\"colorbar\":{\"outlinewidth\":0,\"ticks\":\"\"}},\"type\":\"scatterpolargl\"}],\"scatterternary\":[{\"marker\":{\"colorbar\":{\"outlinewidth\":0,\"ticks\":\"\"}},\"type\":\"scatterternary\"}],\"surface\":[{\"colorbar\":{\"outlinewidth\":0,\"ticks\":\"\"},\"colorscale\":[[0.0,\"#0d0887\"],[0.1111111111111111,\"#46039f\"],[0.2222222222222222,\"#7201a8\"],[0.3333333333333333,\"#9c179e\"],[0.4444444444444444,\"#bd3786\"],[0.5555555555555556,\"#d8576b\"],[0.6666666666666666,\"#ed7953\"],[0.7777777777777778,\"#fb9f3a\"],[0.8888888888888888,\"#fdca26\"],[1.0,\"#f0f921\"]],\"type\":\"surface\"}],\"table\":[{\"cells\":{\"fill\":{\"color\":\"#EBF0F8\"},\"line\":{\"color\":\"white\"}},\"header\":{\"fill\":{\"color\":\"#C8D4E3\"},\"line\":{\"color\":\"white\"}},\"type\":\"table\"}]},\"layout\":{\"annotationdefaults\":{\"arrowcolor\":\"#2a3f5f\",\"arrowhead\":0,\"arrowwidth\":1},\"autotypenumbers\":\"strict\",\"coloraxis\":{\"colorbar\":{\"outlinewidth\":0,\"ticks\":\"\"}},\"colorscale\":{\"diverging\":[[0,\"#8e0152\"],[0.1,\"#c51b7d\"],[0.2,\"#de77ae\"],[0.3,\"#f1b6da\"],[0.4,\"#fde0ef\"],[0.5,\"#f7f7f7\"],[0.6,\"#e6f5d0\"],[0.7,\"#b8e186\"],[0.8,\"#7fbc41\"],[0.9,\"#4d9221\"],[1,\"#276419\"]],\"sequential\":[[0.0,\"#0d0887\"],[0.1111111111111111,\"#46039f\"],[0.2222222222222222,\"#7201a8\"],[0.3333333333333333,\"#9c179e\"],[0.4444444444444444,\"#bd3786\"],[0.5555555555555556,\"#d8576b\"],[0.6666666666666666,\"#ed7953\"],[0.7777777777777778,\"#fb9f3a\"],[0.8888888888888888,\"#fdca26\"],[1.0,\"#f0f921\"]],\"sequentialminus\":[[0.0,\"#0d0887\"],[0.1111111111111111,\"#46039f\"],[0.2222222222222222,\"#7201a8\"],[0.3333333333333333,\"#9c179e\"],[0.4444444444444444,\"#bd3786\"],[0.5555555555555556,\"#d8576b\"],[0.6666666666666666,\"#ed7953\"],[0.7777777777777778,\"#fb9f3a\"],[0.8888888888888888,\"#fdca26\"],[1.0,\"#f0f921\"]]},\"colorway\":[\"#636efa\",\"#EF553B\",\"#00cc96\",\"#ab63fa\",\"#FFA15A\",\"#19d3f3\",\"#FF6692\",\"#B6E880\",\"#FF97FF\",\"#FECB52\"],\"font\":{\"color\":\"#2a3f5f\"},\"geo\":{\"bgcolor\":\"white\",\"lakecolor\":\"white\",\"landcolor\":\"#E5ECF6\",\"showlakes\":true,\"showland\":true,\"subunitcolor\":\"white\"},\"hoverlabel\":{\"align\":\"left\"},\"hovermode\":\"closest\",\"mapbox\":{\"style\":\"light\"},\"paper_bgcolor\":\"white\",\"plot_bgcolor\":\"#E5ECF6\",\"polar\":{\"angularaxis\":{\"gridcolor\":\"white\",\"linecolor\":\"white\",\"ticks\":\"\"},\"bgcolor\":\"#E5ECF6\",\"radialaxis\":{\"gridcolor\":\"white\",\"linecolor\":\"white\",\"ticks\":\"\"}},\"scene\":{\"xaxis\":{\"backgroundcolor\":\"#E5ECF6\",\"gridcolor\":\"white\",\"gridwidth\":2,\"linecolor\":\"white\",\"showbackground\":true,\"ticks\":\"\",\"zerolinecolor\":\"white\"},\"yaxis\":{\"backgroundcolor\":\"#E5ECF6\",\"gridcolor\":\"white\",\"gridwidth\":2,\"linecolor\":\"white\",\"showbackground\":true,\"ticks\":\"\",\"zerolinecolor\":\"white\"},\"zaxis\":{\"backgroundcolor\":\"#E5ECF6\",\"gridcolor\":\"white\",\"gridwidth\":2,\"linecolor\":\"white\",\"showbackground\":true,\"ticks\":\"\",\"zerolinecolor\":\"white\"}},\"shapedefaults\":{\"line\":{\"color\":\"#2a3f5f\"}},\"ternary\":{\"aaxis\":{\"gridcolor\":\"white\",\"linecolor\":\"white\",\"ticks\":\"\"},\"baxis\":{\"gridcolor\":\"white\",\"linecolor\":\"white\",\"ticks\":\"\"},\"bgcolor\":\"#E5ECF6\",\"caxis\":{\"gridcolor\":\"white\",\"linecolor\":\"white\",\"ticks\":\"\"}},\"title\":{\"x\":0.05},\"xaxis\":{\"automargin\":true,\"gridcolor\":\"white\",\"linecolor\":\"white\",\"ticks\":\"\",\"title\":{\"standoff\":15},\"zerolinecolor\":\"white\",\"zerolinewidth\":2},\"yaxis\":{\"automargin\":true,\"gridcolor\":\"white\",\"linecolor\":\"white\",\"ticks\":\"\",\"title\":{\"standoff\":15},\"zerolinecolor\":\"white\",\"zerolinewidth\":2}}},\"xaxis\":{\"anchor\":\"y\",\"domain\":[0.0,1.0],\"title\":{\"text\":\"0\"}},\"yaxis\":{\"anchor\":\"x\",\"domain\":[0.0,1.0],\"title\":{\"text\":\"1\"}},\"legend\":{\"tracegroupgap\":0},\"margin\":{\"t\":60}},                        {\"responsive\": true}                    ).then(function(){\n",
       "                            \n",
       "var gd = document.getElementById('cc9f2167-4f23-4698-a24d-16afb04d0f81');\n",
       "var x = new MutationObserver(function (mutations, observer) {{\n",
       "        var display = window.getComputedStyle(gd).display;\n",
       "        if (!display || display === 'none') {{\n",
       "            console.log([gd, 'removed!']);\n",
       "            Plotly.purge(gd);\n",
       "            observer.disconnect();\n",
       "        }}\n",
       "}});\n",
       "\n",
       "// Listen for the removal of the full notebook cells\n",
       "var notebookContainer = gd.closest('#notebook-container');\n",
       "if (notebookContainer) {{\n",
       "    x.observe(notebookContainer, {childList: true});\n",
       "}}\n",
       "\n",
       "// Listen for the clearing of the current output cell\n",
       "var outputEl = gd.closest('.output');\n",
       "if (outputEl) {{\n",
       "    x.observe(outputEl, {childList: true});\n",
       "}}\n",
       "\n",
       "                        })                };                });            </script>        </div>"
      ]
     },
     "metadata": {},
     "output_type": "display_data"
    }
   ],
   "source": [
    "from umap import UMAP\n",
    "import numpy as np\n",
    "import plotly.express as px\n",
    "features = df.iloc[:, :768]\n",
    "umap = UMAP(n_components=2, init='random', random_state=0)\n",
    "proj = pd.DataFrame(umap.fit_transform(features))\n",
    "proj['text'] = [' '.join([' '.join(i.split()[x:x+10])+'<br>' \n",
    "                          for x in np.arange(0,len(i[:500].split()),10)]) \n",
    "                for i in df['text'].tolist()]\n",
    "fig = px.scatter(proj, x=0, y=1,\n",
    "                hover_data=['text'])\n",
    "fig.show()"
   ]
  },
  {
   "cell_type": "code",
   "execution_count": null,
   "metadata": {},
   "outputs": [],
   "source": [
    "# Pick some sentences and look at most similar in the dataset across spaces"
   ]
  },
  {
   "cell_type": "code",
   "execution_count": null,
   "metadata": {},
   "outputs": [],
   "source": []
  },
  {
   "cell_type": "code",
   "execution_count": null,
   "metadata": {},
   "outputs": [],
   "source": []
  }
 ],
 "metadata": {
  "kernelspec": {
   "display_name": "tw-langmod",
   "language": "python",
   "name": "tw-langmod"
  },
  "language_info": {
   "codemirror_mode": {
    "name": "ipython",
    "version": 3
   },
   "file_extension": ".py",
   "mimetype": "text/x-python",
   "name": "python",
   "nbconvert_exporter": "python",
   "pygments_lexer": "ipython3",
   "version": "3.8.10"
  }
 },
 "nbformat": 4,
 "nbformat_minor": 4
}
