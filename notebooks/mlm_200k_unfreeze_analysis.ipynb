{
 "cells": [
  {
   "cell_type": "code",
   "execution_count": 148,
   "metadata": {},
   "outputs": [],
   "source": [
    "import gzip\n",
    "import json\n",
    "import glob\n",
    "import random\n",
    "import tensorflow as tf\n",
    "import os\n",
    "import numpy as np\n",
    "import seaborn as sns\n",
    "from matplotlib import pyplot as plt\n",
    "import pandas as pd\n",
    "from reddit.models import BatchTransformerForContextMLM\n",
    "from transformers import TFDistilBertForMaskedLM, DistilBertTokenizer\n",
    "from reddit.utils import load_tfrecord, mask_and_stack_mlm"
   ]
  },
  {
   "cell_type": "code",
   "execution_count": 149,
   "metadata": {},
   "outputs": [],
   "source": [
    "os.environ['CUDA_VISIBLE_DEVICES'] = \"-1\""
   ]
  },
  {
   "cell_type": "code",
   "execution_count": 154,
   "metadata": {},
   "outputs": [],
   "source": [
    "pattern_1 = '../logs/mlm/10context_dropoutT*/*/metrics/*1536*/mlm/*/log.json'\n",
    "fs = glob.glob(pattern_1) \n",
    "#pattern_2 = '../logs/mlm/10context*/single/metrics/*/mlm/*/log.json'\n",
    "#fs = glob.glob(pattern_2) + fs"
   ]
  },
  {
   "cell_type": "code",
   "execution_count": 155,
   "metadata": {},
   "outputs": [
    {
     "data": {
      "text/plain": [
       "['../logs/mlm/10context_dropoutTarget_scratch/author/metrics/BatchTransformerForContextMLM-none-pretrained-3-1536_1536_768-cls-concatenate-reset-nohfreeze/mlm/epoch-0/log.json',\n",
       " '../logs/mlm/10context_dropoutTarget_scratch/random/metrics/BatchTransformerForContextMLM-none-pretrained-3-1536_1536_768-cls-concatenate-reset-nohfreeze/mlm/epoch-0/log.json']"
      ]
     },
     "execution_count": 155,
     "metadata": {},
     "output_type": "execute_result"
    }
   ],
   "source": [
    "fs"
   ]
  },
  {
   "cell_type": "code",
   "execution_count": 141,
   "metadata": {},
   "outputs": [
    {
     "name": "stdout",
     "output_type": "stream",
     "text": [
      "WARNING:tensorflow:No training configuration found in save file, so the model was *not* compiled. Compile it manually.\n",
      "WARNING:tensorflow:No training configuration found in save file, so the model was *not* compiled. Compile it manually.\n"
     ]
    }
   ],
   "source": [
    "#loaded_model_random = tf.keras.models.load_model('../logs/mlm/10context_2608/random/checkpoint/BatchTransformerForContextMLM-none-pretrained-0-none-cls-concatenate-reset-nohfreeze/mlm/epoch-1/batch-195494-of-195494')\n",
    "loaded_model_author = tf.keras.models.load_model('../logs/mlm/10context_2608/author/checkpoint/BatchTransformerForContextMLM-none-pretrained-0-none-cls-concatenate-reset-nohfreeze/mlm/epoch-3/batch-195494-of-195494')\n",
    "loaded_model_single = tf.keras.models.load_model('../logs/mlm/10context_2608/single/checkpoint/BatchTransformerForMLM-none-pretrained-reset-nohfreeze/mlm/epoch-3/batch-195494-of-195494')\n",
    "#loaded_model_author_0 = tf.keras.models.load_model('../logs/mlm/10context_2108/author/checkpoint/BatchTransformerForContextMLM-none-pretrained-0-none-cls-concatenate-reset-nohfreeze/mlm/epoch-0/batch-195494-of-195494')\n",
    "#baseline_model = DistilBertForMaskedLM.from_pretrained('distilbert-base-uncased')"
   ]
  },
  {
   "cell_type": "code",
   "execution_count": 142,
   "metadata": {},
   "outputs": [],
   "source": [
    "d = load_tfrecord(glob.glob('../reddit/data/datasets/mlm/10context_large/author/train/batch_100*'), \n",
    "                  ds_type='mlm')\n",
    "d = mask_and_stack_mlm(d).batch(1)"
   ]
  },
  {
   "cell_type": "code",
   "execution_count": 143,
   "metadata": {},
   "outputs": [],
   "source": [
    "for i in d.take(30):\n",
    "    t = i"
   ]
  },
  {
   "cell_type": "code",
   "execution_count": 144,
   "metadata": {},
   "outputs": [],
   "source": [
    "t2 = dict(zip(t.keys(), \n",
    "              [tf.expand_dims(k[:,0,:], axis=0) for k in list(t.values())[:2]] + [list(t.values())[2]] + [tf.expand_dims(list(t.values())[3][:,0,:], axis=0)]))"
   ]
  },
  {
   "cell_type": "code",
   "execution_count": 18,
   "metadata": {},
   "outputs": [],
   "source": [
    "tknzr = DistilBertTokenizer.from_pretrained('distilbert-base-uncased')"
   ]
  },
  {
   "cell_type": "code",
   "execution_count": 19,
   "metadata": {},
   "outputs": [
    {
     "data": {
      "text/plain": [
       "'[CLS] round 1 [MASK] dagger is just about trapped in a crucifix. big [MASK] hand by dagger rocks [MASK] korobov. nice trade in the center. matt korobov has pressed dagger against the fence, throwing short [MASK] [MASK] round 2 : dagger comes back with a knee that [MASK]izes matt [MASK]robov ’ legs. big right [MASK] over the [MASK] by matt korobov, [MASK] [MASK] rips matt korobov [MASK] the body. matt koro [MASK]v up, dagger back down [MASK] body lock. matt [MASK] [MASK]bov [MASK]d up. all rounds - [MASK] [MASK]robov, no chance for dagger. statistics [MASK] [MASK] korobov vs dagger [SEP] [PAD] [PAD] [PAD] [PAD] [PAD] [PAD] [PAD] [PAD] [PAD] [PAD] [PAD] [PAD] [PAD] [PAD] [PAD] [PAD] [PAD] [PAD] [PAD] [PAD] [PAD] [PAD] [PAD] [PAD] [PAD] [PAD] [PAD] [PAD] [PAD] [PAD] [PAD] [PAD] [PAD] [PAD] [PAD] [PAD] [PAD] [PAD] [PAD] [PAD] [PAD] [PAD] [PAD] [PAD] [PAD] [PAD] [PAD] [PAD] [PAD] [PAD] [PAD] [PAD] [PAD] [PAD] [PAD] [PAD] [PAD] [PAD] [PAD] [PAD] [PAD] [PAD] [PAD] [PAD] [PAD] [PAD] [PAD] [PAD] [PAD] [PAD] [PAD] [PAD] [PAD] [PAD] [PAD] [PAD] [PAD] [PAD] [PAD] [PAD] [PAD] [PAD] [PAD] [PAD] [PAD] [PAD] [PAD] [PAD] [PAD] [PAD] [PAD] [PAD] [PAD] [PAD] [PAD] [PAD] [PAD] [PAD] [PAD] [PAD] [PAD] [PAD] [PAD] [PAD] [PAD] [PAD] [PAD] [PAD] [PAD] [PAD] [PAD] [PAD] [PAD] [PAD] [PAD] [PAD] [PAD] [PAD] [PAD] [PAD] [PAD] [PAD] [PAD] [PAD] [PAD] [PAD] [PAD] [PAD] [PAD] [PAD] [PAD] [PAD] [PAD] [PAD] [PAD] [PAD] [PAD] [PAD] [PAD] [PAD] [PAD] [PAD] [PAD] [PAD] [PAD] [PAD] [PAD] [PAD] [PAD] [PAD] [PAD] [PAD] [PAD] [PAD] [PAD] [PAD] [PAD] [PAD] [PAD] [PAD] [PAD] [PAD] [PAD] [PAD] [PAD] [PAD] [PAD] [PAD] [PAD] [PAD] [PAD] [PAD] [PAD] [PAD] [PAD] [PAD] [PAD] [PAD] [PAD] [PAD] [PAD] [PAD] [PAD] [PAD] [PAD] [PAD] [PAD] [PAD] [PAD] [PAD] [PAD] [PAD] [PAD] [PAD] [PAD] [PAD] [PAD] [PAD] [PAD] [PAD] [PAD] [PAD] [PAD] [PAD] [PAD] [PAD] [PAD] [PAD] [PAD] [PAD] [PAD] [PAD] [PAD] [PAD] [PAD] [PAD] [PAD] [PAD] [PAD] [PAD] [PAD] [PAD] [PAD] [PAD] [PAD] [PAD] [PAD] [PAD] [PAD] [PAD] [PAD] [PAD] [PAD] [PAD] [PAD] [PAD] [PAD] [PAD] [PAD] [PAD] [PAD] [PAD] [PAD] [PAD] [PAD] [PAD] [PAD] [PAD] [PAD] [PAD] [PAD] [PAD] [PAD] [PAD] [PAD] [PAD] [PAD] [PAD] [PAD] [PAD] [PAD] [PAD] [PAD] [PAD] [PAD] [PAD] [PAD] [PAD] [PAD] [PAD] [PAD] [PAD] [PAD] [PAD] [PAD] [PAD] [PAD] [PAD] [PAD] [PAD] [PAD] [PAD] [PAD] [PAD] [PAD] [PAD] [PAD] [PAD] [PAD] [PAD] [PAD] [PAD] [PAD] [PAD] [PAD] [PAD] [PAD] [PAD] [PAD] [PAD] [PAD] [PAD] [PAD] [PAD] [PAD] [PAD] [PAD] [PAD] [PAD] [PAD] [PAD] [PAD] [PAD] [PAD] [PAD] [PAD] [PAD] [PAD] [PAD] [PAD] [PAD] [PAD] [PAD] [PAD] [PAD] [PAD] [PAD] [PAD] [PAD] [PAD] [PAD] [PAD] [PAD] [PAD] [PAD] [PAD] [PAD] [PAD] [PAD] [PAD] [PAD] [PAD] [PAD] [PAD] [PAD] [PAD] [PAD] [PAD] [PAD] [PAD] [PAD] [PAD] [PAD] [PAD] [PAD] [PAD] [PAD] [PAD] [PAD] [PAD] [PAD] [PAD] [PAD] [PAD] [PAD] [PAD] [PAD] [PAD] [PAD]'"
      ]
     },
     "execution_count": 19,
     "metadata": {},
     "output_type": "execute_result"
    }
   ],
   "source": [
    "tknzr.decode(t['input_ids'][0,0,:])"
   ]
  },
  {
   "cell_type": "code",
   "execution_count": 20,
   "metadata": {},
   "outputs": [],
   "source": [
    "masks = np.where(t2['input_ids'][0,0,:] == 103)[0]"
   ]
  },
  {
   "cell_type": "code",
   "execution_count": 21,
   "metadata": {},
   "outputs": [],
   "source": [
    "iauth = [np.argmax(loaded_model_author(t)[0,m,:]) for m in masks] \n",
    "ising = [np.argmax(loaded_model_single(t2)[0,0,m,:]) for m in masks]"
   ]
  },
  {
   "cell_type": "code",
   "execution_count": 22,
   "metadata": {},
   "outputs": [],
   "source": [
    "decoded_sing = []\n",
    "c = 0\n",
    "for idx, tx in enumerate(list(t['input_ids'][0,0,:].numpy())):\n",
    "    if idx in masks:\n",
    "        decoded_sing.append(ising[c])\n",
    "        c += 1\n",
    "    else:\n",
    "        decoded_sing.append(tx)"
   ]
  },
  {
   "cell_type": "code",
   "execution_count": 23,
   "metadata": {},
   "outputs": [],
   "source": [
    "decoded_auth = []\n",
    "c = 0\n",
    "for idx, tx in enumerate(list(t['input_ids'][0,0,:].numpy())):\n",
    "    if idx in masks:\n",
    "        decoded_auth.append(iauth[c])\n",
    "        c += 1\n",
    "    else:\n",
    "        decoded_auth.append(tx)"
   ]
  },
  {
   "cell_type": "code",
   "execution_count": 24,
   "metadata": {},
   "outputs": [
    {
     "data": {
      "text/plain": [
       "'[CLS] round 1 : dagger is just about trapped in a crucifix. big right hand by dagger rockstar korobov. nice trade in the center. matt korobov has pressed dagger against the fence, throwing short.. round 2 : dagger comes back with a knee that capitalizes matt korobov ’ legs. big right hand over the hand by matt korobov, no. rips matt korobov down the body. matt korobov up, dagger back down, body lock. matt korobov kd up. all rounds - matt korobov, no chance for dagger. statistics : matt korobov vs dagger [SEP] [PAD] [PAD] [PAD] [PAD] [PAD] [PAD] [PAD] [PAD] [PAD] [PAD] [PAD] [PAD] [PAD] [PAD] [PAD] [PAD] [PAD] [PAD] [PAD] [PAD] [PAD] [PAD] [PAD] [PAD] [PAD] [PAD] [PAD] [PAD] [PAD] [PAD] [PAD] [PAD] [PAD] [PAD] [PAD] [PAD] [PAD] [PAD] [PAD] [PAD] [PAD] [PAD] [PAD] [PAD] [PAD] [PAD] [PAD] [PAD] [PAD] [PAD] [PAD] [PAD] [PAD] [PAD] [PAD] [PAD] [PAD] [PAD] [PAD] [PAD] [PAD] [PAD] [PAD] [PAD] [PAD] [PAD] [PAD] [PAD] [PAD] [PAD] [PAD] [PAD] [PAD] [PAD] [PAD] [PAD] [PAD] [PAD] [PAD] [PAD] [PAD] [PAD] [PAD] [PAD] [PAD] [PAD] [PAD] [PAD] [PAD] [PAD] [PAD] [PAD] [PAD] [PAD] [PAD] [PAD] [PAD] [PAD] [PAD] [PAD] [PAD] [PAD] [PAD] [PAD] [PAD] [PAD] [PAD] [PAD] [PAD] [PAD] [PAD] [PAD] [PAD] [PAD] [PAD] [PAD] [PAD] [PAD] [PAD] [PAD] [PAD] [PAD] [PAD] [PAD] [PAD] [PAD] [PAD] [PAD] [PAD] [PAD] [PAD] [PAD] [PAD] [PAD] [PAD] [PAD] [PAD] [PAD] [PAD] [PAD] [PAD] [PAD] [PAD] [PAD] [PAD] [PAD] [PAD] [PAD] [PAD] [PAD] [PAD] [PAD] [PAD] [PAD] [PAD] [PAD] [PAD] [PAD] [PAD] [PAD] [PAD] [PAD] [PAD] [PAD] [PAD] [PAD] [PAD] [PAD] [PAD] [PAD] [PAD] [PAD] [PAD] [PAD] [PAD] [PAD] [PAD] [PAD] [PAD] [PAD] [PAD] [PAD] [PAD] [PAD] [PAD] [PAD] [PAD] [PAD] [PAD] [PAD] [PAD] [PAD] [PAD] [PAD] [PAD] [PAD] [PAD] [PAD] [PAD] [PAD] [PAD] [PAD] [PAD] [PAD] [PAD] [PAD] [PAD] [PAD] [PAD] [PAD] [PAD] [PAD] [PAD] [PAD] [PAD] [PAD] [PAD] [PAD] [PAD] [PAD] [PAD] [PAD] [PAD] [PAD] [PAD] [PAD] [PAD] [PAD] [PAD] [PAD] [PAD] [PAD] [PAD] [PAD] [PAD] [PAD] [PAD] [PAD] [PAD] [PAD] [PAD] [PAD] [PAD] [PAD] [PAD] [PAD] [PAD] [PAD] [PAD] [PAD] [PAD] [PAD] [PAD] [PAD] [PAD] [PAD] [PAD] [PAD] [PAD] [PAD] [PAD] [PAD] [PAD] [PAD] [PAD] [PAD] [PAD] [PAD] [PAD] [PAD] [PAD] [PAD] [PAD] [PAD] [PAD] [PAD] [PAD] [PAD] [PAD] [PAD] [PAD] [PAD] [PAD] [PAD] [PAD] [PAD] [PAD] [PAD] [PAD] [PAD] [PAD] [PAD] [PAD] [PAD] [PAD] [PAD] [PAD] [PAD] [PAD] [PAD] [PAD] [PAD] [PAD] [PAD] [PAD] [PAD] [PAD] [PAD] [PAD] [PAD] [PAD] [PAD] [PAD] [PAD] [PAD] [PAD] [PAD] [PAD] [PAD] [PAD] [PAD] [PAD] [PAD] [PAD] [PAD] [PAD] [PAD] [PAD] [PAD] [PAD] [PAD] [PAD] [PAD] [PAD] [PAD] [PAD] [PAD] [PAD] [PAD] [PAD] [PAD] [PAD] [PAD] [PAD] [PAD] [PAD] [PAD] [PAD] [PAD] [PAD] [PAD] [PAD] [PAD] [PAD] [PAD] [PAD] [PAD] [PAD] [PAD] [PAD] [PAD] [PAD] [PAD] [PAD] [PAD] [PAD] [PAD] [PAD] [PAD]'"
      ]
     },
     "execution_count": 24,
     "metadata": {},
     "output_type": "execute_result"
    }
   ],
   "source": [
    "tknzr.decode(decoded_auth)#[:580]"
   ]
  },
  {
   "cell_type": "code",
   "execution_count": 25,
   "metadata": {},
   "outputs": [
    {
     "data": {
      "text/plain": [
       "'[CLS] round 1 : dagger is just about trapped in a crucifix. big right hand by dagger rocks matt korobov. nice trade in the center. matt korobov has pressed dagger against the fence, throwing short.. round 2 : dagger comes back with a knee that specializes matt korobov ’ legs. big right hand over the head by matt korobov, and. rips matt korobov in the body. matt korobov up, dagger back down, body lock. matt korobov kd up. all rounds - matt korobov, no chance for dagger. statistics - matt korobov vs dagger [SEP] [PAD] [PAD] [PAD] [PAD] [PAD] [PAD] [PAD] [PAD] [PAD] [PAD] [PAD] [PAD] [PAD] [PAD] [PAD] [PAD] [PAD] [PAD] [PAD] [PAD] [PAD] [PAD] [PAD] [PAD] [PAD] [PAD] [PAD] [PAD] [PAD] [PAD] [PAD] [PAD] [PAD] [PAD] [PAD] [PAD] [PAD] [PAD] [PAD] [PAD] [PAD] [PAD] [PAD] [PAD] [PAD] [PAD] [PAD] [PAD] [PAD] [PAD] [PAD] [PAD] [PAD] [PAD] [PAD] [PAD] [PAD] [PAD] [PAD] [PAD] [PAD] [PAD] [PAD] [PAD] [PAD] [PAD] [PAD] [PAD] [PAD] [PAD] [PAD] [PAD] [PAD] [PAD] [PAD] [PAD] [PAD] [PAD] [PAD] [PAD] [PAD] [PAD] [PAD] [PAD] [PAD] [PAD] [PAD] [PAD] [PAD] [PAD] [PAD] [PAD] [PAD] [PAD] [PAD] [PAD] [PAD] [PAD] [PAD] [PAD] [PAD] [PAD] [PAD] [PAD] [PAD] [PAD] [PAD] [PAD] [PAD] [PAD] [PAD] [PAD] [PAD] [PAD] [PAD] [PAD] [PAD] [PAD] [PAD] [PAD] [PAD] [PAD] [PAD] [PAD] [PAD] [PAD] [PAD] [PAD] [PAD] [PAD] [PAD] [PAD] [PAD] [PAD] [PAD] [PAD] [PAD] [PAD] [PAD] [PAD] [PAD] [PAD] [PAD] [PAD] [PAD] [PAD] [PAD] [PAD] [PAD] [PAD] [PAD] [PAD] [PAD] [PAD] [PAD] [PAD] [PAD] [PAD] [PAD] [PAD] [PAD] [PAD] [PAD] [PAD] [PAD] [PAD] [PAD] [PAD] [PAD] [PAD] [PAD] [PAD] [PAD] [PAD] [PAD] [PAD] [PAD] [PAD] [PAD] [PAD] [PAD] [PAD] [PAD] [PAD] [PAD] [PAD] [PAD] [PAD] [PAD] [PAD] [PAD] [PAD] [PAD] [PAD] [PAD] [PAD] [PAD] [PAD] [PAD] [PAD] [PAD] [PAD] [PAD] [PAD] [PAD] [PAD] [PAD] [PAD] [PAD] [PAD] [PAD] [PAD] [PAD] [PAD] [PAD] [PAD] [PAD] [PAD] [PAD] [PAD] [PAD] [PAD] [PAD] [PAD] [PAD] [PAD] [PAD] [PAD] [PAD] [PAD] [PAD] [PAD] [PAD] [PAD] [PAD] [PAD] [PAD] [PAD] [PAD] [PAD] [PAD] [PAD] [PAD] [PAD] [PAD] [PAD] [PAD] [PAD] [PAD] [PAD] [PAD] [PAD] [PAD] [PAD] [PAD] [PAD] [PAD] [PAD] [PAD] [PAD] [PAD] [PAD] [PAD] [PAD] [PAD] [PAD] [PAD] [PAD] [PAD] [PAD] [PAD] [PAD] [PAD] [PAD] [PAD] [PAD] [PAD] [PAD] [PAD] [PAD] [PAD] [PAD] [PAD] [PAD] [PAD] [PAD] [PAD] [PAD] [PAD] [PAD] [PAD] [PAD] [PAD] [PAD] [PAD] [PAD] [PAD] [PAD] [PAD] [PAD] [PAD] [PAD] [PAD] [PAD] [PAD] [PAD] [PAD] [PAD] [PAD] [PAD] [PAD] [PAD] [PAD] [PAD] [PAD] [PAD] [PAD] [PAD] [PAD] [PAD] [PAD] [PAD] [PAD] [PAD] [PAD] [PAD] [PAD] [PAD] [PAD] [PAD] [PAD] [PAD] [PAD] [PAD] [PAD] [PAD] [PAD] [PAD] [PAD] [PAD] [PAD] [PAD] [PAD] [PAD] [PAD] [PAD] [PAD] [PAD] [PAD] [PAD] [PAD] [PAD] [PAD] [PAD] [PAD] [PAD] [PAD] [PAD] [PAD] [PAD] [PAD] [PAD] [PAD] [PAD] [PAD] [PAD] [PAD] [PAD] [PAD]'"
      ]
     },
     "execution_count": 25,
     "metadata": {},
     "output_type": "execute_result"
    }
   ],
   "source": [
    "tknzr.decode(decoded_sing)#[:580]"
   ]
  },
  {
   "cell_type": "code",
   "execution_count": 26,
   "metadata": {},
   "outputs": [],
   "source": [
    "target_single = loaded_model_single.layers[0](t2['input_ids'][0,:,:]).last_hidden_state[0,:,:]\n",
    "target_author = loaded_model_author.layers[0](t2['input_ids'][0,:,:]).last_hidden_state[0,:,:]"
   ]
  },
  {
   "cell_type": "code",
   "execution_count": 27,
   "metadata": {},
   "outputs": [],
   "source": [
    "ctx_single = tf.reduce_mean(loaded_model_single.layers[0](t['input_ids'][0,:,:]).last_hidden_state[1:,0,:], axis=0)\n",
    "ctx_auth = tf.reduce_mean(loaded_model_author.layers[0](t['input_ids'][0,:,:]).last_hidden_state[1:,0,:], axis=0)"
   ]
  },
  {
   "cell_type": "code",
   "execution_count": null,
   "metadata": {},
   "outputs": [],
   "source": [
    "# Check the variance of the embeddings"
   ]
  },
  {
   "cell_type": "code",
   "execution_count": null,
   "metadata": {},
   "outputs": [],
   "source": [
    "# Computes \n",
    "crs = []\n",
    "crs_auth = []\n",
    "for a in range(512):\n",
    "    crs.append(np.corrcoef(target_single[a,:].numpy(), ctx_single.numpy())[0,1])\n",
    "    crs_auth.append(np.corrcoef(target_author[a,:].numpy(), ctx_auth.numpy())[0,1])"
   ]
  },
  {
   "cell_type": "code",
   "execution_count": 30,
   "metadata": {},
   "outputs": [],
   "source": [
    "nr = len(np.where(t['input_ids'][0,0,:]==0)[0])\n",
    "mask = [1] * (512-nr) + [0]*nr"
   ]
  },
  {
   "cell_type": "code",
   "execution_count": 31,
   "metadata": {},
   "outputs": [],
   "source": [
    "ds = pd.DataFrame(zip(crs, crs_auth, mask), columns=['single', 'auth', 'mask'])"
   ]
  },
  {
   "cell_type": "code",
   "execution_count": 34,
   "metadata": {},
   "outputs": [
    {
     "data": {
      "image/png": "[encoded data removed]",
      "text/plain": [
       "<Figure size 432x288 with 1 Axes>"
      ]
     },
     "metadata": {
      "needs_background": "light"
     },
     "output_type": "display_data"
    }
   ],
   "source": [
    "sns.lineplot(data=ds, x=range(512), y='single', hue='mask', palette=['lightblue', 'darkblue'], legend=False)\n",
    "sns.lineplot(data=ds, x=range(512), y='auth', hue='mask', palette=['darkorange', 'darkred'], legend=False)\n",
    "plt.xlabel('target token nr')\n",
    "plt.ylabel('correlation w aggregate context')\n",
    "plt.show()"
   ]
  },
  {
   "cell_type": "code",
   "execution_count": 142,
   "metadata": {},
   "outputs": [],
   "source": [
    "from reddit.losses import MLMLoss"
   ]
  },
  {
   "cell_type": "code",
   "execution_count": 147,
   "metadata": {},
   "outputs": [
    {
     "data": {
      "text/plain": [
       "[<tf.Tensor: shape=(), dtype=float32, numpy=3.2430754>,\n",
       " <tf.Tensor: shape=(), dtype=float32, numpy=4.0834966>,\n",
       " <tf.Tensor: shape=(), dtype=float32, numpy=0.52380955>]"
      ]
     },
     "execution_count": 147,
     "metadata": {},
     "output_type": "execute_result"
    }
   ],
   "source": [
    "loss(loaded_model_author(t), t['labels'])\n",
    "# Loss, entropy, correct"
   ]
  },
  {
   "cell_type": "code",
   "execution_count": 159,
   "metadata": {},
   "outputs": [],
   "source": [
    "results = tf.gather(loaded_model_author(t)[0], \n",
    "          indices=[[m] for m in masks])\n",
    "results = results[:,0,:]"
   ]
  },
  {
   "cell_type": "code",
   "execution_count": 169,
   "metadata": {},
   "outputs": [],
   "source": [
    "labels = tf.gather(t['labels'][0,0,:], \n",
    "          indices=masks)"
   ]
  },
  {
   "cell_type": "code",
   "execution_count": 174,
   "metadata": {},
   "outputs": [],
   "source": [
    "labels_h = tf.one_hot(labels, depth=30522)"
   ]
  },
  {
   "cell_type": "code",
   "execution_count": 190,
   "metadata": {},
   "outputs": [
    {
     "data": {
      "text/plain": [
       "<tf.Tensor: shape=(), dtype=int32, numpy=11>"
      ]
     },
     "execution_count": 190,
     "metadata": {},
     "output_type": "execute_result"
    }
   ],
   "source": [
    "tf.reduce_sum(tf.cast(tf.reduce_all(tf.one_hot(tf.argmax(results, axis=1), depth=30522) == labels_h, axis=1), tf.int32))"
   ]
  },
  {
   "cell_type": "code",
   "execution_count": 195,
   "metadata": {},
   "outputs": [],
   "source": [
    "from transformers import DistilBertConfig\n",
    "from transformers.models.distilbert.modeling_tf_distilbert import TFTransformerBlock"
   ]
  },
  {
   "cell_type": "code",
   "execution_count": 35,
   "metadata": {},
   "outputs": [
    {
     "name": "stdout",
     "output_type": "stream",
     "text": [
      ". for\n",
      ". that\n",
      ". .\n",
      ". ,\n",
      ". and\n",
      ". and\n",
      ". ’\n",
      ". on\n",
      ". .\n",
      ". ,\n"
     ]
    }
   ],
   "source": [
    "for i in tf.math.top_k(crs_auth, k=10).indices.numpy().tolist():\n",
    "    print(tknzr.decode([np.argmax(loaded_model_author(t)[0,i,:])]),\n",
    "         tknzr.decode([np.argmax(loaded_model_single(t2)[0,0,i,:])]),)"
   ]
  },
  {
   "cell_type": "code",
   "execution_count": null,
   "metadata": {},
   "outputs": [],
   "source": [
    "for i in range(1,11):\n",
    "    print(tknzr.decode(t['input_ids'][0,i,:]).split('[PAD]')[0])"
   ]
  },
  {
   "cell_type": "code",
   "execution_count": 488,
   "metadata": {},
   "outputs": [],
   "source": [
    "### NEXT:\n",
    "# Figure out how to append transformer to top\n",
    "# Train longer\n",
    "# Train from pre-trained, maybe even locking the weights?\n",
    "\n",
    "# NEXT NEXT\n",
    "# Try a distilbert with fewer layers w/ and w/out context as is right now\n",
    "# Try fewer distilbert layers and separate encoder for context\n",
    "# Try same layer with an attention thing\n",
    "# Try summing aggregate context representation at all layers\n",
    "\n",
    "# QUESTION:\n",
    "# How do I stack it?\n",
    "# How do I support 513\n",
    "\n",
    "# CHECKS\n",
    "# Check loss\n",
    "# Check masking of loss\n",
    "# Figure out what's happening with padding\n",
    "# Re-chack the scale\n",
    "\n",
    "# OTHER\n",
    "# Predict on ctx only?\n",
    "\n",
    "# NOTES\n",
    "# Integrate context in CLS token? Find other way to aggregate?\n",
    "# Other techniques:\n",
    "# - Try attention / transformer layer?\n",
    "# - Try early aggregation?\n",
    "# - Run random?\n",
    "# - Check list of ideas on gdoc"
   ]
  },
  {
   "cell_type": "code",
   "execution_count": 129,
   "metadata": {},
   "outputs": [
    {
     "data": {
      "text/plain": [
       "ListWrapper([<transformers.models.distilbert.modeling_tf_distilbert.TFTransformerBlock object at 0x7f5214b408b0>, <transformers.models.distilbert.modeling_tf_distilbert.TFTransformerBlock object at 0x7f5214a349d0>, <transformers.models.distilbert.modeling_tf_distilbert.TFTransformerBlock object at 0x7f5214a2fee0>, <transformers.models.distilbert.modeling_tf_distilbert.TFTransformerBlock object at 0x7f5214a27430>, <transformers.models.distilbert.modeling_tf_distilbert.TFTransformerBlock object at 0x7f5214a29940>, <transformers.models.distilbert.modeling_tf_distilbert.TFTransformerBlock object at 0x7f5214a32e50>])"
      ]
     },
     "execution_count": 129,
     "metadata": {},
     "output_type": "execute_result"
    }
   ],
   "source": [
    "loaded_model_author.layers[0]._layers[1]._layers[0]"
   ]
  },
  {
   "cell_type": "code",
   "execution_count": 138,
   "metadata": {},
   "outputs": [
    {
     "data": {
      "text/plain": [
       "<transformers.models.distilbert.modeling_tf_distilbert.TFDistilBertMainLayer at 0x7f5214b27a00>"
      ]
     },
     "execution_count": 138,
     "metadata": {},
     "output_type": "execute_result"
    }
   ],
   "source": []
  },
  {
   "cell_type": "code",
   "execution_count": 141,
   "metadata": {},
   "outputs": [
    {
     "ename": "TypeError",
     "evalue": "call() missing 3 required positional arguments: 'attn_mask', 'head_mask', and 'output_attentions'",
     "output_type": "error",
     "traceback": [
      "\u001b[0;31m---------------------------------------------------------------------------\u001b[0m",
      "\u001b[0;31mTypeError\u001b[0m                                 Traceback (most recent call last)",
      "\u001b[0;32m<ipython-input-141-d5d24711a85d>\u001b[0m in \u001b[0;36m<module>\u001b[0;34m\u001b[0m\n\u001b[0;32m----> 1\u001b[0;31m \u001b[0mloaded_model_author\u001b[0m\u001b[0;34m.\u001b[0m\u001b[0mlayers\u001b[0m\u001b[0;34m[\u001b[0m\u001b[0;36m0\u001b[0m\u001b[0;34m]\u001b[0m\u001b[0;34m.\u001b[0m\u001b[0m_layers\u001b[0m\u001b[0;34m[\u001b[0m\u001b[0;36m1\u001b[0m\u001b[0;34m]\u001b[0m\u001b[0;34m.\u001b[0m\u001b[0m_layers\u001b[0m\u001b[0;34m[\u001b[0m\u001b[0;36m0\u001b[0m\u001b[0;34m]\u001b[0m\u001b[0;34m[\u001b[0m\u001b[0;36m0\u001b[0m\u001b[0;34m]\u001b[0m\u001b[0;34m(\u001b[0m\u001b[0mloaded_model_author\u001b[0m\u001b[0;34m.\u001b[0m\u001b[0mlayers\u001b[0m\u001b[0;34m[\u001b[0m\u001b[0;36m0\u001b[0m\u001b[0;34m]\u001b[0m\u001b[0;34m(\u001b[0m\u001b[0mt\u001b[0m\u001b[0;34m[\u001b[0m\u001b[0;34m'input_ids'\u001b[0m\u001b[0;34m]\u001b[0m\u001b[0;34m[\u001b[0m\u001b[0;36m0\u001b[0m\u001b[0;34m,\u001b[0m\u001b[0;34m:\u001b[0m\u001b[0;34m,\u001b[0m\u001b[0;34m:\u001b[0m\u001b[0;34m]\u001b[0m\u001b[0;34m)\u001b[0m\u001b[0;34m)\u001b[0m\u001b[0;34m\u001b[0m\u001b[0;34m\u001b[0m\u001b[0m\n\u001b[0m",
      "\u001b[0;32m/usr/lib/python3/dist-packages/tensorflow/python/keras/engine/base_layer.py\u001b[0m in \u001b[0;36m__call__\u001b[0;34m(self, *args, **kwargs)\u001b[0m\n\u001b[1;32m   1010\u001b[0m         with autocast_variable.enable_auto_cast_variables(\n\u001b[1;32m   1011\u001b[0m             self._compute_dtype_object):\n\u001b[0;32m-> 1012\u001b[0;31m           \u001b[0moutputs\u001b[0m \u001b[0;34m=\u001b[0m \u001b[0mcall_fn\u001b[0m\u001b[0;34m(\u001b[0m\u001b[0minputs\u001b[0m\u001b[0;34m,\u001b[0m \u001b[0;34m*\u001b[0m\u001b[0margs\u001b[0m\u001b[0;34m,\u001b[0m \u001b[0;34m**\u001b[0m\u001b[0mkwargs\u001b[0m\u001b[0;34m)\u001b[0m\u001b[0;34m\u001b[0m\u001b[0;34m\u001b[0m\u001b[0m\n\u001b[0m\u001b[1;32m   1013\u001b[0m \u001b[0;34m\u001b[0m\u001b[0m\n\u001b[1;32m   1014\u001b[0m         \u001b[0;32mif\u001b[0m \u001b[0mself\u001b[0m\u001b[0;34m.\u001b[0m\u001b[0m_activity_regularizer\u001b[0m\u001b[0;34m:\u001b[0m\u001b[0;34m\u001b[0m\u001b[0;34m\u001b[0m\u001b[0m\n",
      "\u001b[0;31mTypeError\u001b[0m: call() missing 3 required positional arguments: 'attn_mask', 'head_mask', and 'output_attentions'"
     ]
    }
   ],
   "source": [
    "loaded_model_author.layers[0]._layers[1]._layers[0][0](loaded_model_author.layers[0](t['input_ids'][0,:,:]))"
   ]
  },
  {
   "cell_type": "code",
   "execution_count": 140,
   "metadata": {},
   "outputs": [
    {
     "data": {
      "text/plain": [
       "<transformers.models.distilbert.modeling_tf_distilbert.TFTransformerBlock at 0x7f5214b408b0>"
      ]
     },
     "execution_count": 140,
     "metadata": {},
     "output_type": "execute_result"
    }
   ],
   "source": [
    "loaded_model_author.layers[0]._layers[1]._layers[0][0]\n",
    "# How do I stack one more layer?\n",
    "# How do I make it support 512?"
   ]
  },
  {
   "cell_type": "code",
   "execution_count": 67,
   "metadata": {},
   "outputs": [
    {
     "data": {
      "text/plain": [
       "[<tensorflow.python.keras.layers.core.Dropout at 0x7f50fbcc7ca0>,\n",
       " <transformers.models.distilbert.modeling_tf_distilbert.TFMultiHeadSelfAttention at 0x7f50fbcc7eb0>,\n",
       " <tensorflow.python.keras.layers.normalization.LayerNormalization at 0x7f50fbcbdbe0>,\n",
       " <transformers.models.distilbert.modeling_tf_distilbert.TFFFN at 0x7f50fbcbdeb0>,\n",
       " <tensorflow.python.keras.layers.normalization.LayerNormalization at 0x7f50fbc4f8b0>,\n",
       " {}]"
      ]
     },
     "execution_count": 67,
     "metadata": {},
     "output_type": "execute_result"
    }
   ],
   "source": [
    "# Options\n",
    "# Make a copy of this layer after end (bi-encoder style)\n",
    "# Iteratively add context before\n",
    "\n",
    "# Dilemmas:\n",
    "# separate or integrated?\n",
    "\n",
    "# To do:\n",
    "# Add support for 513 elements"
   ]
  },
  {
   "cell_type": "code",
   "execution_count": 16,
   "metadata": {},
   "outputs": [],
   "source": [
    "model_base = BatchTransformerForContextMLM(TFDistilBertForMaskedLM, \n",
    "                                           'distilbert-base-uncased', add_dense=1)\n",
    "model_base.compile()"
   ]
  },
  {
   "cell_type": "code",
   "execution_count": 159,
   "metadata": {},
   "outputs": [
    {
     "name": "stderr",
     "output_type": "stream",
     "text": [
      "/home/roberta/.local/lib/python3.8/site-packages/numpy/core/fromnumeric.py:3372: RuntimeWarning: Mean of empty slice.\n",
      "  return _methods._mean(a, axis=axis, dtype=dtype,\n",
      "/home/roberta/.local/lib/python3.8/site-packages/numpy/core/_methods.py:170: RuntimeWarning: invalid value encountered in double_scalars\n",
      "  ret = ret.dtype.type(ret / rcount)\n",
      "/home/roberta/.local/lib/python3.8/site-packages/numpy/core/fromnumeric.py:3372: RuntimeWarning: Mean of empty slice.\n",
      "  return _methods._mean(a, axis=axis, dtype=dtype,\n",
      "/home/roberta/.local/lib/python3.8/site-packages/numpy/core/_methods.py:170: RuntimeWarning: invalid value encountered in double_scalars\n",
      "  ret = ret.dtype.type(ret / rcount)\n"
     ]
    },
    {
     "data": {
      "image/png": "[encoded data removed]",
      "text/plain": [
       "<Figure size 432x288 with 1 Axes>"
      ]
     },
     "metadata": {
      "needs_background": "light"
     },
     "output_type": "display_data"
    }
   ],
   "source": [
    "#fig, ax = plt.subplots(ncols=5, figsize=(20,3))\n",
    "\n",
    "# Get stuff and plot\n",
    "\n",
    "for idx, f in enumerate(fs):\n",
    "    info = f.split('/')\n",
    "    epoch = info[-2].split('-')[-1]\n",
    "    batch = info[3]\n",
    "    grouping = info[4]\n",
    "    model_info = info[-4].split('-')\n",
    "    trained = model_info[2]\n",
    "    frozen = model_info[1]\n",
    "    if grouping != 'single':\n",
    "        n_added = model_info[-6]\n",
    "        context_agg = model_info[-4]\n",
    "        aggregation = model_info[-3]\n",
    "        reset = model_info[-2]\n",
    "        fhead = model_info[-1]\n",
    "    else:\n",
    "        n_added = 0\n",
    "        context_agg = 'none'\n",
    "        aggregation = 'none'\n",
    "        \n",
    "    # Get test metrics\n",
    "    d = json.load(open(f))\n",
    "        \n",
    "    \n",
    "    avg_loss = np.nanmean(d['test_losses'])\n",
    "    avg_entropy = np.nanmean(d['test_entropy'])\n",
    "    avg_true = np.nanmean(d['test_is_true_top'])\n",
    "    \n",
    "    # Get ds of test metrics\n",
    "    sd_loss = np.nanstd(d['test_losses'])\n",
    "    sd_entropy = np.nanstd(d['test_entropy'])\n",
    "    sd_true = np.nanstd(d['is_true_top'])\n",
    "    \n",
    "    # Get other metrics with rolling average\n",
    "    if epoch != 'baseline':\n",
    "        loss = np.nanmean(d['losses'])\n",
    "        entropy  = np.nanmean(d['entropy'])\n",
    "        true = np.nanmean(d['is_true_top'])\n",
    "    else:\n",
    "        loss, entropy, true = tuple([None]*3)\n",
    "        \n",
    "    dict_log = {'grouping': [grouping],\n",
    "                 'trained': [trained],\n",
    "                 'n_added': [n_added],\n",
    "                 'frozen': [frozen],\n",
    "                 'context_agg': [context_agg],\n",
    "                 'aggregation': [aggregation],\n",
    "                 'test_loss': [avg_loss],\n",
    "                 'test_entropy': [avg_entropy],\n",
    "                 'test_true': [avg_true],\n",
    "                 'test_sd_loss': [sd_loss],\n",
    "                 'test_sd_entropy': [sd_entropy],\n",
    "                 'test_sd_true': [sd_true],\n",
    "                 'loss': [loss],\n",
    "                 'entropy': [entropy],\n",
    "                 'true': [true],\n",
    "                 'epoch': [epoch],\n",
    "                 'model_id': '_'.join([grouping, \n",
    "                                       trained, \n",
    "                                       str(n_added), \n",
    "                                       frozen,\n",
    "                                       context_agg,\n",
    "                                       aggregation, fhead])}\n",
    "    \n",
    "    # Make into df\n",
    "    df = pd.DataFrame(dict_log)\n",
    "    if idx == 0:\n",
    "        adf = df \n",
    "    else:\n",
    "        adf = pd.concat([adf, df], ignore_index=True, sort=True)\n",
    "    \n",
    "    if epoch == '0':\n",
    "        sns.lineplot(x=range(len(np.arange(0, 2000000, 1000))), \n",
    "                     y=[np.mean(d['is_true_top'][i:i+1000]) for i in np.arange(0, 2000000, 1000)],\n",
    "                     label='_'.join([batch, \n",
    "                                     trained, \n",
    "                                     frozen, \n",
    "                                     grouping, reset]),#'_'.join([grouping, \n",
    "                       #                trained, \n",
    "                       #                str(n_added), \n",
    "                       #                frozen,\n",
    "                       #                context_agg,\n",
    "                       #                aggregation,\n",
    "                       #                reset, fhead]), \n",
    "                     legend=True)\n",
    "#for a in ax:\n",
    "#    a.set_ylim(0,.5)\n",
    "plt.show()"
   ]
  },
  {
   "cell_type": "code",
   "execution_count": 239,
   "metadata": {},
   "outputs": [],
   "source": [
    "adf['fine_tune'] = adf['frozen'].map({'0_1_2_3_4': 'last_layer', 'none': 'all'})"
   ]
  },
  {
   "cell_type": "code",
   "execution_count": 116,
   "metadata": {},
   "outputs": [
    {
     "data": {
      "text/html": [
       "<div>\n",
       "<style scoped>\n",
       "    .dataframe tbody tr th:only-of-type {\n",
       "        vertical-align: middle;\n",
       "    }\n",
       "\n",
       "    .dataframe tbody tr th {\n",
       "        vertical-align: top;\n",
       "    }\n",
       "\n",
       "    .dataframe thead th {\n",
       "        text-align: right;\n",
       "    }\n",
       "</style>\n",
       "<table border=\"1\" class=\"dataframe\">\n",
       "  <thead>\n",
       "    <tr style=\"text-align: right;\">\n",
       "      <th></th>\n",
       "      <th>aggregation</th>\n",
       "      <th>context_agg</th>\n",
       "      <th>entropy</th>\n",
       "      <th>epoch</th>\n",
       "      <th>frozen</th>\n",
       "      <th>grouping</th>\n",
       "      <th>loss</th>\n",
       "      <th>model_id</th>\n",
       "      <th>n_added</th>\n",
       "      <th>test_entropy</th>\n",
       "      <th>test_loss</th>\n",
       "      <th>test_sd_entropy</th>\n",
       "      <th>test_sd_loss</th>\n",
       "      <th>test_sd_true</th>\n",
       "      <th>test_true</th>\n",
       "      <th>trained</th>\n",
       "      <th>true</th>\n",
       "    </tr>\n",
       "  </thead>\n",
       "  <tbody>\n",
       "    <tr>\n",
       "      <th>0</th>\n",
       "      <td>concatenate</td>\n",
       "      <td>cls</td>\n",
       "      <td>3.865027</td>\n",
       "      <td>0</td>\n",
       "      <td>all</td>\n",
       "      <td>author</td>\n",
       "      <td>4.025798</td>\n",
       "      <td>author_pretrained_1_all_cls_concatenate_nohfreeze</td>\n",
       "      <td>1</td>\n",
       "      <td>3.385225</td>\n",
       "      <td>3.489858</td>\n",
       "      <td>1.030045</td>\n",
       "      <td>1.511468</td>\n",
       "      <td>0.211246</td>\n",
       "      <td>0.393697</td>\n",
       "      <td>pretrained</td>\n",
       "      <td>0.344034</td>\n",
       "    </tr>\n",
       "    <tr>\n",
       "      <th>1</th>\n",
       "      <td>concatenate</td>\n",
       "      <td>cls</td>\n",
       "      <td>3.857437</td>\n",
       "      <td>0</td>\n",
       "      <td>all</td>\n",
       "      <td>random</td>\n",
       "      <td>4.015994</td>\n",
       "      <td>random_pretrained_1_all_cls_concatenate_nohfreeze</td>\n",
       "      <td>1</td>\n",
       "      <td>NaN</td>\n",
       "      <td>NaN</td>\n",
       "      <td>NaN</td>\n",
       "      <td>NaN</td>\n",
       "      <td>0.210535</td>\n",
       "      <td>NaN</td>\n",
       "      <td>pretrained</td>\n",
       "      <td>0.345141</td>\n",
       "    </tr>\n",
       "  </tbody>\n",
       "</table>\n",
       "</div>"
      ],
      "text/plain": [
       "   aggregation context_agg   entropy epoch frozen grouping      loss  \\\n",
       "0  concatenate         cls  3.865027     0    all   author  4.025798   \n",
       "1  concatenate         cls  3.857437     0    all   random  4.015994   \n",
       "\n",
       "                                            model_id n_added  test_entropy  \\\n",
       "0  author_pretrained_1_all_cls_concatenate_nohfreeze       1      3.385225   \n",
       "1  random_pretrained_1_all_cls_concatenate_nohfreeze       1           NaN   \n",
       "\n",
       "   test_loss  test_sd_entropy  test_sd_loss  test_sd_true  test_true  \\\n",
       "0   3.489858         1.030045      1.511468      0.211246   0.393697   \n",
       "1        NaN              NaN           NaN      0.210535        NaN   \n",
       "\n",
       "      trained      true  \n",
       "0  pretrained  0.344034  \n",
       "1  pretrained  0.345141  "
      ]
     },
     "execution_count": 116,
     "metadata": {},
     "output_type": "execute_result"
    }
   ],
   "source": [
    "adf.sort_values(by='epoch')"
   ]
  },
  {
   "cell_type": "code",
   "execution_count": null,
   "metadata": {},
   "outputs": [],
   "source": []
  }
 ],
 "metadata": {
  "kernelspec": {
   "display_name": "dl_test",
   "language": "python",
   "name": "dl_test"
  },
  "language_info": {
   "codemirror_mode": {
    "name": "ipython",
    "version": 3
   },
   "file_extension": ".py",
   "mimetype": "text/x-python",
   "name": "python",
   "nbconvert_exporter": "python",
   "pygments_lexer": "ipython3",
   "version": "3.8.10"
  }
 },
 "nbformat": 4,
 "nbformat_minor": 4
}
