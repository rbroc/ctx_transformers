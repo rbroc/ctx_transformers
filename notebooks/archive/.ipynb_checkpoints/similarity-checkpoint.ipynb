{
 "cells": [
  {
   "cell_type": "code",
   "execution_count": 1,
   "metadata": {},
   "outputs": [],
   "source": [
    "import glob\n",
    "import json\n",
    "import gzip\n",
    "import seaborn as sns\n",
    "from matplotlib import pyplot as plt\n",
    "import numpy as np\n",
    "from reddit.models import BatchTransformer\n",
    "from transformers import TFDistilBertModel\n",
    "from sklearn.preprocessing import StandardScaler, MinMaxScaler\n",
    "import os\n",
    "from reddit.utils import load_tfrecord\n",
    "import tensorflow as tf\n",
    "import pandas as pd"
   ]
  },
  {
   "cell_type": "code",
   "execution_count": 7,
   "metadata": {},
   "outputs": [],
   "source": [
    "df = pd.read_csv('../reddit/data/databases/test_author_cosine_dist_tsne.txt', \n",
    "                 sep='\\t', index_col=0)"
   ]
  },
  {
   "cell_type": "code",
   "execution_count": 9,
   "metadata": {},
   "outputs": [],
   "source": [
    "js = json.load(gzip.open('../reddit/data/json/triplet/1pos_1neg_random/test/batch_0.json.gz'))\n",
    "adict = {x['author_id']: x['author'] for x in js}"
   ]
  },
  {
   "cell_type": "code",
   "execution_count": 10,
   "metadata": {},
   "outputs": [],
   "source": [
    "ds = load_tfrecord(glob.glob('../reddit/data/datasets/triplet/1pos_1neg_random/test/batch_0-*'),\n",
    "                   ds_type='triplet')\n",
    "ds = ds.map(lambda x: {'input_ids': x['iids'][:3],\n",
    "                       'attention_mask': x['amask'][:3],\n",
    "                       'author': x['author_id']\n",
    "                      })#.batch(16)"
   ]
  },
  {
   "cell_type": "code",
   "execution_count": 36,
   "metadata": {},
   "outputs": [
    {
     "name": "stderr",
     "output_type": "stream",
     "text": [
      "Some layers from the model checkpoint at distilbert-base-uncased were not used when initializing TFDistilBertModel: ['activation_13', 'vocab_layer_norm', 'vocab_projector', 'vocab_transform']\n",
      "- This IS expected if you are initializing TFDistilBertModel from the checkpoint of a model trained on another task or with another architecture (e.g. initializing a BertForSequenceClassification model from a BertForPreTraining model).\n",
      "- This IS NOT expected if you are initializing TFDistilBertModel from the checkpoint of a model that you expect to be exactly identical (initializing a BertForSequenceClassification model from a BertForSequenceClassification model).\n",
      "All the layers of TFDistilBertModel were initialized from the model checkpoint at distilbert-base-uncased.\n",
      "If your task is similar to the task the model of the checkpoint was trained on, you can already use TFDistilBertModel for predictions without further training.\n",
      "All model checkpoint layers were used when initializing TFDistilBertModel.\n",
      "\n",
      "All the layers of TFDistilBertModel were initialized from the model checkpoint at ../../triplet-eval/models/10_1_1_standard.\n",
      "If your task is similar to the task the model of the checkpoint was trained on, you can already use TFDistilBertModel for predictions without further training.\n"
     ]
    }
   ],
   "source": [
    "db = TFDistilBertModel.from_pretrained('distilbert-base-uncased')\n",
    "tp = TFDistilBertModel.from_pretrained( '../../triplet-eval/models/10_1_1_standard')"
   ]
  },
  {
   "cell_type": "code",
   "execution_count": 12,
   "metadata": {},
   "outputs": [
    {
     "name": "stdout",
     "output_type": "stream",
     "text": [
      "10000\n"
     ]
    }
   ],
   "source": [
    "c= 0\n",
    "for i in ds:\n",
    "    c+=1\n",
    "print(c)"
   ]
  },
  {
   "cell_type": "code",
   "execution_count": 37,
   "metadata": {},
   "outputs": [
    {
     "name": "stdout",
     "output_type": "stream",
     "text": [
      "1000 out of 10000\n",
      "2000 out of 10000\n",
      "3000 out of 10000\n",
      "4000 out of 10000\n",
      "5000 out of 10000\n",
      "6000 out of 10000\n",
      "7000 out of 10000\n",
      "8000 out of 10000\n",
      "9000 out of 10000\n",
      "10000 out of 10000\n"
     ]
    }
   ],
   "source": [
    "dbenc, tpenc = [], []\n",
    "for i, d in enumerate(ds):\n",
    "    if (i+1)%1000==0:\n",
    "        print(f'{i+1} out of {c}')\n",
    "    dbenc.append(tf.reduce_mean(db(d).last_hidden_state[:,0,:], axis=0))\n",
    "    tpenc.append(tf.reduce_mean(tp(d).last_hidden_state[:,0,:], axis=0))"
   ]
  },
  {
   "cell_type": "code",
   "execution_count": 38,
   "metadata": {},
   "outputs": [],
   "source": [
    "#dbenc_stacked = np.concatenate([tf.expand_dims(i,0).numpy() \n",
    "#                                for i in dbenc], axis=0)\n",
    "tpenc_stacked = np.concatenate([tf.expand_dims(i,0).numpy() \n",
    "                                for i in tpenc], axis=0)"
   ]
  },
  {
   "cell_type": "code",
   "execution_count": 39,
   "metadata": {},
   "outputs": [],
   "source": [
    "#dbenc_df = pd.DataFrame(dbenc_stacked)\n",
    "#dbenc_df.index = [adict[i['author'].numpy()] for i in ds]\n",
    "tpenc_df = pd.DataFrame(tpenc_stacked)\n",
    "tpenc_df.index = [adict[i['author'].numpy()] for i in ds]"
   ]
  },
  {
   "cell_type": "code",
   "execution_count": 40,
   "metadata": {},
   "outputs": [],
   "source": [
    "from scipy.spatial.distance import cdist\n",
    "#db_cor = pd.DataFrame(cdist(dbenc_df, dbenc_df, 'cosine'))\n",
    "tp_cor = pd.DataFrame(cdist(tpenc_df, tpenc_df, 'cosine'))\n",
    "#db_cor.columns = dbenc_df.index\n",
    "#db_cor.index = dbenc_df.index\n",
    "tp_cor.columns = dbenc_df.index\n",
    "tp_cor.index = dbenc_df.index"
   ]
  },
  {
   "cell_type": "code",
   "execution_count": 41,
   "metadata": {},
   "outputs": [
    {
     "name": "stderr",
     "output_type": "stream",
     "text": [
      "<ipython-input-41-ddd51ad4cffb>:1: DeprecationWarning: `np.bool` is a deprecated alias for the builtin `bool`. To silence this warning, use `bool` by itself. Doing this will not modify any behavior and is safe. If you specifically wanted the numpy scalar type, use `np.bool_` here.\n",
      "Deprecated in NumPy 1.20; for more details and guidance: https://numpy.org/devdocs/release/1.20.0-notes.html#deprecations\n",
      "  tp_cor = tp_cor.where(np.triu(np.ones(tp_cor.shape), k=1).astype(np.bool))\n"
     ]
    }
   ],
   "source": [
    "tp_cor = tp_cor.where(np.triu(np.ones(tp_cor.shape), k=1).astype(np.bool))\n",
    "tp_long = tp_cor.stack().reset_index()\n",
    "tp_long.columns = ['a1','a2','cd']"
   ]
  },
  {
   "cell_type": "code",
   "execution_count": 18,
   "metadata": {},
   "outputs": [
    {
     "name": "stderr",
     "output_type": "stream",
     "text": [
      "<ipython-input-18-903057a5feb0>:1: DeprecationWarning: `np.bool` is a deprecated alias for the builtin `bool`. To silence this warning, use `bool` by itself. Doing this will not modify any behavior and is safe. If you specifically wanted the numpy scalar type, use `np.bool_` here.\n",
      "Deprecated in NumPy 1.20; for more details and guidance: https://numpy.org/devdocs/release/1.20.0-notes.html#deprecations\n",
      "  db_cor = db_cor.where(np.triu(np.ones(db_cor.shape), k=1).astype(np.bool))\n"
     ]
    }
   ],
   "source": [
    "db_cor = db_cor.where(np.triu(np.ones(db_cor.shape), k=1).astype(np.bool))\n",
    "db_long = db_cor.stack().reset_index()\n",
    "db_long.columns = ['a1','a2','cd']"
   ]
  },
  {
   "cell_type": "code",
   "execution_count": 19,
   "metadata": {},
   "outputs": [
    {
     "name": "stderr",
     "output_type": "stream",
     "text": [
      "<ipython-input-19-e954afba7a16>:1: DeprecationWarning: `np.bool` is a deprecated alias for the builtin `bool`. To silence this warning, use `bool` by itself. Doing this will not modify any behavior and is safe. If you specifically wanted the numpy scalar type, use `np.bool_` here.\n",
      "Deprecated in NumPy 1.20; for more details and guidance: https://numpy.org/devdocs/release/1.20.0-notes.html#deprecations\n",
      "  df_masked = df.where(np.triu(np.ones(df.shape), k=1).astype(np.bool))\n"
     ]
    }
   ],
   "source": [
    "df_masked = df.where(np.triu(np.ones(df.shape), k=1).astype(np.bool))\n",
    "df_long = df_masked.stack().reset_index()\n",
    "df_long.columns = ['a1','a2','gt']"
   ]
  },
  {
   "cell_type": "code",
   "execution_count": 42,
   "metadata": {},
   "outputs": [],
   "source": [
    "#db_merged = db_long.merge(df_long, how='inner')\n",
    "tp_merged = tp_long.merge(df_long, how='inner')\n",
    "#db_merged['cd'] = MinMaxScaler().fit_transform(db_merged[['cd']])\n",
    "tp_merged['cd'] = MinMaxScaler().fit_transform(tp_merged[['cd']])"
   ]
  },
  {
   "cell_type": "markdown",
   "metadata": {},
   "source": [
    "Plot and compute correlation"
   ]
  },
  {
   "cell_type": "code",
   "execution_count": 59,
   "metadata": {},
   "outputs": [
    {
     "data": {
      "image/png": "[encoded data removed]",
      "text/plain": [
       "<Figure size 432x288 with 1 Axes>"
      ]
     },
     "metadata": {
      "needs_background": "light"
     },
     "output_type": "display_data"
    }
   ],
   "source": [
    "sns.scatterplot(data=db_merged.sample(5000), x='gt', y='cd', label='distilbert')\n",
    "sns.scatterplot(data=tp_merged.sample(5000), x='gt', y='cd', label='post_training')\n",
    "plt.ylim(0,1)\n",
    "plt.show()"
   ]
  },
  {
   "cell_type": "code",
   "execution_count": 56,
   "metadata": {},
   "outputs": [
    {
     "data": {
      "text/plain": [
       "array([[1.        , 0.14727195],\n",
       "       [0.14727195, 1.        ]])"
      ]
     },
     "execution_count": 56,
     "metadata": {},
     "output_type": "execute_result"
    }
   ],
   "source": [
    "np.corrcoef(db_merged['gt'], db_merged['cd'])"
   ]
  },
  {
   "cell_type": "code",
   "execution_count": 57,
   "metadata": {},
   "outputs": [
    {
     "data": {
      "text/plain": [
       "array([[1.        , 0.15480275],\n",
       "       [0.15480275, 1.        ]])"
      ]
     },
     "execution_count": 57,
     "metadata": {},
     "output_type": "execute_result"
    }
   ],
   "source": [
    "np.corrcoef(tp_merged['gt'], tp_merged['cd'])"
   ]
  },
  {
   "cell_type": "code",
   "execution_count": null,
   "metadata": {},
   "outputs": [],
   "source": []
  }
 ],
 "metadata": {
  "kernelspec": {
   "display_name": "tw-langmod",
   "language": "python",
   "name": "tw-langmod"
  },
  "language_info": {
   "codemirror_mode": {
    "name": "ipython",
    "version": 3
   },
   "file_extension": ".py",
   "mimetype": "text/x-python",
   "name": "python",
   "nbconvert_exporter": "python",
   "pygments_lexer": "ipython3",
   "version": "3.8.10"
  }
 },
 "nbformat": 4,
 "nbformat_minor": 4
}
