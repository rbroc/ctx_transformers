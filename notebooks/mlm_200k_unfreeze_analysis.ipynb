{
 "cells": [
  {
   "cell_type": "code",
   "execution_count": 242,
   "metadata": {},
   "outputs": [],
   "source": [
    "import gzip\n",
    "import json\n",
    "import glob\n",
    "import random\n",
    "import tensorflow as tf\n",
    "import os\n",
    "import numpy as np\n",
    "import seaborn as sns\n",
    "from matplotlib import pyplot as plt\n",
    "import pandas as pd\n",
    "from reddit.models import BatchTransformerForContextMLM\n",
    "from transformers import TFDistilBertForMaskedLM, DistilBertTokenizer\n",
    "from reddit.utils import load_tfrecord, mask_and_stack_mlm"
   ]
  },
  {
   "cell_type": "code",
   "execution_count": 243,
   "metadata": {},
   "outputs": [],
   "source": [
    "os.environ['CUDA_VISIBLE_DEVICES'] = \"-1\""
   ]
  },
  {
   "cell_type": "code",
   "execution_count": 244,
   "metadata": {},
   "outputs": [],
   "source": [
    "pattern_1 = '../logs/mlm/10context_3layers/*/metrics/*/mlm/*/log.json'\n",
    "fs = glob.glob(pattern_1) \n",
    "pattern_2 = '../logs/mlm/10context_2608/*/metrics/*/mlm/*/log.json'\n",
    "fs = glob.glob(pattern_2) + fs"
   ]
  },
  {
   "cell_type": "code",
   "execution_count": 71,
   "metadata": {},
   "outputs": [
    {
     "name": "stdout",
     "output_type": "stream",
     "text": [
      "WARNING:tensorflow:No training configuration found in save file, so the model was *not* compiled. Compile it manually.\n",
      "WARNING:tensorflow:No training configuration found in save file, so the model was *not* compiled. Compile it manually.\n"
     ]
    }
   ],
   "source": [
    "#loaded_model_random = tf.keras.models.load_model('../logs/mlm/10context_2608/random/checkpoint/BatchTransformerForContextMLM-none-pretrained-0-none-cls-concatenate-reset-nohfreeze/mlm/epoch-1/batch-195494-of-195494')\n",
    "loaded_model_author = tf.keras.models.load_model('../logs/mlm/10context_2608/author/checkpoint/BatchTransformerForContextMLM-none-pretrained-0-none-cls-concatenate-reset-nohfreeze/mlm/epoch-3/batch-195494-of-195494')\n",
    "loaded_model_single = tf.keras.models.load_model('../logs/mlm/10context_2608/single/checkpoint/BatchTransformerForMLM-none-pretrained-reset-nohfreeze/mlm/epoch-3/batch-195494-of-195494')\n",
    "#loaded_model_author_0 = tf.keras.models.load_model('../logs/mlm/10context_2108/author/checkpoint/BatchTransformerForContextMLM-none-pretrained-0-none-cls-concatenate-reset-nohfreeze/mlm/epoch-0/batch-195494-of-195494')\n",
    "#baseline_model = DistilBertForMaskedLM.from_pretrained('distilbert-base-uncased')"
   ]
  },
  {
   "cell_type": "code",
   "execution_count": 13,
   "metadata": {},
   "outputs": [],
   "source": [
    "d = load_tfrecord(glob.glob('../reddit/data/datasets/mlm/10context_large/author/train/batch_100*'), \n",
    "                  ds_type='mlm')\n",
    "d = mask_and_stack_mlm(d).batch(1)"
   ]
  },
  {
   "cell_type": "code",
   "execution_count": 14,
   "metadata": {},
   "outputs": [],
   "source": [
    "for i in d.take(30):\n",
    "    t = i"
   ]
  },
  {
   "cell_type": "code",
   "execution_count": 15,
   "metadata": {},
   "outputs": [],
   "source": [
    "t2 = dict(zip(t.keys(), \n",
    "              [tf.expand_dims(k[:,0,:], axis=0) for k in list(t.values())[:2]] + [list(t.values())[2]] + [tf.expand_dims(list(t.values())[3][:,0,:], axis=0)]))"
   ]
  },
  {
   "cell_type": "code",
   "execution_count": 18,
   "metadata": {},
   "outputs": [],
   "source": [
    "tknzr = DistilBertTokenizer.from_pretrained('distilbert-base-uncased')"
   ]
  },
  {
   "cell_type": "code",
   "execution_count": 19,
   "metadata": {},
   "outputs": [
    {
     "data": {
      "text/plain": [
       "'[CLS] round 1 [MASK] dagger is just about trapped in a crucifix. big [MASK] hand by dagger rocks [MASK] korobov. nice trade in the center. matt korobov has pressed dagger against the fence, throwing short [MASK] [MASK] round 2 : dagger comes back with a knee that [MASK]izes matt [MASK]robov ’ legs. big right [MASK] over the [MASK] by matt korobov, [MASK] [MASK] rips matt korobov [MASK] the body. matt koro [MASK]v up, dagger back down [MASK] body lock. matt [MASK] [MASK]bov [MASK]d up. all rounds - [MASK] [MASK]robov, no chance for dagger. statistics [MASK] [MASK] korobov vs dagger [SEP] [PAD] [PAD] [PAD] [PAD] [PAD] [PAD] [PAD] [PAD] [PAD] [PAD] [PAD] [PAD] [PAD] [PAD] [PAD] [PAD] [PAD] [PAD] [PAD] [PAD] [PAD] [PAD] [PAD] [PAD] [PAD] [PAD] [PAD] [PAD] [PAD] [PAD] [PAD] [PAD] [PAD] [PAD] [PAD] [PAD] [PAD] [PAD] [PAD] [PAD] [PAD] [PAD] [PAD] [PAD] [PAD] [PAD] [PAD] [PAD] [PAD] [PAD] [PAD] [PAD] [PAD] [PAD] [PAD] [PAD] [PAD] [PAD] [PAD] [PAD] [PAD] [PAD] [PAD] [PAD] [PAD] [PAD] [PAD] [PAD] [PAD] [PAD] [PAD] [PAD] [PAD] [PAD] [PAD] [PAD] [PAD] [PAD] [PAD] [PAD] [PAD] [PAD] [PAD] [PAD] [PAD] [PAD] [PAD] [PAD] [PAD] [PAD] [PAD] [PAD] [PAD] [PAD] [PAD] [PAD] [PAD] [PAD] [PAD] [PAD] [PAD] [PAD] [PAD] [PAD] [PAD] [PAD] [PAD] [PAD] [PAD] [PAD] [PAD] [PAD] [PAD] [PAD] [PAD] [PAD] [PAD] [PAD] [PAD] [PAD] [PAD] [PAD] [PAD] [PAD] [PAD] [PAD] [PAD] [PAD] [PAD] [PAD] [PAD] [PAD] [PAD] [PAD] [PAD] [PAD] [PAD] [PAD] [PAD] [PAD] [PAD] [PAD] [PAD] [PAD] [PAD] [PAD] [PAD] [PAD] [PAD] [PAD] [PAD] [PAD] [PAD] [PAD] [PAD] [PAD] [PAD] [PAD] [PAD] [PAD] [PAD] [PAD] [PAD] [PAD] [PAD] [PAD] [PAD] [PAD] [PAD] [PAD] [PAD] [PAD] [PAD] [PAD] [PAD] [PAD] [PAD] [PAD] [PAD] [PAD] [PAD] [PAD] [PAD] [PAD] [PAD] [PAD] [PAD] [PAD] [PAD] [PAD] [PAD] [PAD] [PAD] [PAD] [PAD] [PAD] [PAD] [PAD] [PAD] [PAD] [PAD] [PAD] [PAD] [PAD] [PAD] [PAD] [PAD] [PAD] [PAD] [PAD] [PAD] [PAD] [PAD] [PAD] [PAD] [PAD] [PAD] [PAD] [PAD] [PAD] [PAD] [PAD] [PAD] [PAD] [PAD] [PAD] [PAD] [PAD] [PAD] [PAD] [PAD] [PAD] [PAD] [PAD] [PAD] [PAD] [PAD] [PAD] [PAD] [PAD] [PAD] [PAD] [PAD] [PAD] [PAD] [PAD] [PAD] [PAD] [PAD] [PAD] [PAD] [PAD] [PAD] [PAD] [PAD] [PAD] [PAD] [PAD] [PAD] [PAD] [PAD] [PAD] [PAD] [PAD] [PAD] [PAD] [PAD] [PAD] [PAD] [PAD] [PAD] [PAD] [PAD] [PAD] [PAD] [PAD] [PAD] [PAD] [PAD] [PAD] [PAD] [PAD] [PAD] [PAD] [PAD] [PAD] [PAD] [PAD] [PAD] [PAD] [PAD] [PAD] [PAD] [PAD] [PAD] [PAD] [PAD] [PAD] [PAD] [PAD] [PAD] [PAD] [PAD] [PAD] [PAD] [PAD] [PAD] [PAD] [PAD] [PAD] [PAD] [PAD] [PAD] [PAD] [PAD] [PAD] [PAD] [PAD] [PAD] [PAD] [PAD] [PAD] [PAD] [PAD] [PAD] [PAD] [PAD] [PAD] [PAD] [PAD] [PAD] [PAD] [PAD] [PAD] [PAD] [PAD] [PAD] [PAD] [PAD] [PAD] [PAD] [PAD] [PAD] [PAD] [PAD] [PAD] [PAD] [PAD] [PAD] [PAD] [PAD] [PAD] [PAD] [PAD] [PAD] [PAD] [PAD] [PAD] [PAD] [PAD] [PAD] [PAD] [PAD] [PAD] [PAD] [PAD] [PAD] [PAD] [PAD]'"
      ]
     },
     "execution_count": 19,
     "metadata": {},
     "output_type": "execute_result"
    }
   ],
   "source": [
    "tknzr.decode(t['input_ids'][0,0,:])"
   ]
  },
  {
   "cell_type": "code",
   "execution_count": 20,
   "metadata": {},
   "outputs": [],
   "source": [
    "masks = np.where(t2['input_ids'][0,0,:] == 103)[0]"
   ]
  },
  {
   "cell_type": "code",
   "execution_count": 21,
   "metadata": {},
   "outputs": [],
   "source": [
    "iauth = [np.argmax(loaded_model_author(t)[0,m,:]) for m in masks] \n",
    "ising = [np.argmax(loaded_model_single(t2)[0,0,m,:]) for m in masks]"
   ]
  },
  {
   "cell_type": "code",
   "execution_count": 22,
   "metadata": {},
   "outputs": [],
   "source": [
    "decoded_sing = []\n",
    "c = 0\n",
    "for idx, tx in enumerate(list(t['input_ids'][0,0,:].numpy())):\n",
    "    if idx in masks:\n",
    "        decoded_sing.append(ising[c])\n",
    "        c += 1\n",
    "    else:\n",
    "        decoded_sing.append(tx)"
   ]
  },
  {
   "cell_type": "code",
   "execution_count": 23,
   "metadata": {},
   "outputs": [],
   "source": [
    "decoded_auth = []\n",
    "c = 0\n",
    "for idx, tx in enumerate(list(t['input_ids'][0,0,:].numpy())):\n",
    "    if idx in masks:\n",
    "        decoded_auth.append(iauth[c])\n",
    "        c += 1\n",
    "    else:\n",
    "        decoded_auth.append(tx)"
   ]
  },
  {
   "cell_type": "code",
   "execution_count": 24,
   "metadata": {},
   "outputs": [
    {
     "data": {
      "text/plain": [
       "'[CLS] round 1 : dagger is just about trapped in a crucifix. big right hand by dagger rockstar korobov. nice trade in the center. matt korobov has pressed dagger against the fence, throwing short.. round 2 : dagger comes back with a knee that capitalizes matt korobov ’ legs. big right hand over the hand by matt korobov, no. rips matt korobov down the body. matt korobov up, dagger back down, body lock. matt korobov kd up. all rounds - matt korobov, no chance for dagger. statistics : matt korobov vs dagger [SEP] [PAD] [PAD] [PAD] [PAD] [PAD] [PAD] [PAD] [PAD] [PAD] [PAD] [PAD] [PAD] [PAD] [PAD] [PAD] [PAD] [PAD] [PAD] [PAD] [PAD] [PAD] [PAD] [PAD] [PAD] [PAD] [PAD] [PAD] [PAD] [PAD] [PAD] [PAD] [PAD] [PAD] [PAD] [PAD] [PAD] [PAD] [PAD] [PAD] [PAD] [PAD] [PAD] [PAD] [PAD] [PAD] [PAD] [PAD] [PAD] [PAD] [PAD] [PAD] [PAD] [PAD] [PAD] [PAD] [PAD] [PAD] [PAD] [PAD] [PAD] [PAD] [PAD] [PAD] [PAD] [PAD] [PAD] [PAD] [PAD] [PAD] [PAD] [PAD] [PAD] [PAD] [PAD] [PAD] [PAD] [PAD] [PAD] [PAD] [PAD] [PAD] [PAD] [PAD] [PAD] [PAD] [PAD] [PAD] [PAD] [PAD] [PAD] [PAD] [PAD] [PAD] [PAD] [PAD] [PAD] [PAD] [PAD] [PAD] [PAD] [PAD] [PAD] [PAD] [PAD] [PAD] [PAD] [PAD] [PAD] [PAD] [PAD] [PAD] [PAD] [PAD] [PAD] [PAD] [PAD] [PAD] [PAD] [PAD] [PAD] [PAD] [PAD] [PAD] [PAD] [PAD] [PAD] [PAD] [PAD] [PAD] [PAD] [PAD] [PAD] [PAD] [PAD] [PAD] [PAD] [PAD] [PAD] [PAD] [PAD] [PAD] [PAD] [PAD] [PAD] [PAD] [PAD] [PAD] [PAD] [PAD] [PAD] [PAD] [PAD] [PAD] [PAD] [PAD] [PAD] [PAD] [PAD] [PAD] [PAD] [PAD] [PAD] [PAD] [PAD] [PAD] [PAD] [PAD] [PAD] [PAD] [PAD] [PAD] [PAD] [PAD] [PAD] [PAD] [PAD] [PAD] [PAD] [PAD] [PAD] [PAD] [PAD] [PAD] [PAD] [PAD] [PAD] [PAD] [PAD] [PAD] [PAD] [PAD] [PAD] [PAD] [PAD] [PAD] [PAD] [PAD] [PAD] [PAD] [PAD] [PAD] [PAD] [PAD] [PAD] [PAD] [PAD] [PAD] [PAD] [PAD] [PAD] [PAD] [PAD] [PAD] [PAD] [PAD] [PAD] [PAD] [PAD] [PAD] [PAD] [PAD] [PAD] [PAD] [PAD] [PAD] [PAD] [PAD] [PAD] [PAD] [PAD] [PAD] [PAD] [PAD] [PAD] [PAD] [PAD] [PAD] [PAD] [PAD] [PAD] [PAD] [PAD] [PAD] [PAD] [PAD] [PAD] [PAD] [PAD] [PAD] [PAD] [PAD] [PAD] [PAD] [PAD] [PAD] [PAD] [PAD] [PAD] [PAD] [PAD] [PAD] [PAD] [PAD] [PAD] [PAD] [PAD] [PAD] [PAD] [PAD] [PAD] [PAD] [PAD] [PAD] [PAD] [PAD] [PAD] [PAD] [PAD] [PAD] [PAD] [PAD] [PAD] [PAD] [PAD] [PAD] [PAD] [PAD] [PAD] [PAD] [PAD] [PAD] [PAD] [PAD] [PAD] [PAD] [PAD] [PAD] [PAD] [PAD] [PAD] [PAD] [PAD] [PAD] [PAD] [PAD] [PAD] [PAD] [PAD] [PAD] [PAD] [PAD] [PAD] [PAD] [PAD] [PAD] [PAD] [PAD] [PAD] [PAD] [PAD] [PAD] [PAD] [PAD] [PAD] [PAD] [PAD] [PAD] [PAD] [PAD] [PAD] [PAD] [PAD] [PAD] [PAD] [PAD] [PAD] [PAD] [PAD] [PAD] [PAD] [PAD] [PAD] [PAD] [PAD] [PAD] [PAD] [PAD] [PAD] [PAD] [PAD] [PAD] [PAD] [PAD] [PAD] [PAD] [PAD] [PAD] [PAD] [PAD] [PAD] [PAD] [PAD] [PAD] [PAD] [PAD] [PAD] [PAD] [PAD] [PAD]'"
      ]
     },
     "execution_count": 24,
     "metadata": {},
     "output_type": "execute_result"
    }
   ],
   "source": [
    "tknzr.decode(decoded_auth)#[:580]"
   ]
  },
  {
   "cell_type": "code",
   "execution_count": 25,
   "metadata": {},
   "outputs": [
    {
     "data": {
      "text/plain": [
       "'[CLS] round 1 : dagger is just about trapped in a crucifix. big right hand by dagger rocks matt korobov. nice trade in the center. matt korobov has pressed dagger against the fence, throwing short.. round 2 : dagger comes back with a knee that specializes matt korobov ’ legs. big right hand over the head by matt korobov, and. rips matt korobov in the body. matt korobov up, dagger back down, body lock. matt korobov kd up. all rounds - matt korobov, no chance for dagger. statistics - matt korobov vs dagger [SEP] [PAD] [PAD] [PAD] [PAD] [PAD] [PAD] [PAD] [PAD] [PAD] [PAD] [PAD] [PAD] [PAD] [PAD] [PAD] [PAD] [PAD] [PAD] [PAD] [PAD] [PAD] [PAD] [PAD] [PAD] [PAD] [PAD] [PAD] [PAD] [PAD] [PAD] [PAD] [PAD] [PAD] [PAD] [PAD] [PAD] [PAD] [PAD] [PAD] [PAD] [PAD] [PAD] [PAD] [PAD] [PAD] [PAD] [PAD] [PAD] [PAD] [PAD] [PAD] [PAD] [PAD] [PAD] [PAD] [PAD] [PAD] [PAD] [PAD] [PAD] [PAD] [PAD] [PAD] [PAD] [PAD] [PAD] [PAD] [PAD] [PAD] [PAD] [PAD] [PAD] [PAD] [PAD] [PAD] [PAD] [PAD] [PAD] [PAD] [PAD] [PAD] [PAD] [PAD] [PAD] [PAD] [PAD] [PAD] [PAD] [PAD] [PAD] [PAD] [PAD] [PAD] [PAD] [PAD] [PAD] [PAD] [PAD] [PAD] [PAD] [PAD] [PAD] [PAD] [PAD] [PAD] [PAD] [PAD] [PAD] [PAD] [PAD] [PAD] [PAD] [PAD] [PAD] [PAD] [PAD] [PAD] [PAD] [PAD] [PAD] [PAD] [PAD] [PAD] [PAD] [PAD] [PAD] [PAD] [PAD] [PAD] [PAD] [PAD] [PAD] [PAD] [PAD] [PAD] [PAD] [PAD] [PAD] [PAD] [PAD] [PAD] [PAD] [PAD] [PAD] [PAD] [PAD] [PAD] [PAD] [PAD] [PAD] [PAD] [PAD] [PAD] [PAD] [PAD] [PAD] [PAD] [PAD] [PAD] [PAD] [PAD] [PAD] [PAD] [PAD] [PAD] [PAD] [PAD] [PAD] [PAD] [PAD] [PAD] [PAD] [PAD] [PAD] [PAD] [PAD] [PAD] [PAD] [PAD] [PAD] [PAD] [PAD] [PAD] [PAD] [PAD] [PAD] [PAD] [PAD] [PAD] [PAD] [PAD] [PAD] [PAD] [PAD] [PAD] [PAD] [PAD] [PAD] [PAD] [PAD] [PAD] [PAD] [PAD] [PAD] [PAD] [PAD] [PAD] [PAD] [PAD] [PAD] [PAD] [PAD] [PAD] [PAD] [PAD] [PAD] [PAD] [PAD] [PAD] [PAD] [PAD] [PAD] [PAD] [PAD] [PAD] [PAD] [PAD] [PAD] [PAD] [PAD] [PAD] [PAD] [PAD] [PAD] [PAD] [PAD] [PAD] [PAD] [PAD] [PAD] [PAD] [PAD] [PAD] [PAD] [PAD] [PAD] [PAD] [PAD] [PAD] [PAD] [PAD] [PAD] [PAD] [PAD] [PAD] [PAD] [PAD] [PAD] [PAD] [PAD] [PAD] [PAD] [PAD] [PAD] [PAD] [PAD] [PAD] [PAD] [PAD] [PAD] [PAD] [PAD] [PAD] [PAD] [PAD] [PAD] [PAD] [PAD] [PAD] [PAD] [PAD] [PAD] [PAD] [PAD] [PAD] [PAD] [PAD] [PAD] [PAD] [PAD] [PAD] [PAD] [PAD] [PAD] [PAD] [PAD] [PAD] [PAD] [PAD] [PAD] [PAD] [PAD] [PAD] [PAD] [PAD] [PAD] [PAD] [PAD] [PAD] [PAD] [PAD] [PAD] [PAD] [PAD] [PAD] [PAD] [PAD] [PAD] [PAD] [PAD] [PAD] [PAD] [PAD] [PAD] [PAD] [PAD] [PAD] [PAD] [PAD] [PAD] [PAD] [PAD] [PAD] [PAD] [PAD] [PAD] [PAD] [PAD] [PAD] [PAD] [PAD] [PAD] [PAD] [PAD] [PAD] [PAD] [PAD] [PAD] [PAD] [PAD] [PAD] [PAD] [PAD] [PAD] [PAD] [PAD] [PAD] [PAD] [PAD] [PAD] [PAD] [PAD] [PAD] [PAD] [PAD] [PAD] [PAD] [PAD] [PAD]'"
      ]
     },
     "execution_count": 25,
     "metadata": {},
     "output_type": "execute_result"
    }
   ],
   "source": [
    "tknzr.decode(decoded_sing)#[:580]"
   ]
  },
  {
   "cell_type": "code",
   "execution_count": 26,
   "metadata": {},
   "outputs": [],
   "source": [
    "target_single = loaded_model_single.layers[0](t2['input_ids'][0,:,:]).last_hidden_state[0,:,:]\n",
    "target_author = loaded_model_author.layers[0](t2['input_ids'][0,:,:]).last_hidden_state[0,:,:]"
   ]
  },
  {
   "cell_type": "code",
   "execution_count": 27,
   "metadata": {},
   "outputs": [],
   "source": [
    "ctx_single = tf.reduce_mean(loaded_model_single.layers[0](t['input_ids'][0,:,:]).last_hidden_state[1:,0,:], axis=0)\n",
    "ctx_auth = tf.reduce_mean(loaded_model_author.layers[0](t['input_ids'][0,:,:]).last_hidden_state[1:,0,:], axis=0)"
   ]
  },
  {
   "cell_type": "code",
   "execution_count": null,
   "metadata": {},
   "outputs": [],
   "source": [
    "# Check the variance of the embeddings"
   ]
  },
  {
   "cell_type": "code",
   "execution_count": null,
   "metadata": {},
   "outputs": [],
   "source": [
    "# Computes \n",
    "crs = []\n",
    "crs_auth = []\n",
    "for a in range(512):\n",
    "    crs.append(np.corrcoef(target_single[a,:].numpy(), ctx_single.numpy())[0,1])\n",
    "    crs_auth.append(np.corrcoef(target_author[a,:].numpy(), ctx_auth.numpy())[0,1])"
   ]
  },
  {
   "cell_type": "code",
   "execution_count": 30,
   "metadata": {},
   "outputs": [],
   "source": [
    "nr = len(np.where(t['input_ids'][0,0,:]==0)[0])\n",
    "mask = [1] * (512-nr) + [0]*nr"
   ]
  },
  {
   "cell_type": "code",
   "execution_count": 31,
   "metadata": {},
   "outputs": [],
   "source": [
    "ds = pd.DataFrame(zip(crs, crs_auth, mask), columns=['single', 'auth', 'mask'])"
   ]
  },
  {
   "cell_type": "code",
   "execution_count": 34,
   "metadata": {},
   "outputs": [
    {
     "data": {
      "image/png": "[encoded data removed]",
      "text/plain": [
       "<Figure size 432x288 with 1 Axes>"
      ]
     },
     "metadata": {
      "needs_background": "light"
     },
     "output_type": "display_data"
    }
   ],
   "source": [
    "sns.lineplot(data=ds, x=range(512), y='single', hue='mask', palette=['lightblue', 'darkblue'], legend=False)\n",
    "sns.lineplot(data=ds, x=range(512), y='auth', hue='mask', palette=['darkorange', 'darkred'], legend=False)\n",
    "plt.xlabel('target token nr')\n",
    "plt.ylabel('correlation w aggregate context')\n",
    "plt.show()"
   ]
  },
  {
   "cell_type": "code",
   "execution_count": 142,
   "metadata": {},
   "outputs": [],
   "source": [
    "from reddit.losses import MLMLoss"
   ]
  },
  {
   "cell_type": "code",
   "execution_count": 147,
   "metadata": {},
   "outputs": [
    {
     "data": {
      "text/plain": [
       "[<tf.Tensor: shape=(), dtype=float32, numpy=3.2430754>,\n",
       " <tf.Tensor: shape=(), dtype=float32, numpy=4.0834966>,\n",
       " <tf.Tensor: shape=(), dtype=float32, numpy=0.52380955>]"
      ]
     },
     "execution_count": 147,
     "metadata": {},
     "output_type": "execute_result"
    }
   ],
   "source": [
    "loss(loaded_model_author(t), t['labels'])\n",
    "# Loss, entropy, correct"
   ]
  },
  {
   "cell_type": "code",
   "execution_count": 159,
   "metadata": {},
   "outputs": [],
   "source": [
    "results = tf.gather(loaded_model_author(t)[0], \n",
    "          indices=[[m] for m in masks])\n",
    "results = results[:,0,:]"
   ]
  },
  {
   "cell_type": "code",
   "execution_count": 169,
   "metadata": {},
   "outputs": [],
   "source": [
    "labels = tf.gather(t['labels'][0,0,:], \n",
    "          indices=masks)"
   ]
  },
  {
   "cell_type": "code",
   "execution_count": 174,
   "metadata": {},
   "outputs": [],
   "source": [
    "labels_h = tf.one_hot(labels, depth=30522)"
   ]
  },
  {
   "cell_type": "code",
   "execution_count": 190,
   "metadata": {},
   "outputs": [
    {
     "data": {
      "text/plain": [
       "<tf.Tensor: shape=(), dtype=int32, numpy=11>"
      ]
     },
     "execution_count": 190,
     "metadata": {},
     "output_type": "execute_result"
    }
   ],
   "source": [
    "tf.reduce_sum(tf.cast(tf.reduce_all(tf.one_hot(tf.argmax(results, axis=1), depth=30522) == labels_h, axis=1), tf.int32))"
   ]
  },
  {
   "cell_type": "code",
   "execution_count": 195,
   "metadata": {},
   "outputs": [],
   "source": [
    "from transformers import DistilBertConfig\n",
    "from transformers.models.distilbert.modeling_tf_distilbert import TFTransformerBlock"
   ]
  },
  {
   "cell_type": "code",
   "execution_count": 35,
   "metadata": {},
   "outputs": [
    {
     "name": "stdout",
     "output_type": "stream",
     "text": [
      ". for\n",
      ". that\n",
      ". .\n",
      ". ,\n",
      ". and\n",
      ". and\n",
      ". ’\n",
      ". on\n",
      ". .\n",
      ". ,\n"
     ]
    }
   ],
   "source": [
    "for i in tf.math.top_k(crs_auth, k=10).indices.numpy().tolist():\n",
    "    print(tknzr.decode([np.argmax(loaded_model_author(t)[0,i,:])]),\n",
    "         tknzr.decode([np.argmax(loaded_model_single(t2)[0,0,i,:])]),)"
   ]
  },
  {
   "cell_type": "code",
   "execution_count": null,
   "metadata": {},
   "outputs": [],
   "source": [
    "for i in range(1,11):\n",
    "    print(tknzr.decode(t['input_ids'][0,i,:]).split('[PAD]')[0])"
   ]
  },
  {
   "cell_type": "code",
   "execution_count": 488,
   "metadata": {},
   "outputs": [],
   "source": [
    "### NEXT:\n",
    "# Figure out how to append transformer to top\n",
    "# Train longer\n",
    "# Train from pre-trained, maybe even locking the weights?\n",
    "\n",
    "# NEXT NEXT\n",
    "# Try a distilbert with fewer layers w/ and w/out context as is right now\n",
    "# Try fewer distilbert layers and separate encoder for context\n",
    "# Try same layer with an attention thing\n",
    "# Try summing aggregate context representation at all layers\n",
    "\n",
    "# QUESTION:\n",
    "# How do I stack it?\n",
    "# How do I support 513\n",
    "\n",
    "# CHECKS\n",
    "# Check loss\n",
    "# Check masking of loss\n",
    "# Figure out what's happening with padding\n",
    "# Re-chack the scale\n",
    "\n",
    "# OTHER\n",
    "# Predict on ctx only?\n",
    "\n",
    "# NOTES\n",
    "# Integrate context in CLS token? Find other way to aggregate?\n",
    "# Other techniques:\n",
    "# - Try attention / transformer layer?\n",
    "# - Try early aggregation?\n",
    "# - Run random?\n",
    "# - Check list of ideas on gdoc"
   ]
  },
  {
   "cell_type": "code",
   "execution_count": 129,
   "metadata": {},
   "outputs": [
    {
     "data": {
      "text/plain": [
       "ListWrapper([<transformers.models.distilbert.modeling_tf_distilbert.TFTransformerBlock object at 0x7f5214b408b0>, <transformers.models.distilbert.modeling_tf_distilbert.TFTransformerBlock object at 0x7f5214a349d0>, <transformers.models.distilbert.modeling_tf_distilbert.TFTransformerBlock object at 0x7f5214a2fee0>, <transformers.models.distilbert.modeling_tf_distilbert.TFTransformerBlock object at 0x7f5214a27430>, <transformers.models.distilbert.modeling_tf_distilbert.TFTransformerBlock object at 0x7f5214a29940>, <transformers.models.distilbert.modeling_tf_distilbert.TFTransformerBlock object at 0x7f5214a32e50>])"
      ]
     },
     "execution_count": 129,
     "metadata": {},
     "output_type": "execute_result"
    }
   ],
   "source": [
    "loaded_model_author.layers[0]._layers[1]._layers[0]"
   ]
  },
  {
   "cell_type": "code",
   "execution_count": 138,
   "metadata": {},
   "outputs": [
    {
     "data": {
      "text/plain": [
       "<transformers.models.distilbert.modeling_tf_distilbert.TFDistilBertMainLayer at 0x7f5214b27a00>"
      ]
     },
     "execution_count": 138,
     "metadata": {},
     "output_type": "execute_result"
    }
   ],
   "source": []
  },
  {
   "cell_type": "code",
   "execution_count": 141,
   "metadata": {},
   "outputs": [
    {
     "ename": "TypeError",
     "evalue": "call() missing 3 required positional arguments: 'attn_mask', 'head_mask', and 'output_attentions'",
     "output_type": "error",
     "traceback": [
      "\u001b[0;31m---------------------------------------------------------------------------\u001b[0m",
      "\u001b[0;31mTypeError\u001b[0m                                 Traceback (most recent call last)",
      "\u001b[0;32m<ipython-input-141-d5d24711a85d>\u001b[0m in \u001b[0;36m<module>\u001b[0;34m\u001b[0m\n\u001b[0;32m----> 1\u001b[0;31m \u001b[0mloaded_model_author\u001b[0m\u001b[0;34m.\u001b[0m\u001b[0mlayers\u001b[0m\u001b[0;34m[\u001b[0m\u001b[0;36m0\u001b[0m\u001b[0;34m]\u001b[0m\u001b[0;34m.\u001b[0m\u001b[0m_layers\u001b[0m\u001b[0;34m[\u001b[0m\u001b[0;36m1\u001b[0m\u001b[0;34m]\u001b[0m\u001b[0;34m.\u001b[0m\u001b[0m_layers\u001b[0m\u001b[0;34m[\u001b[0m\u001b[0;36m0\u001b[0m\u001b[0;34m]\u001b[0m\u001b[0;34m[\u001b[0m\u001b[0;36m0\u001b[0m\u001b[0;34m]\u001b[0m\u001b[0;34m(\u001b[0m\u001b[0mloaded_model_author\u001b[0m\u001b[0;34m.\u001b[0m\u001b[0mlayers\u001b[0m\u001b[0;34m[\u001b[0m\u001b[0;36m0\u001b[0m\u001b[0;34m]\u001b[0m\u001b[0;34m(\u001b[0m\u001b[0mt\u001b[0m\u001b[0;34m[\u001b[0m\u001b[0;34m'input_ids'\u001b[0m\u001b[0;34m]\u001b[0m\u001b[0;34m[\u001b[0m\u001b[0;36m0\u001b[0m\u001b[0;34m,\u001b[0m\u001b[0;34m:\u001b[0m\u001b[0;34m,\u001b[0m\u001b[0;34m:\u001b[0m\u001b[0;34m]\u001b[0m\u001b[0;34m)\u001b[0m\u001b[0;34m)\u001b[0m\u001b[0;34m\u001b[0m\u001b[0;34m\u001b[0m\u001b[0m\n\u001b[0m",
      "\u001b[0;32m/usr/lib/python3/dist-packages/tensorflow/python/keras/engine/base_layer.py\u001b[0m in \u001b[0;36m__call__\u001b[0;34m(self, *args, **kwargs)\u001b[0m\n\u001b[1;32m   1010\u001b[0m         with autocast_variable.enable_auto_cast_variables(\n\u001b[1;32m   1011\u001b[0m             self._compute_dtype_object):\n\u001b[0;32m-> 1012\u001b[0;31m           \u001b[0moutputs\u001b[0m \u001b[0;34m=\u001b[0m \u001b[0mcall_fn\u001b[0m\u001b[0;34m(\u001b[0m\u001b[0minputs\u001b[0m\u001b[0;34m,\u001b[0m \u001b[0;34m*\u001b[0m\u001b[0margs\u001b[0m\u001b[0;34m,\u001b[0m \u001b[0;34m**\u001b[0m\u001b[0mkwargs\u001b[0m\u001b[0;34m)\u001b[0m\u001b[0;34m\u001b[0m\u001b[0;34m\u001b[0m\u001b[0m\n\u001b[0m\u001b[1;32m   1013\u001b[0m \u001b[0;34m\u001b[0m\u001b[0m\n\u001b[1;32m   1014\u001b[0m         \u001b[0;32mif\u001b[0m \u001b[0mself\u001b[0m\u001b[0;34m.\u001b[0m\u001b[0m_activity_regularizer\u001b[0m\u001b[0;34m:\u001b[0m\u001b[0;34m\u001b[0m\u001b[0;34m\u001b[0m\u001b[0m\n",
      "\u001b[0;31mTypeError\u001b[0m: call() missing 3 required positional arguments: 'attn_mask', 'head_mask', and 'output_attentions'"
     ]
    }
   ],
   "source": [
    "loaded_model_author.layers[0]._layers[1]._layers[0][0](loaded_model_author.layers[0](t['input_ids'][0,:,:]))"
   ]
  },
  {
   "cell_type": "code",
   "execution_count": 140,
   "metadata": {},
   "outputs": [
    {
     "data": {
      "text/plain": [
       "<transformers.models.distilbert.modeling_tf_distilbert.TFTransformerBlock at 0x7f5214b408b0>"
      ]
     },
     "execution_count": 140,
     "metadata": {},
     "output_type": "execute_result"
    }
   ],
   "source": [
    "loaded_model_author.layers[0]._layers[1]._layers[0][0]\n",
    "# How do I stack one more layer?\n",
    "# How do I make it support 512?"
   ]
  },
  {
   "cell_type": "code",
   "execution_count": 67,
   "metadata": {},
   "outputs": [
    {
     "data": {
      "text/plain": [
       "[<tensorflow.python.keras.layers.core.Dropout at 0x7f50fbcc7ca0>,\n",
       " <transformers.models.distilbert.modeling_tf_distilbert.TFMultiHeadSelfAttention at 0x7f50fbcc7eb0>,\n",
       " <tensorflow.python.keras.layers.normalization.LayerNormalization at 0x7f50fbcbdbe0>,\n",
       " <transformers.models.distilbert.modeling_tf_distilbert.TFFFN at 0x7f50fbcbdeb0>,\n",
       " <tensorflow.python.keras.layers.normalization.LayerNormalization at 0x7f50fbc4f8b0>,\n",
       " {}]"
      ]
     },
     "execution_count": 67,
     "metadata": {},
     "output_type": "execute_result"
    }
   ],
   "source": [
    "# Options\n",
    "# Make a copy of this layer after end (bi-encoder style)\n",
    "# Iteratively add context before\n",
    "\n",
    "# Dilemmas:\n",
    "# separate or integrated?\n",
    "\n",
    "# To do:\n",
    "# Add support for 513 elements"
   ]
  },
  {
   "cell_type": "code",
   "execution_count": 16,
   "metadata": {},
   "outputs": [],
   "source": [
    "model_base = BatchTransformerForContextMLM(TFDistilBertForMaskedLM, \n",
    "                                           'distilbert-base-uncased', add_dense=1)\n",
    "model_base.compile()"
   ]
  },
  {
   "cell_type": "code",
   "execution_count": 249,
   "metadata": {},
   "outputs": [
    {
     "name": "stderr",
     "output_type": "stream",
     "text": [
      "/home/roberta/.local/lib/python3.8/site-packages/numpy/core/fromnumeric.py:3372: RuntimeWarning: Mean of empty slice.\n",
      "  return _methods._mean(a, axis=axis, dtype=dtype,\n",
      "/home/roberta/.local/lib/python3.8/site-packages/numpy/core/_methods.py:170: RuntimeWarning: invalid value encountered in double_scalars\n",
      "  ret = ret.dtype.type(ret / rcount)\n",
      "<ipython-input-249-de82a0265c8e>:28: RuntimeWarning: Mean of empty slice\n",
      "  avg_loss = np.nanmean(d['test_losses'])\n",
      "<ipython-input-249-de82a0265c8e>:29: RuntimeWarning: Mean of empty slice\n",
      "  avg_entropy = np.nanmean(d['test_entropy'])\n",
      "<ipython-input-249-de82a0265c8e>:30: RuntimeWarning: Mean of empty slice\n",
      "  avg_true = np.nanmean(d['test_is_true_top'])\n",
      "/home/roberta/.local/lib/python3.8/site-packages/numpy/lib/nanfunctions.py:1664: RuntimeWarning: Degrees of freedom <= 0 for slice.\n",
      "  var = nanvar(a, axis=axis, dtype=dtype, out=out, ddof=ddof,\n",
      "/home/roberta/.local/lib/python3.8/site-packages/numpy/core/fromnumeric.py:3372: RuntimeWarning: Mean of empty slice.\n",
      "  return _methods._mean(a, axis=axis, dtype=dtype,\n",
      "/home/roberta/.local/lib/python3.8/site-packages/numpy/core/_methods.py:170: RuntimeWarning: invalid value encountered in double_scalars\n",
      "  ret = ret.dtype.type(ret / rcount)\n",
      "<ipython-input-249-de82a0265c8e>:28: RuntimeWarning: Mean of empty slice\n",
      "  avg_loss = np.nanmean(d['test_losses'])\n",
      "<ipython-input-249-de82a0265c8e>:29: RuntimeWarning: Mean of empty slice\n",
      "  avg_entropy = np.nanmean(d['test_entropy'])\n",
      "<ipython-input-249-de82a0265c8e>:30: RuntimeWarning: Mean of empty slice\n",
      "  avg_true = np.nanmean(d['test_is_true_top'])\n",
      "/home/roberta/.local/lib/python3.8/site-packages/numpy/lib/nanfunctions.py:1664: RuntimeWarning: Degrees of freedom <= 0 for slice.\n",
      "  var = nanvar(a, axis=axis, dtype=dtype, out=out, ddof=ddof,\n",
      "/home/roberta/.local/lib/python3.8/site-packages/numpy/core/fromnumeric.py:3372: RuntimeWarning: Mean of empty slice.\n",
      "  return _methods._mean(a, axis=axis, dtype=dtype,\n",
      "/home/roberta/.local/lib/python3.8/site-packages/numpy/core/_methods.py:170: RuntimeWarning: invalid value encountered in double_scalars\n",
      "  ret = ret.dtype.type(ret / rcount)\n",
      "/home/roberta/.local/lib/python3.8/site-packages/numpy/core/fromnumeric.py:3372: RuntimeWarning: Mean of empty slice.\n",
      "  return _methods._mean(a, axis=axis, dtype=dtype,\n",
      "/home/roberta/.local/lib/python3.8/site-packages/numpy/core/_methods.py:170: RuntimeWarning: invalid value encountered in double_scalars\n",
      "  ret = ret.dtype.type(ret / rcount)\n"
     ]
    },
    {
     "data": {
      "image/png": "[encoded data removed]",
      "text/plain": [
       "<Figure size 432x288 with 1 Axes>"
      ]
     },
     "metadata": {
      "needs_background": "light"
     },
     "output_type": "display_data"
    }
   ],
   "source": [
    "#fig, ax = plt.subplots(ncols=5, figsize=(20,3))\n",
    "\n",
    "# Get stuff and plot\n",
    "\n",
    "for idx, f in enumerate(fs):\n",
    "    info = f.split('/')\n",
    "    epoch = info[-2].split('-')[-1]\n",
    "    batch = info[3]\n",
    "    grouping = info[4]\n",
    "    model_info = info[-4].split('-')\n",
    "    trained = model_info[2]\n",
    "    frozen = model_info[1]\n",
    "    if grouping != 'single':\n",
    "        n_added = model_info[-6]\n",
    "        context_agg = model_info[-4]\n",
    "        aggregation = model_info[-3]\n",
    "        reset = model_info[-2]\n",
    "        fhead = model_info[-1]\n",
    "    else:\n",
    "        n_added = 0\n",
    "        context_agg = 'none'\n",
    "        aggregation = 'none'\n",
    "        \n",
    "    # Get test metrics\n",
    "    d = json.load(open(f))\n",
    "        \n",
    "    \n",
    "    avg_loss = np.nanmean(d['test_losses'])\n",
    "    avg_entropy = np.nanmean(d['test_entropy'])\n",
    "    avg_true = np.nanmean(d['test_is_true_top'])\n",
    "    \n",
    "    # Get ds of test metrics\n",
    "    sd_loss = np.nanstd(d['test_losses'])\n",
    "    sd_entropy = np.nanstd(d['test_entropy'])\n",
    "    sd_true = np.nanstd(d['is_true_top'])\n",
    "    \n",
    "    # Get other metrics with rolling average\n",
    "    if epoch != 'baseline':\n",
    "        loss = np.nanmean(d['losses'])\n",
    "        entropy  = np.nanmean(d['entropy'])\n",
    "        true = np.nanmean(d['is_true_top'])\n",
    "    else:\n",
    "        loss, entropy, true = tuple([None]*3)\n",
    "        \n",
    "    dict_log = {'grouping': [grouping],\n",
    "                 'trained': [trained],\n",
    "                 'n_added': [n_added],\n",
    "                 'frozen': [frozen],\n",
    "                 'context_agg': [context_agg],\n",
    "                 'aggregation': [aggregation],\n",
    "                 'test_loss': [avg_loss],\n",
    "                 'test_entropy': [avg_entropy],\n",
    "                 'test_true': [avg_true],\n",
    "                 'test_sd_loss': [sd_loss],\n",
    "                 'test_sd_entropy': [sd_entropy],\n",
    "                 'test_sd_true': [sd_true],\n",
    "                 'loss': [loss],\n",
    "                 'entropy': [entropy],\n",
    "                 'true': [true],\n",
    "                 'epoch': [epoch],\n",
    "                 'model_id': '_'.join([grouping, \n",
    "                                       trained, \n",
    "                                       str(n_added), \n",
    "                                       frozen,\n",
    "                                       context_agg,\n",
    "                                       aggregation, fhead])}\n",
    "    \n",
    "    # Make into df\n",
    "    df = pd.DataFrame(dict_log)\n",
    "    if idx == 0:\n",
    "        adf = df \n",
    "    else:\n",
    "        adf = pd.concat([adf, df], ignore_index=True, sort=True)\n",
    "    \n",
    "    if epoch == '4':\n",
    "        sns.lineplot(x=range(len(np.arange(0, 20000000, 1000))), \n",
    "                     y=[np.mean(d['is_true_top'][i:i+1000]) for i in np.arange(0, 20000000, 1000)],\n",
    "                     label='_'.join([batch, grouping]),#'_'.join([grouping, \n",
    "                       #                trained, \n",
    "                       #                str(n_added), \n",
    "                       #                frozen,\n",
    "                       #                context_agg,\n",
    "                       #                aggregation,\n",
    "                       #                reset, fhead]), \n",
    "                     legend=True)\n",
    "for a in ax:\n",
    "    a.set_ylim(0,.5)\n",
    "plt.show()"
   ]
  },
  {
   "cell_type": "code",
   "execution_count": 239,
   "metadata": {},
   "outputs": [],
   "source": [
    "adf['fine_tune'] = adf['frozen'].map({'0_1_2_3_4': 'last_layer', 'none': 'all'})"
   ]
  },
  {
   "cell_type": "code",
   "execution_count": 240,
   "metadata": {},
   "outputs": [
    {
     "data": {
      "text/html": [
       "<div>\n",
       "<style scoped>\n",
       "    .dataframe tbody tr th:only-of-type {\n",
       "        vertical-align: middle;\n",
       "    }\n",
       "\n",
       "    .dataframe tbody tr th {\n",
       "        vertical-align: top;\n",
       "    }\n",
       "\n",
       "    .dataframe thead th {\n",
       "        text-align: right;\n",
       "    }\n",
       "</style>\n",
       "<table border=\"1\" class=\"dataframe\">\n",
       "  <thead>\n",
       "    <tr style=\"text-align: right;\">\n",
       "      <th></th>\n",
       "      <th>aggregation</th>\n",
       "      <th>context_agg</th>\n",
       "      <th>entropy</th>\n",
       "      <th>epoch</th>\n",
       "      <th>frozen</th>\n",
       "      <th>grouping</th>\n",
       "      <th>loss</th>\n",
       "      <th>model_id</th>\n",
       "      <th>n_added</th>\n",
       "      <th>test_entropy</th>\n",
       "      <th>test_loss</th>\n",
       "      <th>test_sd_entropy</th>\n",
       "      <th>test_sd_loss</th>\n",
       "      <th>test_sd_true</th>\n",
       "      <th>test_true</th>\n",
       "      <th>trained</th>\n",
       "      <th>true</th>\n",
       "      <th>fine_tune</th>\n",
       "    </tr>\n",
       "  </thead>\n",
       "  <tbody>\n",
       "    <tr>\n",
       "      <th>1</th>\n",
       "      <td>concatenate</td>\n",
       "      <td>cls</td>\n",
       "      <td>4.861188</td>\n",
       "      <td>0</td>\n",
       "      <td>none</td>\n",
       "      <td>author</td>\n",
       "      <td>4.657852</td>\n",
       "      <td>author_pretrained_0_none_cls_concatenate_nohfr...</td>\n",
       "      <td>0</td>\n",
       "      <td>3.923773</td>\n",
       "      <td>3.689369</td>\n",
       "      <td>1.208667</td>\n",
       "      <td>1.525907</td>\n",
       "      <td>0.219044</td>\n",
       "      <td>0.386888</td>\n",
       "      <td>pretrained</td>\n",
       "      <td>0.284043</td>\n",
       "      <td>all</td>\n",
       "    </tr>\n",
       "    <tr>\n",
       "      <th>6</th>\n",
       "      <td>none</td>\n",
       "      <td>none</td>\n",
       "      <td>4.822755</td>\n",
       "      <td>0</td>\n",
       "      <td>none</td>\n",
       "      <td>single</td>\n",
       "      <td>4.621348</td>\n",
       "      <td>single_pretrained_0_none_none_none_nohfreeze</td>\n",
       "      <td>0</td>\n",
       "      <td>3.839111</td>\n",
       "      <td>3.668033</td>\n",
       "      <td>1.181854</td>\n",
       "      <td>1.525859</td>\n",
       "      <td>0.219077</td>\n",
       "      <td>0.389547</td>\n",
       "      <td>pretrained</td>\n",
       "      <td>0.287440</td>\n",
       "      <td>all</td>\n",
       "    </tr>\n",
       "    <tr>\n",
       "      <th>11</th>\n",
       "      <td>concatenate</td>\n",
       "      <td>cls</td>\n",
       "      <td>5.064014</td>\n",
       "      <td>0</td>\n",
       "      <td>none</td>\n",
       "      <td>author</td>\n",
       "      <td>4.863465</td>\n",
       "      <td>author_pretrained_0_none_cls_concatenate_nohfr...</td>\n",
       "      <td>0</td>\n",
       "      <td>4.253886</td>\n",
       "      <td>3.931571</td>\n",
       "      <td>1.219915</td>\n",
       "      <td>1.525396</td>\n",
       "      <td>0.212238</td>\n",
       "      <td>0.354914</td>\n",
       "      <td>pretrained</td>\n",
       "      <td>0.258741</td>\n",
       "      <td>all</td>\n",
       "    </tr>\n",
       "    <tr>\n",
       "      <th>15</th>\n",
       "      <td>none</td>\n",
       "      <td>none</td>\n",
       "      <td>4.990062</td>\n",
       "      <td>0</td>\n",
       "      <td>none</td>\n",
       "      <td>single</td>\n",
       "      <td>4.794620</td>\n",
       "      <td>single_pretrained_0_none_none_none_nohfreeze</td>\n",
       "      <td>0</td>\n",
       "      <td>NaN</td>\n",
       "      <td>NaN</td>\n",
       "      <td>NaN</td>\n",
       "      <td>NaN</td>\n",
       "      <td>0.214405</td>\n",
       "      <td>NaN</td>\n",
       "      <td>pretrained</td>\n",
       "      <td>0.267552</td>\n",
       "      <td>all</td>\n",
       "    </tr>\n",
       "    <tr>\n",
       "      <th>4</th>\n",
       "      <td>concatenate</td>\n",
       "      <td>cls</td>\n",
       "      <td>3.603307</td>\n",
       "      <td>1</td>\n",
       "      <td>none</td>\n",
       "      <td>author</td>\n",
       "      <td>3.458576</td>\n",
       "      <td>author_pretrained_0_none_cls_concatenate_nohfr...</td>\n",
       "      <td>0</td>\n",
       "      <td>3.431809</td>\n",
       "      <td>3.294079</td>\n",
       "      <td>1.191731</td>\n",
       "      <td>1.517552</td>\n",
       "      <td>0.215563</td>\n",
       "      <td>0.436223</td>\n",
       "      <td>pretrained</td>\n",
       "      <td>0.415563</td>\n",
       "      <td>all</td>\n",
       "    </tr>\n",
       "    <tr>\n",
       "      <th>9</th>\n",
       "      <td>none</td>\n",
       "      <td>none</td>\n",
       "      <td>3.575036</td>\n",
       "      <td>1</td>\n",
       "      <td>none</td>\n",
       "      <td>single</td>\n",
       "      <td>3.436929</td>\n",
       "      <td>single_pretrained_0_none_none_none_nohfreeze</td>\n",
       "      <td>0</td>\n",
       "      <td>3.473948</td>\n",
       "      <td>3.278178</td>\n",
       "      <td>1.183129</td>\n",
       "      <td>1.501692</td>\n",
       "      <td>0.215364</td>\n",
       "      <td>0.436478</td>\n",
       "      <td>pretrained</td>\n",
       "      <td>0.417511</td>\n",
       "      <td>all</td>\n",
       "    </tr>\n",
       "    <tr>\n",
       "      <th>14</th>\n",
       "      <td>concatenate</td>\n",
       "      <td>cls</td>\n",
       "      <td>3.832283</td>\n",
       "      <td>1</td>\n",
       "      <td>none</td>\n",
       "      <td>author</td>\n",
       "      <td>3.678200</td>\n",
       "      <td>author_pretrained_0_none_cls_concatenate_nohfr...</td>\n",
       "      <td>0</td>\n",
       "      <td>3.623157</td>\n",
       "      <td>3.488340</td>\n",
       "      <td>1.168284</td>\n",
       "      <td>1.519992</td>\n",
       "      <td>0.213924</td>\n",
       "      <td>0.408021</td>\n",
       "      <td>pretrained</td>\n",
       "      <td>0.385089</td>\n",
       "      <td>all</td>\n",
       "    </tr>\n",
       "    <tr>\n",
       "      <th>2</th>\n",
       "      <td>concatenate</td>\n",
       "      <td>cls</td>\n",
       "      <td>3.325810</td>\n",
       "      <td>2</td>\n",
       "      <td>none</td>\n",
       "      <td>author</td>\n",
       "      <td>3.182077</td>\n",
       "      <td>author_pretrained_0_none_cls_concatenate_nohfr...</td>\n",
       "      <td>0</td>\n",
       "      <td>3.260971</td>\n",
       "      <td>3.104895</td>\n",
       "      <td>1.177662</td>\n",
       "      <td>1.508301</td>\n",
       "      <td>0.217626</td>\n",
       "      <td>0.459787</td>\n",
       "      <td>pretrained</td>\n",
       "      <td>0.449895</td>\n",
       "      <td>all</td>\n",
       "    </tr>\n",
       "    <tr>\n",
       "      <th>7</th>\n",
       "      <td>none</td>\n",
       "      <td>none</td>\n",
       "      <td>3.307324</td>\n",
       "      <td>2</td>\n",
       "      <td>none</td>\n",
       "      <td>single</td>\n",
       "      <td>3.168573</td>\n",
       "      <td>single_pretrained_0_none_none_none_nohfreeze</td>\n",
       "      <td>0</td>\n",
       "      <td>3.287393</td>\n",
       "      <td>3.098904</td>\n",
       "      <td>1.185150</td>\n",
       "      <td>1.498498</td>\n",
       "      <td>0.217957</td>\n",
       "      <td>0.460034</td>\n",
       "      <td>pretrained</td>\n",
       "      <td>0.450543</td>\n",
       "      <td>all</td>\n",
       "    </tr>\n",
       "    <tr>\n",
       "      <th>12</th>\n",
       "      <td>concatenate</td>\n",
       "      <td>cls</td>\n",
       "      <td>3.520035</td>\n",
       "      <td>2</td>\n",
       "      <td>none</td>\n",
       "      <td>author</td>\n",
       "      <td>3.368278</td>\n",
       "      <td>author_pretrained_0_none_cls_concatenate_nohfr...</td>\n",
       "      <td>0</td>\n",
       "      <td>3.423834</td>\n",
       "      <td>3.292213</td>\n",
       "      <td>1.157066</td>\n",
       "      <td>1.508863</td>\n",
       "      <td>0.215958</td>\n",
       "      <td>0.432742</td>\n",
       "      <td>pretrained</td>\n",
       "      <td>0.422408</td>\n",
       "      <td>all</td>\n",
       "    </tr>\n",
       "    <tr>\n",
       "      <th>3</th>\n",
       "      <td>concatenate</td>\n",
       "      <td>cls</td>\n",
       "      <td>3.186169</td>\n",
       "      <td>3</td>\n",
       "      <td>none</td>\n",
       "      <td>author</td>\n",
       "      <td>3.026236</td>\n",
       "      <td>author_pretrained_0_none_cls_concatenate_nohfr...</td>\n",
       "      <td>0</td>\n",
       "      <td>3.175696</td>\n",
       "      <td>2.994197</td>\n",
       "      <td>1.183294</td>\n",
       "      <td>1.485852</td>\n",
       "      <td>0.218766</td>\n",
       "      <td>0.474233</td>\n",
       "      <td>pretrained</td>\n",
       "      <td>0.469716</td>\n",
       "      <td>all</td>\n",
       "    </tr>\n",
       "    <tr>\n",
       "      <th>8</th>\n",
       "      <td>none</td>\n",
       "      <td>none</td>\n",
       "      <td>3.173218</td>\n",
       "      <td>3</td>\n",
       "      <td>none</td>\n",
       "      <td>single</td>\n",
       "      <td>3.017828</td>\n",
       "      <td>single_pretrained_0_none_none_none_nohfreeze</td>\n",
       "      <td>0</td>\n",
       "      <td>3.144744</td>\n",
       "      <td>2.986303</td>\n",
       "      <td>1.168798</td>\n",
       "      <td>1.488548</td>\n",
       "      <td>0.218817</td>\n",
       "      <td>0.474161</td>\n",
       "      <td>pretrained</td>\n",
       "      <td>0.469810</td>\n",
       "      <td>all</td>\n",
       "    </tr>\n",
       "    <tr>\n",
       "      <th>13</th>\n",
       "      <td>concatenate</td>\n",
       "      <td>cls</td>\n",
       "      <td>3.377093</td>\n",
       "      <td>3</td>\n",
       "      <td>none</td>\n",
       "      <td>author</td>\n",
       "      <td>3.214775</td>\n",
       "      <td>author_pretrained_0_none_cls_concatenate_nohfr...</td>\n",
       "      <td>0</td>\n",
       "      <td>3.381579</td>\n",
       "      <td>3.175060</td>\n",
       "      <td>1.175087</td>\n",
       "      <td>1.488106</td>\n",
       "      <td>0.217562</td>\n",
       "      <td>0.447712</td>\n",
       "      <td>pretrained</td>\n",
       "      <td>0.442472</td>\n",
       "      <td>all</td>\n",
       "    </tr>\n",
       "    <tr>\n",
       "      <th>0</th>\n",
       "      <td>concatenate</td>\n",
       "      <td>cls</td>\n",
       "      <td>3.109236</td>\n",
       "      <td>4</td>\n",
       "      <td>none</td>\n",
       "      <td>author</td>\n",
       "      <td>2.929053</td>\n",
       "      <td>author_pretrained_0_none_cls_concatenate_nohfr...</td>\n",
       "      <td>0</td>\n",
       "      <td>3.101067</td>\n",
       "      <td>2.932650</td>\n",
       "      <td>1.181453</td>\n",
       "      <td>1.485023</td>\n",
       "      <td>0.219181</td>\n",
       "      <td>0.482568</td>\n",
       "      <td>pretrained</td>\n",
       "      <td>0.482563</td>\n",
       "      <td>all</td>\n",
       "    </tr>\n",
       "    <tr>\n",
       "      <th>5</th>\n",
       "      <td>none</td>\n",
       "      <td>none</td>\n",
       "      <td>3.104265</td>\n",
       "      <td>4</td>\n",
       "      <td>none</td>\n",
       "      <td>single</td>\n",
       "      <td>2.935288</td>\n",
       "      <td>single_pretrained_0_none_none_none_nohfreeze</td>\n",
       "      <td>0</td>\n",
       "      <td>NaN</td>\n",
       "      <td>NaN</td>\n",
       "      <td>NaN</td>\n",
       "      <td>NaN</td>\n",
       "      <td>0.219201</td>\n",
       "      <td>NaN</td>\n",
       "      <td>pretrained</td>\n",
       "      <td>0.481152</td>\n",
       "      <td>all</td>\n",
       "    </tr>\n",
       "    <tr>\n",
       "      <th>10</th>\n",
       "      <td>concatenate</td>\n",
       "      <td>cls</td>\n",
       "      <td>3.317710</td>\n",
       "      <td>4</td>\n",
       "      <td>none</td>\n",
       "      <td>author</td>\n",
       "      <td>3.142743</td>\n",
       "      <td>author_pretrained_0_none_cls_concatenate_nohfr...</td>\n",
       "      <td>0</td>\n",
       "      <td>NaN</td>\n",
       "      <td>NaN</td>\n",
       "      <td>NaN</td>\n",
       "      <td>NaN</td>\n",
       "      <td>0.218369</td>\n",
       "      <td>NaN</td>\n",
       "      <td>pretrained</td>\n",
       "      <td>0.451863</td>\n",
       "      <td>all</td>\n",
       "    </tr>\n",
       "  </tbody>\n",
       "</table>\n",
       "</div>"
      ],
      "text/plain": [
       "    aggregation context_agg   entropy epoch frozen grouping      loss  \\\n",
       "1   concatenate         cls  4.861188     0   none   author  4.657852   \n",
       "6          none        none  4.822755     0   none   single  4.621348   \n",
       "11  concatenate         cls  5.064014     0   none   author  4.863465   \n",
       "15         none        none  4.990062     0   none   single  4.794620   \n",
       "4   concatenate         cls  3.603307     1   none   author  3.458576   \n",
       "9          none        none  3.575036     1   none   single  3.436929   \n",
       "14  concatenate         cls  3.832283     1   none   author  3.678200   \n",
       "2   concatenate         cls  3.325810     2   none   author  3.182077   \n",
       "7          none        none  3.307324     2   none   single  3.168573   \n",
       "12  concatenate         cls  3.520035     2   none   author  3.368278   \n",
       "3   concatenate         cls  3.186169     3   none   author  3.026236   \n",
       "8          none        none  3.173218     3   none   single  3.017828   \n",
       "13  concatenate         cls  3.377093     3   none   author  3.214775   \n",
       "0   concatenate         cls  3.109236     4   none   author  2.929053   \n",
       "5          none        none  3.104265     4   none   single  2.935288   \n",
       "10  concatenate         cls  3.317710     4   none   author  3.142743   \n",
       "\n",
       "                                             model_id n_added  test_entropy  \\\n",
       "1   author_pretrained_0_none_cls_concatenate_nohfr...       0      3.923773   \n",
       "6        single_pretrained_0_none_none_none_nohfreeze       0      3.839111   \n",
       "11  author_pretrained_0_none_cls_concatenate_nohfr...       0      4.253886   \n",
       "15       single_pretrained_0_none_none_none_nohfreeze       0           NaN   \n",
       "4   author_pretrained_0_none_cls_concatenate_nohfr...       0      3.431809   \n",
       "9        single_pretrained_0_none_none_none_nohfreeze       0      3.473948   \n",
       "14  author_pretrained_0_none_cls_concatenate_nohfr...       0      3.623157   \n",
       "2   author_pretrained_0_none_cls_concatenate_nohfr...       0      3.260971   \n",
       "7        single_pretrained_0_none_none_none_nohfreeze       0      3.287393   \n",
       "12  author_pretrained_0_none_cls_concatenate_nohfr...       0      3.423834   \n",
       "3   author_pretrained_0_none_cls_concatenate_nohfr...       0      3.175696   \n",
       "8        single_pretrained_0_none_none_none_nohfreeze       0      3.144744   \n",
       "13  author_pretrained_0_none_cls_concatenate_nohfr...       0      3.381579   \n",
       "0   author_pretrained_0_none_cls_concatenate_nohfr...       0      3.101067   \n",
       "5        single_pretrained_0_none_none_none_nohfreeze       0           NaN   \n",
       "10  author_pretrained_0_none_cls_concatenate_nohfr...       0           NaN   \n",
       "\n",
       "    test_loss  test_sd_entropy  test_sd_loss  test_sd_true  test_true  \\\n",
       "1    3.689369         1.208667      1.525907      0.219044   0.386888   \n",
       "6    3.668033         1.181854      1.525859      0.219077   0.389547   \n",
       "11   3.931571         1.219915      1.525396      0.212238   0.354914   \n",
       "15        NaN              NaN           NaN      0.214405        NaN   \n",
       "4    3.294079         1.191731      1.517552      0.215563   0.436223   \n",
       "9    3.278178         1.183129      1.501692      0.215364   0.436478   \n",
       "14   3.488340         1.168284      1.519992      0.213924   0.408021   \n",
       "2    3.104895         1.177662      1.508301      0.217626   0.459787   \n",
       "7    3.098904         1.185150      1.498498      0.217957   0.460034   \n",
       "12   3.292213         1.157066      1.508863      0.215958   0.432742   \n",
       "3    2.994197         1.183294      1.485852      0.218766   0.474233   \n",
       "8    2.986303         1.168798      1.488548      0.218817   0.474161   \n",
       "13   3.175060         1.175087      1.488106      0.217562   0.447712   \n",
       "0    2.932650         1.181453      1.485023      0.219181   0.482568   \n",
       "5         NaN              NaN           NaN      0.219201        NaN   \n",
       "10        NaN              NaN           NaN      0.218369        NaN   \n",
       "\n",
       "       trained      true fine_tune  \n",
       "1   pretrained  0.284043       all  \n",
       "6   pretrained  0.287440       all  \n",
       "11  pretrained  0.258741       all  \n",
       "15  pretrained  0.267552       all  \n",
       "4   pretrained  0.415563       all  \n",
       "9   pretrained  0.417511       all  \n",
       "14  pretrained  0.385089       all  \n",
       "2   pretrained  0.449895       all  \n",
       "7   pretrained  0.450543       all  \n",
       "12  pretrained  0.422408       all  \n",
       "3   pretrained  0.469716       all  \n",
       "8   pretrained  0.469810       all  \n",
       "13  pretrained  0.442472       all  \n",
       "0   pretrained  0.482563       all  \n",
       "5   pretrained  0.481152       all  \n",
       "10  pretrained  0.451863       all  "
      ]
     },
     "execution_count": 240,
     "metadata": {},
     "output_type": "execute_result"
    }
   ],
   "source": [
    "adf.sort_values(by='epoch')"
   ]
  },
  {
   "cell_type": "code",
   "execution_count": null,
   "metadata": {},
   "outputs": [],
   "source": []
  }
 ],
 "metadata": {
  "kernelspec": {
   "display_name": "dl_test",
   "language": "python",
   "name": "dl_test"
  },
  "language_info": {
   "codemirror_mode": {
    "name": "ipython",
    "version": 3
   },
   "file_extension": ".py",
   "mimetype": "text/x-python",
   "name": "python",
   "nbconvert_exporter": "python",
   "pygments_lexer": "ipython3",
   "version": "3.8.10"
  }
 },
 "nbformat": 4,
 "nbformat_minor": 4
}
