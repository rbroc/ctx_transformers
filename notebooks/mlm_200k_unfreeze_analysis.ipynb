{
 "cells": [
  {
   "cell_type": "code",
   "execution_count": 47,
   "metadata": {},
   "outputs": [],
   "source": [
    "import gzip\n",
    "import json\n",
    "import glob\n",
    "import random\n",
    "import tensorflow as tf\n",
    "import os\n",
    "import numpy as np\n",
    "import seaborn as sns\n",
    "from matplotlib import pyplot as plt\n",
    "import pandas as pd\n",
    "from reddit.models import BatchTransformerForContextMLM\n",
    "from transformers import TFDistilBertForMaskedLM, DistilBertTokenizer\n",
    "from reddit.utils import load_tfrecord, mask_and_stack_mlm"
   ]
  },
  {
   "cell_type": "code",
   "execution_count": 48,
   "metadata": {},
   "outputs": [],
   "source": [
    "os.environ['CUDA_VISIBLE_DEVICES'] = \"-1\""
   ]
  },
  {
   "cell_type": "code",
   "execution_count": 49,
   "metadata": {},
   "outputs": [],
   "source": [
    "pattern_1 = '../logs/mlm/10context_biencoder_3_1_attention/*/metrics/*/mlm/*/log.json'\n",
    "fs = glob.glob(pattern_1)"
   ]
  },
  {
   "cell_type": "code",
   "execution_count": 50,
   "metadata": {},
   "outputs": [],
   "source": [
    "colors = dict(zip([f'epoch-{e}' for e in range(5)],\n",
    "                  ['darkgrey', 'lightblue', \n",
    "                   'darkblue', 'midnightblue', \n",
    "                   'black']))"
   ]
  },
  {
   "cell_type": "code",
   "execution_count": null,
   "metadata": {},
   "outputs": [
    {
     "name": "stderr",
     "output_type": "stream",
     "text": [
      "<ipython-input-51-c70f41e91249>:6: RuntimeWarning: Mean of empty slice\n",
      "  avg_loss = np.nanmean(d['test_losses'])\n",
      "<ipython-input-51-c70f41e91249>:7: RuntimeWarning: Mean of empty slice\n",
      "  avg_entropy = np.nanmean(d['test_entropy'])\n",
      "<ipython-input-51-c70f41e91249>:8: RuntimeWarning: Mean of empty slice\n",
      "  avg_true = np.nanmean(d['test_is_true_top'])\n",
      "/home/roberta/.local/lib/python3.8/site-packages/numpy/lib/nanfunctions.py:1664: RuntimeWarning: Degrees of freedom <= 0 for slice.\n",
      "  var = nanvar(a, axis=axis, dtype=dtype, out=out, ddof=ddof,\n",
      "/home/roberta/.local/lib/python3.8/site-packages/numpy/core/fromnumeric.py:3372: RuntimeWarning: Mean of empty slice.\n",
      "  return _methods._mean(a, axis=axis, dtype=dtype,\n",
      "/home/roberta/.local/lib/python3.8/site-packages/numpy/core/_methods.py:170: RuntimeWarning: invalid value encountered in double_scalars\n",
      "  ret = ret.dtype.type(ret / rcount)\n",
      "/home/roberta/.local/lib/python3.8/site-packages/seaborn/relational.py:514: MatplotlibDeprecationWarning: Saw kwargs ['c', 'color'] which are all aliases for 'color'.  Kept value from 'color'.  Passing multiple aliases for the same property will raise a TypeError in 3.3.\n",
      "  line, = ax.plot([], [], **kws)\n",
      "/home/roberta/.local/lib/python3.8/site-packages/seaborn/relational.py:529: MatplotlibDeprecationWarning: Saw kwargs ['c', 'color'] which are all aliases for 'color'.  Kept value from 'color'.  Passing multiple aliases for the same property will raise a TypeError in 3.3.\n",
      "  line, = ax.plot(x, y, **kws)\n",
      "/home/roberta/.local/lib/python3.8/site-packages/numpy/core/fromnumeric.py:3372: RuntimeWarning: Mean of empty slice.\n",
      "  return _methods._mean(a, axis=axis, dtype=dtype,\n",
      "/home/roberta/.local/lib/python3.8/site-packages/numpy/core/_methods.py:170: RuntimeWarning: invalid value encountered in double_scalars\n",
      "  ret = ret.dtype.type(ret / rcount)\n",
      "/home/roberta/.local/lib/python3.8/site-packages/seaborn/relational.py:514: MatplotlibDeprecationWarning: Saw kwargs ['c', 'color'] which are all aliases for 'color'.  Kept value from 'color'.  Passing multiple aliases for the same property will raise a TypeError in 3.3.\n",
      "  line, = ax.plot([], [], **kws)\n",
      "/home/roberta/.local/lib/python3.8/site-packages/seaborn/relational.py:529: MatplotlibDeprecationWarning: Saw kwargs ['c', 'color'] which are all aliases for 'color'.  Kept value from 'color'.  Passing multiple aliases for the same property will raise a TypeError in 3.3.\n",
      "  line, = ax.plot(x, y, **kws)\n"
     ]
    }
   ],
   "source": [
    "c = 0\n",
    "fg, ax = plt.subplots(figsize=(20,10))\n",
    "for idx, f in enumerate(fs):\n",
    "    \n",
    "    d = json.load(open(f))\n",
    "    avg_loss = np.nanmean(d['test_losses'])\n",
    "    avg_entropy = np.nanmean(d['test_entropy'])\n",
    "    avg_true = np.nanmean(d['test_is_true_top'])\n",
    "    # Get ds of test metrics\n",
    "    sd_loss = np.nanstd(d['test_losses'])\n",
    "    sd_entropy = np.nanstd(d['test_entropy'])\n",
    "    sd_true = np.nanstd(d['is_true_top'])\n",
    "    # Get other metrics with rolling average\n",
    "    loss = np.nanmean(d['losses'])\n",
    "    entropy  = np.nanmean(d['entropy'])\n",
    "    true = np.nanmean(d['is_true_top'])\n",
    "    epoch = f.split('/')[-2]\n",
    "\n",
    "    dict_log = {'epoch':[epoch], \n",
    "                'grouping': [f.split('/')[4]],\n",
    "                 'test_loss': [avg_loss],\n",
    "                 'test_entropy': [avg_entropy],\n",
    "                 'test_true': [avg_true],\n",
    "                 'test_sd_loss': [sd_loss],\n",
    "                 'test_sd_entropy': [sd_entropy],\n",
    "                 'test_sd_true': [sd_true],\n",
    "                 'loss': [loss],\n",
    "                 'entropy': [entropy],\n",
    "                 'true': [true],\n",
    "                 'model_id': f.split('/')[-4],\n",
    "                 'folder': f.split('/')[3]}\n",
    "\n",
    "    sns.lineplot(x=range(len(np.arange(0, 1000000, 2000))), \n",
    "                 y=[np.mean(d['is_true_top'][i:i+2000]) for i in np.arange(0, 1000000, 2000)],\n",
    "                 label='_'.join([f.split('/')[4], f.split('/')[-4]]),\n",
    "                 legend=True, c=colors[epoch])\n",
    "    plt.axhline(y=avg_true, c=colors[epoch], linestyle='--')\n",
    "    \n",
    "    # Make into df\n",
    "    df = pd.DataFrame(dict_log)\n",
    "    if c == 0:\n",
    "        adf = df \n",
    "    else:\n",
    "        adf = pd.concat([adf, df], ignore_index=True, sort=True)\n",
    "    c+=1"
   ]
  },
  {
   "cell_type": "code",
   "execution_count": null,
   "metadata": {},
   "outputs": [],
   "source": []
  }
 ],
 "metadata": {
  "kernelspec": {
   "display_name": "Python 3",
   "language": "python",
   "name": "python3"
  },
  "language_info": {
   "codemirror_mode": {
    "name": "ipython",
    "version": 3
   },
   "file_extension": ".py",
   "mimetype": "text/x-python",
   "name": "python",
   "nbconvert_exporter": "python",
   "pygments_lexer": "ipython3",
   "version": "3.8.10"
  }
 },
 "nbformat": 4,
 "nbformat_minor": 4
}
