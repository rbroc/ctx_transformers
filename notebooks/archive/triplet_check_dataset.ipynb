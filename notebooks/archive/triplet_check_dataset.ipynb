{
 "cells": [
  {
   "cell_type": "code",
   "execution_count": 32,
   "metadata": {},
   "outputs": [],
   "source": [
    "import gzip\n",
    "import json\n",
    "import glob\n",
    "import random\n",
    "import tensorflow as tf\n",
    "import os\n",
    "import seaborn as sns\n",
    "from matplotlib import pyplot as plt\n",
    "from reddit.utils import load_tfrecord"
   ]
  },
  {
   "cell_type": "code",
   "execution_count": null,
   "metadata": {},
   "outputs": [],
   "source": [
    "os.environ['CUDA_VISIBLE_DEVICES'] = \"-1\""
   ]
  },
  {
   "cell_type": "markdown",
   "metadata": {},
   "source": [
    "## Check subreddit overlap between anchor and examples"
   ]
  },
  {
   "cell_type": "code",
   "execution_count": 2,
   "metadata": {},
   "outputs": [],
   "source": [
    "fs = glob.glob('../reddit/data/json/triplet/1pos_1neg_random/*')"
   ]
  },
  {
   "cell_type": "code",
   "execution_count": 3,
   "metadata": {},
   "outputs": [
    {
     "name": "stdout",
     "output_type": "stream",
     "text": [
      "0 of 171\n",
      "1 of 171\n",
      "2 of 171\n",
      "3 of 171\n",
      "4 of 171\n",
      "5 of 171\n",
      "6 of 171\n",
      "7 of 171\n",
      "8 of 171\n",
      "9 of 171\n",
      "10 of 171\n",
      "11 of 171\n",
      "12 of 171\n",
      "13 of 171\n",
      "14 of 171\n",
      "15 of 171\n",
      "16 of 171\n",
      "17 of 171\n",
      "18 of 171\n",
      "19 of 171\n",
      "20 of 171\n",
      "21 of 171\n",
      "22 of 171\n",
      "23 of 171\n",
      "24 of 171\n",
      "25 of 171\n",
      "26 of 171\n",
      "27 of 171\n",
      "28 of 171\n",
      "29 of 171\n",
      "30 of 171\n",
      "31 of 171\n",
      "32 of 171\n",
      "33 of 171\n",
      "34 of 171\n",
      "35 of 171\n",
      "36 of 171\n",
      "37 of 171\n",
      "38 of 171\n",
      "39 of 171\n",
      "40 of 171\n",
      "41 of 171\n",
      "42 of 171\n",
      "43 of 171\n",
      "44 of 171\n",
      "45 of 171\n",
      "46 of 171\n",
      "47 of 171\n",
      "48 of 171\n",
      "49 of 171\n",
      "50 of 171\n",
      "51 of 171\n",
      "52 of 171\n",
      "53 of 171\n",
      "54 of 171\n",
      "55 of 171\n",
      "56 of 171\n",
      "57 of 171\n",
      "58 of 171\n",
      "59 of 171\n",
      "60 of 171\n",
      "61 of 171\n",
      "62 of 171\n",
      "63 of 171\n",
      "64 of 171\n",
      "65 of 171\n",
      "66 of 171\n",
      "67 of 171\n",
      "68 of 171\n",
      "69 of 171\n",
      "70 of 171\n",
      "71 of 171\n",
      "72 of 171\n",
      "73 of 171\n",
      "74 of 171\n",
      "75 of 171\n",
      "76 of 171\n",
      "77 of 171\n",
      "78 of 171\n",
      "79 of 171\n",
      "80 of 171\n",
      "81 of 171\n",
      "82 of 171\n",
      "83 of 171\n",
      "84 of 171\n",
      "85 of 171\n",
      "86 of 171\n",
      "87 of 171\n",
      "88 of 171\n",
      "89 of 171\n",
      "90 of 171\n",
      "91 of 171\n",
      "92 of 171\n",
      "93 of 171\n",
      "94 of 171\n",
      "95 of 171\n",
      "96 of 171\n",
      "97 of 171\n",
      "98 of 171\n",
      "99 of 171\n",
      "100 of 171\n",
      "101 of 171\n",
      "102 of 171\n",
      "103 of 171\n",
      "104 of 171\n",
      "105 of 171\n",
      "106 of 171\n",
      "107 of 171\n",
      "108 of 171\n",
      "109 of 171\n",
      "110 of 171\n",
      "111 of 171\n",
      "112 of 171\n",
      "113 of 171\n",
      "114 of 171\n",
      "115 of 171\n",
      "116 of 171\n",
      "117 of 171\n",
      "118 of 171\n",
      "119 of 171\n",
      "120 of 171\n",
      "121 of 171\n",
      "122 of 171\n",
      "123 of 171\n",
      "124 of 171\n",
      "125 of 171\n",
      "126 of 171\n",
      "127 of 171\n",
      "128 of 171\n",
      "129 of 171\n",
      "130 of 171\n",
      "131 of 171\n",
      "132 of 171\n",
      "133 of 171\n",
      "134 of 171\n",
      "135 of 171\n",
      "136 of 171\n",
      "137 of 171\n",
      "138 of 171\n",
      "139 of 171\n",
      "140 of 171\n",
      "141 of 171\n",
      "142 of 171\n",
      "143 of 171\n",
      "144 of 171\n",
      "145 of 171\n",
      "146 of 171\n",
      "147 of 171\n",
      "148 of 171\n",
      "149 of 171\n",
      "150 of 171\n",
      "151 of 171\n",
      "152 of 171\n",
      "153 of 171\n",
      "154 of 171\n",
      "155 of 171\n",
      "156 of 171\n",
      "157 of 171\n",
      "158 of 171\n",
      "159 of 171\n",
      "160 of 171\n",
      "161 of 171\n",
      "162 of 171\n",
      "163 of 171\n",
      "164 of 171\n",
      "165 of 171\n",
      "166 of 171\n",
      "167 of 171\n",
      "168 of 171\n",
      "169 of 171\n",
      "170 of 171\n"
     ]
    }
   ],
   "source": [
    "user_count = 0\n",
    "trues = 0\n",
    "neg_trues = 0\n",
    "for idx, f in enumerate(fs):\n",
    "    print(f'{idx} of {len(fs)}')\n",
    "    lst = json.load(gzip.open(f))\n",
    "    user_count += len(lst)\n",
    "    for l in lst:\n",
    "        overlap = all([ps in l['anchor_subreddits'] \n",
    "                       for ps in l['positive_subreddits']])\n",
    "        neg_overlap = all([ns in l['anchor_subreddits'] \n",
    "                           for ns in l['negative_subreddits']])\n",
    "                    \n",
    "        if overlap is True:\n",
    "            trues += 1\n",
    "        if neg_overlap is True:\n",
    "            neg_trues += 1\n",
    "\n"
   ]
  },
  {
   "cell_type": "code",
   "execution_count": 4,
   "metadata": {},
   "outputs": [
    {
     "name": "stdout",
     "output_type": "stream",
     "text": [
      "Positive subreddit in anchor\n",
      "0.47425253498320746\n",
      "Negative subreddit in anchor\n",
      "0.006584075357005865\n"
     ]
    }
   ],
   "source": [
    "print('Positive subreddit in anchor')\n",
    "print(trues/user_count)\n",
    "print('Negative subreddit in anchor')\n",
    "print(neg_trues/user_count)"
   ]
  },
  {
   "cell_type": "markdown",
   "metadata": {},
   "source": [
    "## Human baseline"
   ]
  },
  {
   "cell_type": "code",
   "execution_count": 20,
   "metadata": {},
   "outputs": [
    {
     "name": "stdout",
     "output_type": "stream",
     "text": [
      "***** Anchor ****\n",
      "\n",
      "From 2018-2019 the US cost of living adjustment for SOCIAL SECURITY was 2.8%. The standard for working individuals should be higher. All 3% means is I can continue buying the same bread as I did last year and not have to switch to Great Value brand\n",
      "I'm 27 now, live in a RITA state. I the last 8 years was plagued with untreated mental illness, alcohol addiction, and living in homeless shelters or the rare friendly couch. During this period I held around 20 different jobs for no longer than 6 months each. Presently, I've been clean and sober for 3 years, repaired most frayed relationships, have held my current job for a year and a half, am mentally stable(enough) from therapy and medications, and renting to own a house with a beautiful woman\n",
      "Title says it all. I work a technician job in a hospital. A senior tech position recently opened up but was just given to one of my coworkers without any formal process and without posting the position for the rest of us techs to apply to. Everyone in my department is super bummed and all morale is lost. The person who received the position got it by being a huge kiss ass, and isn’t the most qualified for the new position. Would this be considered a form of nepotism or discrimination or anything\n",
      "First off, I don't watch football. My point is that I've never heard any sports network or online communities talk about wanting this. It was an idea that started on social media by nerds and fans of a cartoon program. If Maroon 5 wanted to pay their tribute they shouldn't do it on a platform built for drunken middle aged people watching a gladiator battle. This is all said with complete respect to Spongebob and it's beloved creator, the NFL, a d Maroon 5. Thank you Edit: To all those expressing\n",
      "Just moved to a suburb of Cleveland. Winter sucks. I went to the grocery store today just to have a small conversation with the cashier. Came home and looked into the mirror to make sure I still exist.\n",
      "My girlfriend was having a lousy day today. I thought I’d be romantic and buy her some flowers. I picked out a bouquet fully of beautiful summer flowers. My favorite flower is the Stargazer Lily and I was elated the florist had them so I added those and a few other colors of lily. I got home, presented her with her flowers. It made her very happy but then she asked me if any of these were poisonous to cats, as we have 2. She googles the question and sure enough lily is the number one answer on j\n",
      "I have plenty of local chocolate and candy shops, old fashioned taffy,etc around me. I am looking to taste flavors and different treats from around the world.\n",
      "My favorite for steel pipe: If it's seized up, try tightening a smidge, it should loosen a lot easier after.\n",
      "I give them each one of those single serve things with the foil lid for dinner. But lately they will beg for dinner and then just kinda leave it in their bowls and walk away.\n",
      "I see a lot of venting about being lonely on here. I see a lot of good advice on how to meet people with similar interests and whatnot, but nobody offering solutions, just advice. So, if anyone is around the Cleveland area and wants to actually hang out with a human being(you know, the cure for loneliness) hit me up and we’ll find something fun to do. The more the merrier!\n",
      "It just rubbed me the wrong way and I can't shake it. Why does Mickey Mouse need my finger print? Seems excessive. I asked and they just said its normal protocol. Normally it wouldn't irk me as much but you never know what you can trust nowadays. Let me know what you think!\n",
      "She's just a super nice lady and she looked very sad about and I'd like to make sure she doesn't get screwed lol Edit: Cleveland, Ohio\n",
      "['From 2018-2019 the US cost of living adjustment for SOCIAL SECURITY was 2.8%. The standard for working individuals should be higher. All 3% means is I can continue buying the same bread as I did last year and not have to switch to Great Value brand', \"I'm 27 now, live in a RITA state. I the last 8 years was plagued with untreated mental illness, alcohol addiction, and living in homeless shelters or the rare friendly couch. During this period I held around 20 different jobs for no longer than 6 months each. Presently, I've been clean and sober for 3 years, repaired most frayed relationships, have held my current job for a year and a half, am mentally stable(enough) from therapy and medications, and renting to own a house with a beautiful woman who accepts my past. So I've been making strides reintegrating myself back into society, however I fear all these back taxes will catch up with me and it would devastate my entire world if I went to jail or something. Any advice would be greatly appreciated. Thanks a lot everyone!\", 'Title says it all. I work a technician job in a hospital. A senior tech position recently opened up but was just given to one of my coworkers without any formal process and without posting the position for the rest of us techs to apply to. Everyone in my department is super bummed and all morale is lost. The person who received the position got it by being a huge kiss ass, and isn’t the most qualified for the new position. Would this be considered a form of nepotism or discrimination or anything I can take to HR or a lawyer?', \"First off, I don't watch football. My point is that I've never heard any sports network or online communities talk about wanting this. It was an idea that started on social media by nerds and fans of a cartoon program. If Maroon 5 wanted to pay their tribute they shouldn't do it on a platform built for drunken middle aged people watching a gladiator battle. This is all said with complete respect to Spongebob and it's beloved creator, the NFL, a d Maroon 5. Thank you Edit: To all those expressing displeasure with what I'm saying, answer me this: Are you watching the game today?\", 'Just moved to a suburb of Cleveland. Winter sucks. I went to the grocery store today just to have a small conversation with the cashier. Came home and looked into the mirror to make sure I still exist.', 'My girlfriend was having a lousy day today. I thought I’d be romantic and buy her some flowers. I picked out a bouquet fully of beautiful summer flowers. My favorite flower is the Stargazer Lily and I was elated the florist had them so I added those and a few other colors of lily. I got home, presented her with her flowers. It made her very happy but then she asked me if any of these were poisonous to cats, as we have 2. She googles the question and sure enough lily is the number one answer on just about every website. The flowers are now on the patio, I feel dumb, but all of this was enough to really make her laugh at my sitcom style minor misfortunes and get in a better mood, so I guess they did the job, but an unnecessary scare nonetheless. Ps. The cats are fine :)', 'I have plenty of local chocolate and candy shops, old fashioned taffy,etc around me. I am looking to taste flavors and different treats from around the world.', \"My favorite for steel pipe: If it's seized up, try tightening a smidge, it should loosen a lot easier after.\", 'I give them each one of those single serve things with the foil lid for dinner. But lately they will beg for dinner and then just kinda leave it in their bowls and walk away.', 'I see a lot of venting about being lonely on here. I see a lot of good advice on how to meet people with similar interests and whatnot, but nobody offering solutions, just advice. So, if anyone is around the Cleveland area and wants to actually hang out with a human being(you know, the cure for loneliness) hit me up and we’ll find something fun to do. The more the merrier!', \"It just rubbed me the wrong way and I can't shake it. Why does Mickey Mouse need my finger print? Seems excessive. I asked and they just said its normal protocol. Normally it wouldn't irk me as much but you never know what you can trust nowadays. Let me know what you think!\", \"She's just a super nice lady and she looked very sad about and I'd like to make sure she doesn't get screwed lol Edit: Cleveland, Ohio\"]\n",
      "\n",
      "***** Example 1 *****\n",
      "\n",
      "I am Korean American and I am kind of an odd Christian. I had weird experiences in my life. Anyways that hasn't stopped me from getting some attention from girls. In one of my classes I had a girl smile to me in second day of class and I smiled at her because she's pretty attractive, but... I thought she wouldn't be a virgin... and I AM A VIRGIN. And.... I plan on marrying a virgin... or trying to. Anyways... I didn't want to flirt with her and then ask her if your a virgin... (Please do not get\n",
      "\n",
      "***** Example 2 *****\n",
      "\n",
      "I'm writing this because of the hostile interactions I've had with adoption agencies. I ask them, since I live on the 9th story and there is literally no way for my cat to escape, why did his balls need to be chopped off? He has tons of room to run around and play and it just feels unnecessary. They told me it's for their health. That it helps protect against cancer and other diseases. My response was Well of course, you can't get testicular cancer without testicles. I'm all for not being over p\n",
      "*****\n",
      "\n"
     ]
    }
   ],
   "source": [
    "lst = json.load(gzip.open(random.sample(fs, 1)[0]))\n",
    "samples = random.sample(lst, 1)\n",
    "reverse = random.sample(range(len(lst)), int(len(lst)/2))\n",
    "for idx, s in enumerate(samples):\n",
    "    print('***** Anchor ****\\n')\n",
    "    for a in s['anchor']:\n",
    "        print(a[:500])\n",
    "    print(s['anchor'])\n",
    "    print('\\n***** Example 1 *****\\n')\n",
    "    if idx in reverse:\n",
    "        print(s['negative'][0][:500])\n",
    "        print('\\n***** Example 2 *****\\n')\n",
    "        print(s['positive'][0][:500])\n",
    "    else:\n",
    "        print(s['positive'][0][:500])\n",
    "        print('\\n***** Example 2 *****\\n')\n",
    "        print(s['negative'][0][:500])\n",
    "    print('*****\\n')\n"
   ]
  },
  {
   "cell_type": "markdown",
   "metadata": {},
   "source": [
    "### Look into sentence length"
   ]
  },
  {
   "cell_type": "code",
   "execution_count": 2,
   "metadata": {},
   "outputs": [],
   "source": [
    "from reddit.utils import load_tfrecord"
   ]
  },
  {
   "cell_type": "code",
   "execution_count": 5,
   "metadata": {},
   "outputs": [],
   "source": [
    "ds = load_tfrecord(glob.glob('../reddit/data/datasets/triplet/1pos_1neg_random/*'))"
   ]
  },
  {
   "cell_type": "code",
   "execution_count": 47,
   "metadata": {},
   "outputs": [
    {
     "name": "stdout",
     "output_type": "stream",
     "text": [
      "100000\n",
      "200000\n",
      "300000\n",
      "400000\n",
      "500000\n",
      "600000\n",
      "700000\n",
      "800000\n",
      "900000\n",
      "1000000\n",
      "1100000\n",
      "1200000\n",
      "1300000\n",
      "1400000\n",
      "1500000\n",
      "1600000\n",
      "1700000\n"
     ]
    }
   ],
   "source": [
    "zeros = []\n",
    "for idx, e in enumerate(ds):\n",
    "    if (idx + 1) % 100000 == 0:\n",
    "        print(idx + 1)\n",
    "    zeros += tf.math.count_nonzero(e['iids'], axis=1).numpy().tolist()"
   ]
  },
  {
   "cell_type": "code",
   "execution_count": 48,
   "metadata": {},
   "outputs": [
    {
     "data": {
      "image/png": "[encoded data removed]",
      "text/plain": [
       "<Figure size 1080x504 with 1 Axes>"
      ]
     },
     "metadata": {
      "needs_background": "light"
     },
     "output_type": "display_data"
    }
   ],
   "source": [
    "plt.figure(figsize=(15,7))\n",
    "sns.histplot(zeros)\n",
    "plt.xlabel('n_posts')\n",
    "plt.ylabel('count')\n",
    "plt.show()"
   ]
  }
 ],
 "metadata": {
  "kernelspec": {
   "display_name": "dl_test",
   "language": "python",
   "name": "dl_test"
  },
  "language_info": {
   "codemirror_mode": {
    "name": "ipython",
    "version": 3
   },
   "file_extension": ".py",
   "mimetype": "text/x-python",
   "name": "python",
   "nbconvert_exporter": "python",
   "pygments_lexer": "ipython3",
   "version": "3.8.10"
  }
 },
 "nbformat": 4,
 "nbformat_minor": 4
}
